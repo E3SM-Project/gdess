{
 "cells": [
  {
   "cell_type": "markdown",
   "id": "f8ce41a5-88c5-430f-aa39-a247c0f7a513",
   "metadata": {
    "pycharm": {
     "name": "#%% md\n"
    }
   },
   "source": [
    "# Meridional gradient recipe demo\n",
    "\n",
    "This notebook illustrates basic usage of the meridional gradient recipe. \n",
    "\n",
    "**Note** that the first example can be run with just the data contained in the tests directory, but the following examples require downloading more data from the NOAA GML Obspack, as described in the gdess README.\n",
    "<br>\n",
    "<br>\n",
    "\n",
    "\n",
    "**References:**\n",
    "\n",
    "For further reference, one can explore data visualization similar to these examples in Keppel-Aleks et al. (2013), Figure 3 and in Ott et al. (2015), Figure 6.\n",
    "\n",
    "*Keppel-Aleks, G., Randerson, J.T., Lindsay, K., Stephens, B.B., Keith Moore, J., Doney, S.C., Thornton, P.E., Mahowald, N.M., Hoffman, F.M., Sweeney, C., Tans, P.P., Wennberg, P.O., Wofsy, S.C., 2013. Atmospheric Carbon Dioxide Variability in the Community Earth System Model: Evaluation and Transient Dynamics during the Twentieth and Twenty-First Centuries. J. Clim. 26, 4447–4475. https://doi.org/10.1175/JCLI-D-12-00589.1*\n",
    "\n",
    "*Ott, L.E., Pawson, S., Collatz, G.J., Gregg, W.W., Menemenlis, D., Brix, H., Rousseaux, C.S., Bowman, K.W., Liu, J., Eldering, A., Gunson, M.R., Kawa, S.R., 2015. Assessing the magnitude of CO2 flux uncertainty in atmospheric CO2 records using products from NASA’s Carbon Monitoring Flux Pilot Project. J. Geophys. Res. Atmos. 120, 734–765. https://doi.org/10.1002/2014JD022411*"
   ]
  },
  {
   "cell_type": "code",
   "execution_count": 1,
   "id": "7b4d480b-0352-4be2-9d31-fc13e6ed1143",
   "metadata": {
    "pycharm": {
     "name": "#%%\n"
    }
   },
   "outputs": [],
   "source": [
    "from gdess.recipes import meridional_gradient"
   ]
  },
  {
   "cell_type": "markdown",
   "id": "f84358fe-66cd-46ec-ad86-53f4a786cf4a",
   "metadata": {
    "pycharm": {
     "name": "#%% md\n"
    }
   },
   "source": [
    "#### Two stations"
   ]
  },
  {
   "cell_type": "code",
   "execution_count": 2,
   "id": "351c35ca-cc33-4def-a43c-d6857649ffb8",
   "metadata": {
    "pycharm": {
     "name": "#%%\n"
    }
   },
   "outputs": [],
   "source": [
    "recipe_options={'model_name': 'BCC.esm-hist',\n",
    "                'start_yr': \"1980\",\n",
    "                'end_yr': \"2015\",\n",
    "                'station_list': 'mlo smo brw spo'}"
   ]
  },
  {
   "cell_type": "code",
   "execution_count": 3,
   "id": "a40351a6-cf88-4983-9813-291f6393ec36",
   "metadata": {
    "pycharm": {
     "name": "#%%\n"
    }
   },
   "outputs": [
    {
     "name": "stdout",
     "output_type": "stream",
     "text": [
      "*Processing CMIP model output*\n",
      "[########################################] | 100% Completed |  6.5s\n",
      "*Processing Observations*\n",
      "Station 1 of 4: mlo\n",
      "  {'name': 'Mauna Loa, Hawaii', 'lat': 19.535954, 'lon': 204.42391967773438, 'alts': 3436.4846}\n",
      "Selected bounds for both:\n",
      "  -- time>=1980  &  time<=2015\n",
      "Selected bounds for Comparison dataset:\n",
      "  -- member_id=0\n",
      "  -- lat=19.62606908419931\n",
      "  -- lon=204.75\n",
      "Applying selected bounds...\n",
      "[########################################] | 100% Completed | 21.2s\n",
      "[########################################] | 100% Completed | 21.3s\n",
      "done.\n",
      "Station 2 of 4: smo\n",
      "  {'name': 'Tutuila', 'lat': -14.247013, 'lon': 189.43597412109375, 'alts': 57.66138}\n",
      "Selected bounds for both:\n",
      "  -- time>=1980  &  time<=2015\n",
      "Selected bounds for Comparison dataset:\n",
      "  -- member_id=0\n",
      "  -- lat=-14.01862217518597\n",
      "  -- lon=189.0\n",
      "Applying selected bounds...\n",
      "[########################################] | 100% Completed | 24.7s\n",
      "[########################################] | 100% Completed | 24.8s\n",
      "[########################################] | 100% Completed | 24.7s\n",
      "done.\n",
      "Station 3 of 4: brw\n",
      "  {'name': 'Barrow Atmospheric Baseline Observatory', 'lat': 71.32296, 'lon': 203.38917541503906, 'alts': 26.898216}\n",
      "Selected bounds for both:\n",
      "  -- time>=1980  &  time<=2015\n",
      "Selected bounds for Comparison dataset:\n",
      "  -- member_id=0\n",
      "  -- lat=71.21413607988697\n",
      "  -- lon=203.625\n",
      "Applying selected bounds...\n",
      "[########################################] | 100% Completed | 23.8s\n",
      "[########################################] | 100% Completed | 23.9s\n",
      "[########################################] | 100% Completed | 24.0s\n",
      "[########################################] | 100% Completed | 23.8s\n",
      "done.\n",
      "Station 4 of 4: spo\n",
      "  {'name': 'South Pole, Antarctica', 'lat': -89.979965, 'lon': 335.200008392334, 'alts': 2822.1704}\n",
      "Selected bounds for both:\n",
      "  -- time>=1980  &  time<=2015\n",
      "Selected bounds for Comparison dataset:\n",
      "  -- member_id=0\n",
      "  -- lat=-89.14151942646112\n",
      "  -- lon=335.25\n",
      "Applying selected bounds...\n",
      "[########################################] | 100% Completed | 21.8s\n",
      "[########################################] | 100% Completed | 21.9s\n",
      "[########################################] | 100% Completed | 22.0s\n",
      "[########################################] | 100% Completed | 22.1s\n",
      "[########################################] | 100% Completed | 22.0s\n",
      "done.\n",
      "Done -- 4 stations fully processed. 0 stations skipped.\n"
     ]
    },
    {
     "data": {
      "image/png": "[encoded data removed]",
      "text/plain": [
       "<Figure size 432x264.96 with 3 Axes>"
      ]
     },
     "metadata": {
      "needs_background": "light"
     },
     "output_type": "display_data"
    },
    {
     "data": {
      "image/png": "[encoded data removed]",
      "text/plain": [
       "<Figure size 432x264.96 with 3 Axes>"
      ]
     },
     "metadata": {
      "needs_background": "light"
     },
     "output_type": "display_data"
    },
    {
     "data": {
      "image/png": "[encoded data removed]",
      "text/plain": [
       "<Figure size 432x264.96 with 3 Axes>"
      ]
     },
     "metadata": {
      "needs_background": "light"
     },
     "output_type": "display_data"
    }
   ],
   "source": [
    "data_dict = meridional_gradient(recipe_options, verbose='INFO')"
   ]
  },
  {
   "cell_type": "markdown",
   "id": "e1629521",
   "metadata": {
    "pycharm": {
     "name": "#%% md\n"
    }
   },
   "source": [
    "**NOTE:** Cells below require downloading the NOAA GML Obspack, as described in the gdess README, because they use station data not included in the repository for testing."
   ]
  },
  {
   "cell_type": "markdown",
   "id": "7dc9a6d4-d0f8-499e-9928-24e3654c4b02",
   "metadata": {
    "pycharm": {
     "name": "#%% md\n"
    }
   },
   "source": [
    "#### Run specific stations"
   ]
  },
  {
   "cell_type": "markdown",
   "id": "b1e9e42a-af5c-4023-8cd4-346b026c1901",
   "metadata": {
    "pycharm": {
     "name": "#%% md\n"
    }
   },
   "source": [
    "###### with no binning"
   ]
  },
  {
   "cell_type": "code",
   "execution_count": 4,
   "id": "837adbf0-6912-4e87-8f63-4ab827f0acd4",
   "metadata": {
    "pycharm": {
     "name": "#%%\n"
    }
   },
   "outputs": [],
   "source": [
    "recipe_options={'model_name': 'GFDL.esm-hist',\n",
    "                'start_yr': \"1980\",\n",
    "                'end_yr': \"2015\",\n",
    "                'station_list': 'mlo est brw bnt smo spo'}"
   ]
  },
  {
   "cell_type": "code",
   "execution_count": 5,
   "id": "866ccfb6-846b-42cb-a509-c352e3167368",
   "metadata": {
    "pycharm": {
     "name": "#%%\n"
    }
   },
   "outputs": [
    {
     "name": "stdout",
     "output_type": "stream",
     "text": [
      "*Processing CMIP model output*\n",
      "[########################################] | 100% Completed |  6.5s\n",
      "[########################################] | 100% Completed |  6.6s\n",
      "[########################################] | 100% Completed |  6.7s\n",
      "[########################################] | 100% Completed |  6.8s\n",
      "[########################################] | 100% Completed |  6.9s\n",
      "[########################################] | 100% Completed |  6.9s\n",
      "*Processing Observations*\n",
      "Station 1 of 6: mlo\n",
      "  {'name': 'Mauna Loa, Hawaii', 'lat': 19.535954, 'lon': 204.42391967773438, 'alts': 3436.4846}\n",
      "Selected bounds for both:\n",
      "  -- time>=1980  &  time<=2015\n",
      "Selected bounds for Comparison dataset:\n",
      "  -- member_id=0\n",
      "  -- lat=19.5\n",
      "  -- lon=204.375\n",
      "Applying selected bounds...\n",
      "[########################################] | 100% Completed | 24.5s\n",
      "[########################################] | 100% Completed | 24.6s\n",
      "[########################################] | 100% Completed | 24.7s\n",
      "[########################################] | 100% Completed | 24.8s\n",
      "[########################################] | 100% Completed | 24.9s\n",
      "[########################################] | 100% Completed | 24.9s\n",
      "[########################################] | 100% Completed | 25.0s\n",
      "done.\n",
      "Station 2 of 6: est\n",
      "  {'name': 'Esther, Alberta', 'lat': 51.67071, 'lon': 249.79396057128906, 'alts': 751.4054}\n",
      "Selected bounds for both:\n",
      "  -- time>=1980  &  time<=2015\n",
      "Selected bounds for Comparison dataset:\n",
      "  -- member_id=0\n",
      "  -- lat=51.5\n",
      "  -- lon=249.37499999999997\n",
      "Applying selected bounds...\n",
      "[########################################] | 100% Completed |  4.7s\n",
      "[########################################] | 100% Completed |  4.7s\n",
      "[########################################] | 100% Completed |  4.8s\n",
      "[########################################] | 100% Completed |  4.9s\n",
      "[########################################] | 100% Completed |  5.0s\n",
      "[########################################] | 100% Completed |  5.1s\n",
      "[########################################] | 100% Completed |  5.1s\n",
      "[########################################] | 100% Completed |  5.2s\n",
      "done.\n",
      "Station 3 of 6: brw\n",
      "  {'name': 'Barrow Atmospheric Baseline Observatory', 'lat': 71.32296, 'lon': 203.38917541503906, 'alts': 26.898216}\n",
      "Selected bounds for both:\n",
      "  -- time>=1980  &  time<=2015\n",
      "Selected bounds for Comparison dataset:\n",
      "  -- member_id=0\n",
      "  -- lat=71.5\n",
      "  -- lon=203.125\n",
      "Applying selected bounds...\n",
      "[########################################] | 100% Completed | 24.7s\n",
      "[########################################] | 100% Completed | 24.7s\n",
      "[########################################] | 100% Completed | 24.8s\n",
      "[########################################] | 100% Completed | 24.9s\n",
      "[########################################] | 100% Completed | 25.0s\n",
      "[########################################] | 100% Completed | 25.1s\n",
      "[########################################] | 100% Completed | 25.1s\n",
      "[########################################] | 100% Completed | 25.2s\n",
      "[########################################] | 100% Completed | 25.3s\n",
      "done.\n",
      "Station 4 of 6: bnt\n",
      "  {'name': 'Bennett Island, Russia', 'lat': 76.2, 'lon': 149.5, 'alts': 1058.0952}\n",
      "Selected bounds for both:\n",
      "  -- time>=1980  &  time<=2015\n",
      "Selected bounds for Comparison dataset:\n",
      "  -- member_id=0\n",
      "  -- lat=76.5\n",
      "  -- lon=149.375\n",
      "Applying selected bounds...\n",
      "[########################################] | 100% Completed |  2.4s\n",
      "[########################################] | 100% Completed |  2.5s\n",
      "[########################################] | 100% Completed |  2.6s\n",
      "[########################################] | 100% Completed |  2.7s\n",
      "[########################################] | 100% Completed |  2.8s\n",
      "[########################################] | 100% Completed |  2.9s\n",
      "[########################################] | 100% Completed |  2.9s\n",
      "[########################################] | 100% Completed |  3.0s\n",
      "[########################################] | 100% Completed |  3.1s\n",
      "[########################################] | 100% Completed |  3.2s\n",
      "done.\n",
      "  skipping station <bnt>:   insufficient number of months of data for station <bnt>\n",
      "Station 4 of 5: smo\n",
      "  {'name': 'Tutuila', 'lat': -14.247013, 'lon': 189.43597412109375, 'alts': 57.66138}\n",
      "Selected bounds for both:\n",
      "  -- time>=1980  &  time<=2015\n",
      "Selected bounds for Comparison dataset:\n",
      "  -- member_id=0\n",
      "  -- lat=-14.500000000000002\n",
      "  -- lon=189.375\n",
      "Applying selected bounds...\n",
      "[########################################] | 100% Completed | 25.3s\n",
      "[########################################] | 100% Completed | 25.4s\n",
      "[########################################] | 100% Completed | 25.5s\n",
      "[########################################] | 100% Completed | 25.6s\n",
      "[########################################] | 100% Completed | 25.7s\n",
      "[########################################] | 100% Completed | 25.7s\n",
      "[########################################] | 100% Completed | 25.8s\n",
      "[########################################] | 100% Completed | 25.9s\n",
      "[########################################] | 100% Completed | 26.0s\n",
      "[########################################] | 100% Completed | 26.1s\n",
      "[########################################] | 100% Completed | 26.2s\n",
      "done.\n",
      "Station 5 of 5: spo\n",
      "  {'name': 'South Pole, Antarctica', 'lat': -89.979965, 'lon': 335.200008392334, 'alts': 2822.1704}\n",
      "Selected bounds for both:\n",
      "  -- time>=1980  &  time<=2015\n",
      "Selected bounds for Comparison dataset:\n",
      "  -- member_id=0\n",
      "  -- lat=-89.5\n",
      "  -- lon=335.625\n",
      "Applying selected bounds...\n",
      "[########################################] | 100% Completed | 25.9s\n",
      "[########################################] | 100% Completed | 26.0s\n",
      "[########################################] | 100% Completed | 26.1s\n",
      "[########################################] | 100% Completed | 26.2s\n",
      "[########################################] | 100% Completed | 26.3s\n",
      "[########################################] | 100% Completed | 26.4s\n",
      "[########################################] | 100% Completed | 26.5s\n",
      "[########################################] | 100% Completed | 26.6s\n",
      "[########################################] | 100% Completed | 26.7s\n",
      "[########################################] | 100% Completed | 26.8s\n",
      "[########################################] | 100% Completed | 26.8s\n",
      "[########################################] | 100% Completed | 26.9s\n",
      "done.\n",
      "Done -- 5 stations fully processed. 1 stations skipped.\n"
     ]
    },
    {
     "data": {
      "image/png": "[encoded data removed]",
      "text/plain": [
       "<Figure size 432x331.2 with 3 Axes>"
      ]
     },
     "metadata": {
      "needs_background": "light"
     },
     "output_type": "display_data"
    },
    {
     "data": {
      "image/png": "[encoded data removed]",
      "text/plain": [
       "<Figure size 432x331.2 with 3 Axes>"
      ]
     },
     "metadata": {
      "needs_background": "light"
     },
     "output_type": "display_data"
    },
    {
     "data": {
      "image/png": "[encoded data removed]",
      "text/plain": [
       "<Figure size 432x331.2 with 3 Axes>"
      ]
     },
     "metadata": {
      "needs_background": "light"
     },
     "output_type": "display_data"
    }
   ],
   "source": [
    "df_all_cycles, cycles_of_each_station, station_metadata = meridional_gradient(recipe_options, verbose='INFO')"
   ]
  },
  {
   "cell_type": "markdown",
   "id": "006c7255-b43c-4886-b28a-31603d7f4490",
   "metadata": {
    "pycharm": {
     "name": "#%% md\n"
    }
   },
   "source": [
    "###### with latitudinal binning"
   ]
  },
  {
   "cell_type": "code",
   "execution_count": 6,
   "id": "fea81710-444a-4d7d-b781-e8c8f36f8f62",
   "metadata": {
    "pycharm": {
     "name": "#%%\n"
    }
   },
   "outputs": [],
   "source": [
    "recipe_options={'start_yr': \"1980\",\n",
    "                'end_yr': \"2015\",\n",
    "                'latitude_bin_size': 30,\n",
    "                'station_list': 'mlo est brw bnt smo spo zep'}"
   ]
  },
  {
   "cell_type": "code",
   "execution_count": 7,
   "id": "24bee6ba-363e-4ce6-ad52-0531d8445f68",
   "metadata": {
    "pycharm": {
     "name": "#%%\n"
    }
   },
   "outputs": [
    {
     "name": "stdout",
     "output_type": "stream",
     "text": [
      "*Processing Observations*\n",
      "Station 1 of 7: mlo\n",
      "  {'name': 'Mauna Loa, Hawaii', 'lat': 19.535954, 'lon': 204.42391967773438, 'alts': 3436.4846}\n",
      "Station 2 of 7: est\n",
      "  {'name': 'Esther, Alberta', 'lat': 51.67071, 'lon': 249.79396057128906, 'alts': 751.4054}\n",
      "Station 3 of 7: brw\n",
      "  {'name': 'Barrow Atmospheric Baseline Observatory', 'lat': 71.32296, 'lon': 203.38917541503906, 'alts': 26.898216}\n",
      "Station 4 of 7: bnt\n",
      "  {'name': 'Bennett Island, Russia', 'lat': 76.2, 'lon': 149.5, 'alts': 1058.0952}\n",
      "  skipping station <bnt>:   insufficient number of months of data for station <bnt>\n",
      "Station 4 of 6: smo\n",
      "  {'name': 'Tutuila', 'lat': -14.247013, 'lon': 189.43597412109375, 'alts': 57.66138}\n",
      "Station 5 of 6: spo\n",
      "  {'name': 'South Pole, Antarctica', 'lat': -89.979965, 'lon': 335.200008392334, 'alts': 2822.1704}\n",
      "Station 6 of 6: zep\n",
      "  {'name': 'Ny-Alesund, Svalbard', 'lat': 78.90704, 'lon': 11.887226, 'alts': 488.5423}\n",
      "Done -- 6 stations fully processed. 1 stations skipped.\n"
     ]
    },
    {
     "data": {
      "image/png": "[encoded data removed]",
      "text/plain": [
       "<Figure size 432x331.2 with 2 Axes>"
      ]
     },
     "metadata": {
      "needs_background": "light"
     },
     "output_type": "display_data"
    }
   ],
   "source": [
    "df_all_cycles, cycles_of_each_station, station_metadata = meridional_gradient(recipe_options, verbose='INFO')"
   ]
  },
  {
   "cell_type": "code",
   "execution_count": null,
   "id": "8703945a",
   "metadata": {
    "pycharm": {
     "name": "#%%\n"
    }
   },
   "outputs": [],
   "source": []
  }
 ],
 "metadata": {
  "kernelspec": {
   "display_name": "test_gdess_for_joss",
   "language": "python",
   "name": "test_gdess_for_joss"
  },
  "language_info": {
   "codemirror_mode": {
    "name": "ipython",
    "version": 3
   },
   "file_extension": ".py",
   "mimetype": "text/x-python",
   "name": "python",
   "nbconvert_exporter": "python",
   "pygments_lexer": "ipython3",
   "version": "3.8.10"
  }
 },
 "nbformat": 4,
 "nbformat_minor": 5
}