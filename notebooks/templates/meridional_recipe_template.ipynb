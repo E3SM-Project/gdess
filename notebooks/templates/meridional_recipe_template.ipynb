{
 "cells": [
  {
   "cell_type": "markdown",
   "id": "f8ce41a5-88c5-430f-aa39-a247c0f7a513",
   "metadata": {
    "pycharm": {
     "name": "#%% md\n"
    }
   },
   "source": [
    "# Meridional gradient recipe demo\n",
    "\n",
    "This notebook illustrates basic usage of the meridional gradient recipe. \n",
    "\n",
    "**Note** that the first example can be run with just the data contained in the tests directory.\n",
    "<br>\n",
    "<br>\n",
    "\n",
    "\n",
    "**References:**\n",
    "\n",
    "For further reference, one can explore data visualization similar to these examples in Keppel-Aleks et al. (2013), Figure 3 and in Ott et al. (2015), Figure 6.\n",
    "\n",
    "*Keppel-Aleks, G., Randerson, J.T., Lindsay, K., Stephens, B.B., Keith Moore, J., Doney, S.C., Thornton, P.E., Mahowald, N.M., Hoffman, F.M., Sweeney, C., Tans, P.P., Wennberg, P.O., Wofsy, S.C., 2013. Atmospheric Carbon Dioxide Variability in the Community Earth System Model: Evaluation and Transient Dynamics during the Twentieth and Twenty-First Centuries. J. Clim. 26, 4447–4475. https://doi.org/10.1175/JCLI-D-12-00589.1*\n",
    "\n",
    "*Ott, L.E., Pawson, S., Collatz, G.J., Gregg, W.W., Menemenlis, D., Brix, H., Rousseaux, C.S., Bowman, K.W., Liu, J., Eldering, A., Gunson, M.R., Kawa, S.R., 2015. Assessing the magnitude of CO2 flux uncertainty in atmospheric CO2 records using products from NASA’s Carbon Monitoring Flux Pilot Project. J. Geophys. Res. Atmos. 120, 734–765. https://doi.org/10.1002/2014JD022411*"
   ]
  },
  {
   "cell_type": "code",
   "execution_count": 1,
   "id": "7b4d480b-0352-4be2-9d31-fc13e6ed1143",
   "metadata": {
    "pycharm": {
     "name": "#%%\n"
    }
   },
   "outputs": [],
   "source": [
    "from gdess.recipes import meridional_gradient"
   ]
  },
  {
   "cell_type": "markdown",
   "id": "f84358fe-66cd-46ec-ad86-53f4a786cf4a",
   "metadata": {
    "pycharm": {
     "name": "#%% md\n"
    }
   },
   "source": [
    "#### Two stations"
   ]
  },
  {
   "cell_type": "code",
   "execution_count": 2,
   "id": "351c35ca-cc33-4def-a43c-d6857649ffb8",
   "metadata": {
    "pycharm": {
     "name": "#%%\n"
    }
   },
   "outputs": [],
   "source": [
    "recipe_options={'model_name': 'BCC.esm-hist',\n",
    "                'start_yr': \"1980\",\n",
    "                'end_yr': \"2015\",\n",
    "                'station_list': 'mlo smo brw spo'}"
   ]
  },
  {
   "cell_type": "code",
   "execution_count": 3,
   "id": "a40351a6-cf88-4983-9813-291f6393ec36",
   "metadata": {
    "pycharm": {
     "name": "#%%\n"
    }
   },
   "outputs": [
    {
     "name": "stdout",
     "output_type": "stream",
     "text": [
      "*Processing CMIP model output*\n",
      "[########################################] | 100% Completed |  6.5s\n",
      "*Processing Observations*\n",
      "Station 1 of 4: mlo\n",
      "  {'name': 'Mauna Loa, Hawaii', 'lat': 19.535954, 'lon': 204.42391967773438, 'alts': 3436.4846}\n",
      "Selected bounds for both:\n",
      "  -- time>=1980  &  time<=2015\n",
      "Selected bounds for Comparison dataset:\n",
      "  -- member_id=0\n",
      "  -- lat=19.62606908419931\n",
      "  -- lon=204.75\n",
      "Applying selected bounds...\n",
      "[########################################] | 100% Completed | 21.2s\n",
      "[########################################] | 100% Completed | 21.3s\n",
      "done.\n",
      "Station 2 of 4: smo\n",
      "  {'name': 'Tutuila', 'lat': -14.247013, 'lon': 189.43597412109375, 'alts': 57.66138}\n",
      "Selected bounds for both:\n",
      "  -- time>=1980  &  time<=2015\n",
      "Selected bounds for Comparison dataset:\n",
      "  -- member_id=0\n",
      "  -- lat=-14.01862217518597\n",
      "  -- lon=189.0\n",
      "Applying selected bounds...\n",
      "[########################################] | 100% Completed | 24.7s\n",
      "[########################################] | 100% Completed | 24.8s\n",
      "[########################################] | 100% Completed | 24.7s\n",
      "done.\n",
      "Station 3 of 4: brw\n",
      "  {'name': 'Barrow Atmospheric Baseline Observatory', 'lat': 71.32296, 'lon': 203.38917541503906, 'alts': 26.898216}\n",
      "Selected bounds for both:\n",
      "  -- time>=1980  &  time<=2015\n",
      "Selected bounds for Comparison dataset:\n",
      "  -- member_id=0\n",
      "  -- lat=71.21413607988697\n",
      "  -- lon=203.625\n",
      "Applying selected bounds...\n",
      "[########################################] | 100% Completed | 23.8s\n",
      "[########################################] | 100% Completed | 23.9s\n",
      "[########################################] | 100% Completed | 24.0s\n",
      "[########################################] | 100% Completed | 23.8s\n",
      "done.\n",
      "Station 4 of 4: spo\n",
      "  {'name': 'South Pole, Antarctica', 'lat': -89.979965, 'lon': 335.200008392334, 'alts': 2822.1704}\n",
      "Selected bounds for both:\n",
      "  -- time>=1980  &  time<=2015\n",
      "Selected bounds for Comparison dataset:\n",
      "  -- member_id=0\n",
      "  -- lat=-89.14151942646112\n",
      "  -- lon=335.25\n",
      "Applying selected bounds...\n",
      "[########################################] | 100% Completed | 21.8s\n",
      "[########################################] | 100% Completed | 21.9s\n",
      "[########################################] | 100% Completed | 22.0s\n",
      "[########################################] | 100% Completed | 22.1s\n",
      "[########################################] | 100% Completed | 22.0s\n",
      "done.\n",
      "Done -- 4 stations fully processed. 0 stations skipped.\n"
     ]
    },
    {
     "data": {
      "image/png": "[encoded data removed]",
      "text/plain": [
       "<Figure size 432x264.96 with 3 Axes>"
      ]
     },
     "metadata": {
      "needs_background": "light"
     },
     "output_type": "display_data"
    },
    {
     "data": {
      "image/png": "[encoded data removed]",
      "text/plain": [
       "<Figure size 432x264.96 with 3 Axes>"
      ]
     },
     "metadata": {
      "needs_background": "light"
     },
     "output_type": "display_data"
    },
    {
     "data": {
      "image/png": "[encoded data removed]",
      "text/plain": [
       "<Figure size 432x264.96 with 3 Axes>"
      ]
     },
     "metadata": {
      "needs_background": "light"
     },
     "output_type": "display_data"
    }
   ],
   "source": [
    "data_dict = meridional_gradient(recipe_options, verbose='INFO')"
   ]
  },
  {
   "cell_type": "markdown",
   "id": "c5f6edf0-56b2-4077-aed8-f83dd62e80ca",
   "metadata": {
    "jupyter": {
     "outputs_hidden": false
    },
    "pycharm": {
     "name": "#%%\n"
    }
   },
   "source": [
    "END of notebook."
   ]
  }
 ],
 "metadata": {
  "kernelspec": {
   "display_name": "co2diag_py3.9",
   "language": "python",
   "name": "co2diag_py3.9"
  },
  "language_info": {
   "codemirror_mode": {
    "name": "ipython",
    "version": 3
   },
   "file_extension": ".py",
   "mimetype": "text/x-python",
   "name": "python",
   "nbconvert_exporter": "python",
   "pygments_lexer": "ipython3",
   "version": "3.9.4"
  }
 },
 "nbformat": 4,
 "nbformat_minor": 5
}