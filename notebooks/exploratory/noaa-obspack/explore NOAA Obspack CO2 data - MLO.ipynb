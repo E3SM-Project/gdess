{
 "cells": [
  {
   "cell_type": "markdown",
   "metadata": {},
   "source": [
    "# Explore `Mauna Loa (MLO)` data in NOAA - $CO_2$ ObsPack\n",
    "\n",
    "From <https://www.esrl.noaa.gov/gmd/ccgg/obspack/release_notes.html#obspack_co2_1_GLOBALVIEWplus>:\n",
    "\n",
    "The Digital Object Identifier (DOI) metadata for this product and required citation is at https://search.datacite.org/works/10.25925/20200903.  \n",
    "\n",
    "This product includes 471 atmospheric carbon dioxide datasets derived from observations made by 54 laboratories from 21 countries. Data for the period 1957-2019 (where available) are included. \n",
    "\n",
    "A full list of data providers is at providerlist/obspack_co2_1_GLOBALVIEWplus_v6.0_2019-09-11.html"
   ]
  },
  {
   "cell_type": "markdown",
   "metadata": {},
   "source": [
    "**Septmeber 30, 2020**: Created  "
   ]
  },
  {
   "cell_type": "markdown",
   "metadata": {},
   "source": [
    "## Setup"
   ]
  },
  {
   "cell_type": "code",
   "execution_count": 1,
   "metadata": {},
   "outputs": [],
   "source": [
    "import os\n",
    "import math\n",
    "import glob\n",
    "from textwrap import wrap"
   ]
  },
  {
   "cell_type": "code",
   "execution_count": 2,
   "metadata": {},
   "outputs": [],
   "source": [
    "import datetime as dt\n",
    "from datetime import date\n",
    "\n",
    "today = date.today()"
   ]
  },
  {
   "cell_type": "code",
   "execution_count": 3,
   "metadata": {},
   "outputs": [],
   "source": [
    "import numpy as np\n",
    "import numpy.ma as ma\n",
    "import pandas as pd\n",
    "import xarray as xr"
   ]
  },
  {
   "cell_type": "code",
   "execution_count": 4,
   "metadata": {},
   "outputs": [],
   "source": [
    "import matplotlib\n",
    "from matplotlib import cm\n",
    "from matplotlib import rc\n",
    "import matplotlib.pyplot as plt\n",
    "import matplotlib.ticker as mticker\n",
    "%matplotlib inline\n",
    "\n",
    "import matplotlib.colors as colors\n",
    "from matplotlib.colors import LinearSegmentedColormap\n",
    "from matplotlib.colors import BoundaryNorm"
   ]
  },
  {
   "cell_type": "code",
   "execution_count": 5,
   "metadata": {},
   "outputs": [],
   "source": [
    "import seaborn as sns"
   ]
  },
  {
   "cell_type": "code",
   "execution_count": 6,
   "metadata": {},
   "outputs": [
    {
     "data": {
      "text/plain": [
       "DataTransformerRegistry.enable('data_server')"
      ]
     },
     "execution_count": 6,
     "metadata": {},
     "output_type": "execute_result"
    }
   ],
   "source": [
    "import altair as alt\n",
    "# alt.renderers.enable('notebook')\n",
    "alt.data_transformers.enable('data_server')"
   ]
  },
  {
   "cell_type": "code",
   "execution_count": 7,
   "metadata": {},
   "outputs": [],
   "source": [
    "import cartopy.crs as ccrs\n",
    "import cartopy.feature as cfeature\n",
    "from cartopy.mpl.gridliner import LONGITUDE_FORMATTER, LATITUDE_FORMATTER\n",
    "from cartopy.mpl.ticker import LongitudeFormatter, LatitudeFormatter"
   ]
  },
  {
   "cell_type": "code",
   "execution_count": 8,
   "metadata": {},
   "outputs": [],
   "source": [
    "from metpy.interpolate import (interpolate_to_grid, remove_nan_observations,\n",
    "                               remove_repeat_coordinates)\n",
    "from metpy.plots import ContourPlot, ImagePlot, MapPanel, PanelContainer"
   ]
  },
  {
   "cell_type": "code",
   "execution_count": 9,
   "metadata": {},
   "outputs": [],
   "source": [
    "import logging\n",
    "logging.getLogger('matplotlib.font_manager').disabled = True"
   ]
  },
  {
   "cell_type": "code",
   "execution_count": 10,
   "metadata": {},
   "outputs": [],
   "source": [
    "from co2_diag import obspack_subset as ops, nums"
   ]
  },
  {
   "cell_type": "code",
   "execution_count": 11,
   "metadata": {},
   "outputs": [],
   "source": [
    "from co2_diag import obspack_anomalies as opa"
   ]
  },
  {
   "cell_type": "markdown",
   "metadata": {},
   "source": [
    "## Data import"
   ]
  },
  {
   "cell_type": "code",
   "execution_count": 12,
   "metadata": {},
   "outputs": [],
   "source": [
    "datadir  = '/Users/kauf418/projects/e3sm_co2_transport_evaluation/2_ExperimentFolder/raw_data/noaa-obspack/obspack_co2_1_GLOBALVIEWplus_v6.0_2020-09-11/data/nc/'"
   ]
  },
  {
   "cell_type": "code",
   "execution_count": 13,
   "metadata": {},
   "outputs": [],
   "source": [
    "# native_file = 'co2_mlo_surface-insitu_1_allvalid.nc'\n",
    "native_file = 'co2_mlo_surface-flask_426_representative.nc'\n",
    "native_file = 'co2_mlo_surface-flask_426_representative.nc'"
   ]
  },
  {
   "cell_type": "code",
   "execution_count": 14,
   "metadata": {},
   "outputs": [
    {
     "data": {
      "text/html": [
       "<div><svg style=\"position: absolute; width: 0; height: 0; overflow: hidden\">\n",
       "<defs>\n",
       "<symbol id=\"icon-database\" viewBox=\"0 0 32 32\">\n",
       "<path d=\"M16 0c-8.837 0-16 2.239-16 5v4c0 2.761 7.163 5 16 5s16-2.239 16-5v-4c0-2.761-7.163-5-16-5z\"></path>\n",
       "<path d=\"M16 17c-8.837 0-16-2.239-16-5v6c0 2.761 7.163 5 16 5s16-2.239 16-5v-6c0 2.761-7.163 5-16 5z\"></path>\n",
       "<path d=\"M16 26c-8.837 0-16-2.239-16-5v6c0 2.761 7.163 5 16 5s16-2.239 16-5v-6c0 2.761-7.163 5-16 5z\"></path>\n",
       "</symbol>\n",
       "<symbol id=\"icon-file-text2\" viewBox=\"0 0 32 32\">\n",
       "<path d=\"M28.681 7.159c-0.694-0.947-1.662-2.053-2.724-3.116s-2.169-2.030-3.116-2.724c-1.612-1.182-2.393-1.319-2.841-1.319h-15.5c-1.378 0-2.5 1.121-2.5 2.5v27c0 1.378 1.122 2.5 2.5 2.5h23c1.378 0 2.5-1.122 2.5-2.5v-19.5c0-0.448-0.137-1.23-1.319-2.841zM24.543 5.457c0.959 0.959 1.712 1.825 2.268 2.543h-4.811v-4.811c0.718 0.556 1.584 1.309 2.543 2.268zM28 29.5c0 0.271-0.229 0.5-0.5 0.5h-23c-0.271 0-0.5-0.229-0.5-0.5v-27c0-0.271 0.229-0.5 0.5-0.5 0 0 15.499-0 15.5 0v7c0 0.552 0.448 1 1 1h7v19.5z\"></path>\n",
       "<path d=\"M23 26h-14c-0.552 0-1-0.448-1-1s0.448-1 1-1h14c0.552 0 1 0.448 1 1s-0.448 1-1 1z\"></path>\n",
       "<path d=\"M23 22h-14c-0.552 0-1-0.448-1-1s0.448-1 1-1h14c0.552 0 1 0.448 1 1s-0.448 1-1 1z\"></path>\n",
       "<path d=\"M23 18h-14c-0.552 0-1-0.448-1-1s0.448-1 1-1h14c0.552 0 1 0.448 1 1s-0.448 1-1 1z\"></path>\n",
       "</symbol>\n",
       "</defs>\n",
       "</svg>\n",
       "<style>/* CSS stylesheet for displaying xarray objects in jupyterlab.\n",
       " *\n",
       " */\n",
       "\n",
       ":root {\n",
       "  --xr-font-color0: var(--jp-content-font-color0, rgba(0, 0, 0, 1));\n",
       "  --xr-font-color2: var(--jp-content-font-color2, rgba(0, 0, 0, 0.54));\n",
       "  --xr-font-color3: var(--jp-content-font-color3, rgba(0, 0, 0, 0.38));\n",
       "  --xr-border-color: var(--jp-border-color2, #e0e0e0);\n",
       "  --xr-disabled-color: var(--jp-layout-color3, #bdbdbd);\n",
       "  --xr-background-color: var(--jp-layout-color0, white);\n",
       "  --xr-background-color-row-even: var(--jp-layout-color1, white);\n",
       "  --xr-background-color-row-odd: var(--jp-layout-color2, #eeeeee);\n",
       "}\n",
       "\n",
       "html[theme=dark],\n",
       "body.vscode-dark {\n",
       "  --xr-font-color0: rgba(255, 255, 255, 1);\n",
       "  --xr-font-color2: rgba(255, 255, 255, 0.54);\n",
       "  --xr-font-color3: rgba(255, 255, 255, 0.38);\n",
       "  --xr-border-color: #1F1F1F;\n",
       "  --xr-disabled-color: #515151;\n",
       "  --xr-background-color: #111111;\n",
       "  --xr-background-color-row-even: #111111;\n",
       "  --xr-background-color-row-odd: #313131;\n",
       "}\n",
       "\n",
       ".xr-wrap {\n",
       "  display: block;\n",
       "  min-width: 300px;\n",
       "  max-width: 700px;\n",
       "}\n",
       "\n",
       ".xr-text-repr-fallback {\n",
       "  /* fallback to plain text repr when CSS is not injected (untrusted notebook) */\n",
       "  display: none;\n",
       "}\n",
       "\n",
       ".xr-header {\n",
       "  padding-top: 6px;\n",
       "  padding-bottom: 6px;\n",
       "  margin-bottom: 4px;\n",
       "  border-bottom: solid 1px var(--xr-border-color);\n",
       "}\n",
       "\n",
       ".xr-header > div,\n",
       ".xr-header > ul {\n",
       "  display: inline;\n",
       "  margin-top: 0;\n",
       "  margin-bottom: 0;\n",
       "}\n",
       "\n",
       ".xr-obj-type,\n",
       ".xr-array-name {\n",
       "  margin-left: 2px;\n",
       "  margin-right: 10px;\n",
       "}\n",
       "\n",
       ".xr-obj-type {\n",
       "  color: var(--xr-font-color2);\n",
       "}\n",
       "\n",
       ".xr-sections {\n",
       "  padding-left: 0 !important;\n",
       "  display: grid;\n",
       "  grid-template-columns: 150px auto auto 1fr 20px 20px;\n",
       "}\n",
       "\n",
       ".xr-section-item {\n",
       "  display: contents;\n",
       "}\n",
       "\n",
       ".xr-section-item input {\n",
       "  display: none;\n",
       "}\n",
       "\n",
       ".xr-section-item input + label {\n",
       "  color: var(--xr-disabled-color);\n",
       "}\n",
       "\n",
       ".xr-section-item input:enabled + label {\n",
       "  cursor: pointer;\n",
       "  color: var(--xr-font-color2);\n",
       "}\n",
       "\n",
       ".xr-section-item input:enabled + label:hover {\n",
       "  color: var(--xr-font-color0);\n",
       "}\n",
       "\n",
       ".xr-section-summary {\n",
       "  grid-column: 1;\n",
       "  color: var(--xr-font-color2);\n",
       "  font-weight: 500;\n",
       "}\n",
       "\n",
       ".xr-section-summary > span {\n",
       "  display: inline-block;\n",
       "  padding-left: 0.5em;\n",
       "}\n",
       "\n",
       ".xr-section-summary-in:disabled + label {\n",
       "  color: var(--xr-font-color2);\n",
       "}\n",
       "\n",
       ".xr-section-summary-in + label:before {\n",
       "  display: inline-block;\n",
       "  content: '►';\n",
       "  font-size: 11px;\n",
       "  width: 15px;\n",
       "  text-align: center;\n",
       "}\n",
       "\n",
       ".xr-section-summary-in:disabled + label:before {\n",
       "  color: var(--xr-disabled-color);\n",
       "}\n",
       "\n",
       ".xr-section-summary-in:checked + label:before {\n",
       "  content: '▼';\n",
       "}\n",
       "\n",
       ".xr-section-summary-in:checked + label > span {\n",
       "  display: none;\n",
       "}\n",
       "\n",
       ".xr-section-summary,\n",
       ".xr-section-inline-details {\n",
       "  padding-top: 4px;\n",
       "  padding-bottom: 4px;\n",
       "}\n",
       "\n",
       ".xr-section-inline-details {\n",
       "  grid-column: 2 / -1;\n",
       "}\n",
       "\n",
       ".xr-section-details {\n",
       "  display: none;\n",
       "  grid-column: 1 / -1;\n",
       "  margin-bottom: 5px;\n",
       "}\n",
       "\n",
       ".xr-section-summary-in:checked ~ .xr-section-details {\n",
       "  display: contents;\n",
       "}\n",
       "\n",
       ".xr-array-wrap {\n",
       "  grid-column: 1 / -1;\n",
       "  display: grid;\n",
       "  grid-template-columns: 20px auto;\n",
       "}\n",
       "\n",
       ".xr-array-wrap > label {\n",
       "  grid-column: 1;\n",
       "  vertical-align: top;\n",
       "}\n",
       "\n",
       ".xr-preview {\n",
       "  color: var(--xr-font-color3);\n",
       "}\n",
       "\n",
       ".xr-array-preview,\n",
       ".xr-array-data {\n",
       "  padding: 0 5px !important;\n",
       "  grid-column: 2;\n",
       "}\n",
       "\n",
       ".xr-array-data,\n",
       ".xr-array-in:checked ~ .xr-array-preview {\n",
       "  display: none;\n",
       "}\n",
       "\n",
       ".xr-array-in:checked ~ .xr-array-data,\n",
       ".xr-array-preview {\n",
       "  display: inline-block;\n",
       "}\n",
       "\n",
       ".xr-dim-list {\n",
       "  display: inline-block !important;\n",
       "  list-style: none;\n",
       "  padding: 0 !important;\n",
       "  margin: 0;\n",
       "}\n",
       "\n",
       ".xr-dim-list li {\n",
       "  display: inline-block;\n",
       "  padding: 0;\n",
       "  margin: 0;\n",
       "}\n",
       "\n",
       ".xr-dim-list:before {\n",
       "  content: '(';\n",
       "}\n",
       "\n",
       ".xr-dim-list:after {\n",
       "  content: ')';\n",
       "}\n",
       "\n",
       ".xr-dim-list li:not(:last-child):after {\n",
       "  content: ',';\n",
       "  padding-right: 5px;\n",
       "}\n",
       "\n",
       ".xr-has-index {\n",
       "  font-weight: bold;\n",
       "}\n",
       "\n",
       ".xr-var-list,\n",
       ".xr-var-item {\n",
       "  display: contents;\n",
       "}\n",
       "\n",
       ".xr-var-item > div,\n",
       ".xr-var-item label,\n",
       ".xr-var-item > .xr-var-name span {\n",
       "  background-color: var(--xr-background-color-row-even);\n",
       "  margin-bottom: 0;\n",
       "}\n",
       "\n",
       ".xr-var-item > .xr-var-name:hover span {\n",
       "  padding-right: 5px;\n",
       "}\n",
       "\n",
       ".xr-var-list > li:nth-child(odd) > div,\n",
       ".xr-var-list > li:nth-child(odd) > label,\n",
       ".xr-var-list > li:nth-child(odd) > .xr-var-name span {\n",
       "  background-color: var(--xr-background-color-row-odd);\n",
       "}\n",
       "\n",
       ".xr-var-name {\n",
       "  grid-column: 1;\n",
       "}\n",
       "\n",
       ".xr-var-dims {\n",
       "  grid-column: 2;\n",
       "}\n",
       "\n",
       ".xr-var-dtype {\n",
       "  grid-column: 3;\n",
       "  text-align: right;\n",
       "  color: var(--xr-font-color2);\n",
       "}\n",
       "\n",
       ".xr-var-preview {\n",
       "  grid-column: 4;\n",
       "}\n",
       "\n",
       ".xr-var-name,\n",
       ".xr-var-dims,\n",
       ".xr-var-dtype,\n",
       ".xr-preview,\n",
       ".xr-attrs dt {\n",
       "  white-space: nowrap;\n",
       "  overflow: hidden;\n",
       "  text-overflow: ellipsis;\n",
       "  padding-right: 10px;\n",
       "}\n",
       "\n",
       ".xr-var-name:hover,\n",
       ".xr-var-dims:hover,\n",
       ".xr-var-dtype:hover,\n",
       ".xr-attrs dt:hover {\n",
       "  overflow: visible;\n",
       "  width: auto;\n",
       "  z-index: 1;\n",
       "}\n",
       "\n",
       ".xr-var-attrs,\n",
       ".xr-var-data {\n",
       "  display: none;\n",
       "  background-color: var(--xr-background-color) !important;\n",
       "  padding-bottom: 5px !important;\n",
       "}\n",
       "\n",
       ".xr-var-attrs-in:checked ~ .xr-var-attrs,\n",
       ".xr-var-data-in:checked ~ .xr-var-data {\n",
       "  display: block;\n",
       "}\n",
       "\n",
       ".xr-var-data > table {\n",
       "  float: right;\n",
       "}\n",
       "\n",
       ".xr-var-name span,\n",
       ".xr-var-data,\n",
       ".xr-attrs {\n",
       "  padding-left: 25px !important;\n",
       "}\n",
       "\n",
       ".xr-attrs,\n",
       ".xr-var-attrs,\n",
       ".xr-var-data {\n",
       "  grid-column: 1 / -1;\n",
       "}\n",
       "\n",
       "dl.xr-attrs {\n",
       "  padding: 0;\n",
       "  margin: 0;\n",
       "  display: grid;\n",
       "  grid-template-columns: 125px auto;\n",
       "}\n",
       "\n",
       ".xr-attrs dt, dd {\n",
       "  padding: 0;\n",
       "  margin: 0;\n",
       "  float: left;\n",
       "  padding-right: 10px;\n",
       "  width: auto;\n",
       "}\n",
       "\n",
       ".xr-attrs dt {\n",
       "  font-weight: normal;\n",
       "  grid-column: 1;\n",
       "}\n",
       "\n",
       ".xr-attrs dt:hover span {\n",
       "  display: inline-block;\n",
       "  background: var(--xr-background-color);\n",
       "  padding-right: 10px;\n",
       "}\n",
       "\n",
       ".xr-attrs dd {\n",
       "  grid-column: 2;\n",
       "  white-space: pre-wrap;\n",
       "  word-break: break-all;\n",
       "}\n",
       "\n",
       ".xr-icon-database,\n",
       ".xr-icon-file-text2 {\n",
       "  display: inline-block;\n",
       "  vertical-align: middle;\n",
       "  width: 1em;\n",
       "  height: 1.5em !important;\n",
       "  stroke-width: 0;\n",
       "  stroke: currentColor;\n",
       "  fill: currentColor;\n",
       "}\n",
       "</style><pre class='xr-text-repr-fallback'>&lt;xarray.Dataset&gt;\n",
       "Dimensions:                     (calendar_components: 6, dim_concerns: 5, obs: 2159)\n",
       "Dimensions without coordinates: calendar_components, dim_concerns, obs\n",
       "Data variables:\n",
       "    time                        (obs) datetime64[ns] 1960-03-30T12:00:00 ... ...\n",
       "    start_time                  (obs) datetime64[ns] 1960-03-30T12:00:00 ... ...\n",
       "    midpoint_time               (obs) datetime64[ns] 1960-03-30T12:00:00 ... ...\n",
       "    datetime                    (obs) |S100 b&#x27;1960-03-30T12:00:00&#x27; ... b&#x27;2019...\n",
       "    time_decimal                (obs) float64 1.96e+03 1.96e+03 ... 2.02e+03\n",
       "    time_components             (obs, calendar_components) float64 1.96e+03 ....\n",
       "    solartime_components        (obs, calendar_components) float64 1.96e+03 ....\n",
       "    value                       (obs) float32 0.00031827 ... 0.00041278\n",
       "    nvalue                      (obs) float64 2.0 2.0 3.0 2.0 ... 2.0 2.0 2.0\n",
       "    latitude                    (obs) float32 19.5362 19.5362 ... 19.5362\n",
       "    longitude                   (obs) float32 -155.5763 -155.5763 ... -155.5763\n",
       "    altitude                    (obs) float32 3407.0 3407.0 ... 3407.0 3407.0\n",
       "    elevation                   (obs) float32 3397.0 3397.0 ... 3397.0 3397.0\n",
       "    intake_height               (obs) float32 10.0 10.0 10.0 ... 10.0 10.0 10.0\n",
       "    obs_flag                    (obs) float64 1.0 1.0 1.0 1.0 ... 1.0 1.0 1.0\n",
       "    assimilation_concerns       (obs, dim_concerns) int32 0 0 0 0 0 ... 0 0 0 0\n",
       "    obs_num                     (obs) int32 1 2 3 4 5 ... 2156 2157 2158 2159\n",
       "    obspack_num                 (obs) int32 10717938 10717939 ... 10720096\n",
       "    obspack_id                  (obs) |S200 b&#x27;obspack_co2_1_GLOBALVIEWplus_v6...\n",
       "    unique_sample_location_num  (obs) int32 11463666 11463667 ... 11465824\n",
       "    CT_RMSE                     (obs) float32 1.0822693e-06 ... 5.4957655e-07\n",
       "    CT_assim                    (obs) int32 1 1 1 1 1 1 1 1 ... 1 1 1 1 1 1 1 1\n",
       "    CT_MDM                      (obs) float32 1.0281558e-06 ... 5.220977e-07\n",
       "    CT_sampling_strategy        (obs) int32 2 2 2 2 2 2 2 2 ... 2 2 2 2 2 2 2 2\n",
       "    CT_may_localize             (obs) int32 1 1 1 1 1 1 1 1 ... 1 1 1 1 1 1 1 1\n",
       "    CT_may_reject               (obs) int32 1 1 1 1 1 1 1 1 ... 1 1 1 1 1 1 1 1\n",
       "Attributes:\n",
       "    site_code:                                    MLO\n",
       "    site_name:                                    Mauna Loa, Hawaii\n",
       "    site_country:                                 United States\n",
       "    site_country_flag:                            UNST0001.GIF\n",
       "    site_latitude:                                19.5362\n",
       "    site_longitude:                               -155.5763\n",
       "    site_elevation:                               3397.0\n",
       "    site_elevation_unit:                          masl\n",
       "    site_position_comment:                        This is the nominal locatio...\n",
       "    site_utc2lst:                                 -10.0\n",
       "    site_utc2lst_comment:                         Add &#x27;site_utc2lst&#x27; hours to...\n",
       "    site_url:                                     http://www.esrl.noaa.gov/gm...\n",
       "    dataset_creation_date:                        2020-09-11T18:02:08.200384\n",
       "    dataset_num:                                  319\n",
       "    dataset_name:                                 co2_mlo_surface-flask_426_r...\n",
       "    dataset_globalview_prefix:                    mlo_426D0\n",
       "    dataset_process:                              PassThru\n",
       "    dataset_parameter:                            co2\n",
       "    dataset_project:                              surface-flask\n",
       "    dataset_platform:                             fixed\n",
       "    dataset_map:                                  map_mlo_surface-flask_426.png\n",
       "    dataset_selection:                            representative with outlier...\n",
       "    dataset_selection_tag:                        representative\n",
       "    dataset_comment:                              These atmospheric CO2 recor...\n",
       "    dataset_calibration_scale:                    2008A SIO manometric mole f...\n",
       "    dataset_start_date:                           1960-03-30T12:00:00Z\n",
       "    dataset_stop_date:                            2019-12-26T19:50:00Z\n",
       "    dataset_intake_ht:                            10.0\n",
       "    dataset_intake_ht_unit:                       magl\n",
       "    dataset_description:                          This data package is intend...\n",
       "    dataset_usage_url:                            https://www.esrl.noaa.gov/g...\n",
       "    dataset_usage_description:                    In addition to this product...\n",
       "    dataset_provider_citation_1:                  C. D. Keeling, S. C. Piper,...\n",
       "    dataset_identifier_1:                         []\n",
       "    dataset_provider_citation_total:              1\n",
       "    dataset_reference_total_listed:               0\n",
       "    dataset_contribution:                         These data are provided by ...\n",
       "    lab_total_listed:                             1\n",
       "    lab_1_number:                                 426\n",
       "    lab_1_abbr:                                   SIO_CO2\n",
       "    lab_1_name:                                   Scripps Institution of Ocea...\n",
       "    lab_1_address1:                               University of California\n",
       "    lab_1_address2:                               La Jolla, California 92093-...\n",
       "    lab_1_country:                                United  States\n",
       "    lab_1_url:                                    http://scrippsco2.ucsd.edu/\n",
       "    lab_1_parameter:                              Lab has contributed measure...\n",
       "    lab_1_country_flag:                           UNST0001.GIF\n",
       "    lab_1_logo:                                   sio_medium.png\n",
       "    lab_1_ongoing_atmospheric_air_comparison:     T\n",
       "    provider_total_listed:                        5\n",
       "    provider_1_name:                              Ralph Keeling\n",
       "    provider_1_address1:                          Scripps Institution of Ocea...\n",
       "    provider_1_address2:                          University of California\n",
       "    provider_1_address3:                          La Jolla, California 92093-...\n",
       "    provider_1_country:                           United States\n",
       "    provider_1_affiliation:                       Scripps Institution of Ocea...\n",
       "    provider_1_email:                             rkeeling@ucsd.edu\n",
       "    provider_1_tel:                               858-534-7582\n",
       "    provider_1_parameter:                         Provider has contributed me...\n",
       "    provider_2_name:                              Steve Piper\n",
       "    provider_2_address1:                          Scripps Institution of Ocea...\n",
       "    provider_2_address2:                          University of California\n",
       "    provider_2_address3:                          La Jolla, California 92093-...\n",
       "    provider_2_country:                           United  States\n",
       "    provider_2_affiliation:                       Scripps Institution of Ocea...\n",
       "    provider_2_email:                             scpiper@ucsd.edu\n",
       "    provider_2_tel:                               858-534-3991\n",
       "    provider_2_parameter:                         Provider has contributed me...\n",
       "    provider_3_name:                              Adam Cox\n",
       "    provider_3_address1:                          Scripps Institution of Ocea...\n",
       "    provider_3_address2:                          University of California\n",
       "    provider_3_address3:                          La Jolla, California 92093-...\n",
       "    provider_3_country:                           United  States\n",
       "    provider_3_affiliation:                       Scripps Institution of Ocea...\n",
       "    provider_3_email:                             accox@ucsd.edu\n",
       "    provider_3_tel:                               858-534-8024\n",
       "    provider_3_parameter:                         Provider has contributed me...\n",
       "    provider_4_name:                              Stephen Walker\n",
       "    provider_4_address1:                          Scripps Institution of Ocea...\n",
       "    provider_4_address2:                          University of California\n",
       "    provider_4_address3:                          La Jolla, California 92093-...\n",
       "    provider_4_country:                           United  States\n",
       "    provider_4_affiliation:                       Scripps Institution of Ocea...\n",
       "    provider_4_email:                             sjwalker@ucsd.edu\n",
       "    provider_4_tel:                               858-534-5041\n",
       "    provider_4_parameter:                         Provider has contributed me...\n",
       "    provider_5_name:                              Lynne Merchant\n",
       "    provider_5_address1:                          Scripps Institution of Ocea...\n",
       "    provider_5_address2:                          University of California\n",
       "    provider_5_address3:                          La Jolla, California 92093-...\n",
       "    provider_5_country:                           United States\n",
       "    provider_5_affiliation:                       Scripps Institution of Ocea...\n",
       "    provider_5_email:                             lmerchant@ucsd.edu\n",
       "    provider_5_parameter:                         Provider has contributed me...\n",
       "    obspack_originator_lab_total_listed:          2\n",
       "    obspack_originator_lab_1_abbr:                NOAA\n",
       "    obspack_originator_lab_1_name:                NOAA Global Monitoring Labo...\n",
       "    obspack_originator_lab_1_number:              1\n",
       "    obspack_originator_lab_2_abbr:                WU\n",
       "    obspack_originator_lab_2_name:                Wageningen University\n",
       "    obspack_originator_lab_2_number:              111\n",
       "    obspack_originator_individual_total_listed:   3\n",
       "    obspack_originator_individual_1_name:         Kenneth N. Schuldt\n",
       "    obspack_originator_individual_1_email:        kenneth.schuldt@noaa.gov\n",
       "    obspack_originator_individual_1_affiliation:  NOAA\n",
       "    obspack_originator_individual_2_name:         John Mund\n",
       "    obspack_originator_individual_2_email:        john.mund@noaa.gov\n",
       "    obspack_originator_individual_2_affiliation:  NOAA\n",
       "    obspack_originator_individual_3_name:         Ingrid T. Luijkx\n",
       "    obspack_originator_individual_3_email:        ingrid.luijkx@wur.nl\n",
       "    obspack_originator_individual_3_affiliation:  WU AND ICOS-CP\n",
       "    obspack_variables_and_attributes:             ObsPack variables and attri...\n",
       "    obspack_name:                                 obspack_co2_1_GLOBALVIEWplu...\n",
       "    obspack_description:                          This data package is intend...\n",
       "    obspack_creation_date:                        2020-09-11T18:02:08.200384\n",
       "    obspack_warning:                              Every effort is made to cre...\n",
       "    obspack_fair_use:                             This cooperative data produ...\n",
       "    obspack_usage_policy:                         www.esrl.noaa.gov/gmd/ccgg/...\n",
       "    obspack_identifier_link:                      http://doi.org/10.25925/202...\n",
       "    obspack_citation:                             Kenneth Schuldt, John Mund,...</pre><div class='xr-wrap' hidden><div class='xr-header'><div class='xr-obj-type'>xarray.Dataset</div></div><ul class='xr-sections'><li class='xr-section-item'><input id='section-74001bcd-00e8-46e4-aa97-56f3480a3c0e' class='xr-section-summary-in' type='checkbox' disabled ><label for='section-74001bcd-00e8-46e4-aa97-56f3480a3c0e' class='xr-section-summary'  title='Expand/collapse section'>Dimensions:</label><div class='xr-section-inline-details'><ul class='xr-dim-list'><li><span>calendar_components</span>: 6</li><li><span>dim_concerns</span>: 5</li><li><span>obs</span>: 2159</li></ul></div><div class='xr-section-details'></div></li><li class='xr-section-item'><input id='section-9a8c0c64-2c48-403d-b05f-31bfb6efda01' class='xr-section-summary-in' type='checkbox' disabled ><label for='section-9a8c0c64-2c48-403d-b05f-31bfb6efda01' class='xr-section-summary'  title='Expand/collapse section'>Coordinates: <span>(0)</span></label><div class='xr-section-inline-details'></div><div class='xr-section-details'><ul class='xr-var-list'></ul></div></li><li class='xr-section-item'><input id='section-fd1e7d45-9cf3-41b0-afdd-339f2dbda6b9' class='xr-section-summary-in' type='checkbox'  ><label for='section-fd1e7d45-9cf3-41b0-afdd-339f2dbda6b9' class='xr-section-summary' >Data variables: <span>(26)</span></label><div class='xr-section-inline-details'></div><div class='xr-section-details'><ul class='xr-var-list'><li class='xr-var-item'><div class='xr-var-name'><span>time</span></div><div class='xr-var-dims'>(obs)</div><div class='xr-var-dtype'>datetime64[ns]</div><div class='xr-var-preview xr-preview'>...</div><input id='attrs-a9120d85-65a5-48ce-b9e0-b7c4c2a5e05f' class='xr-var-attrs-in' type='checkbox' ><label for='attrs-a9120d85-65a5-48ce-b9e0-b7c4c2a5e05f' title='Show/Hide attributes'><svg class='icon xr-icon-file-text2'><use xlink:href='#icon-file-text2'></use></svg></label><input id='data-fbce1f18-1492-4878-91a3-ec6e49a1778c' class='xr-var-data-in' type='checkbox'><label for='data-fbce1f18-1492-4878-91a3-ec6e49a1778c' title='Show/Hide data repr'><svg class='icon xr-icon-database'><use xlink:href='#icon-database'></use></svg></label><div class='xr-var-attrs'><dl class='xr-attrs'><dt><span>long_name :</span></dt><dd>sample_time_in_seconds_since_january_1_1970</dd><dt><span>comment :</span></dt><dd>POSIX time.  Number of seconds since January 1, 1970 in UTC. Time-averaged values are reported at the middle of the averaging interval.</dd></dl></div><div class='xr-var-data'><pre>array([&#x27;1960-03-30T12:00:00.000000000&#x27;, &#x27;1960-03-31T16:00:00.000000000&#x27;,\n",
       "       &#x27;1960-04-24T08:00:00.000000000&#x27;, ..., &#x27;2019-12-10T19:34:00.000000000&#x27;,\n",
       "       &#x27;2019-12-20T19:53:00.000000000&#x27;, &#x27;2019-12-26T19:50:00.000000000&#x27;],\n",
       "      dtype=&#x27;datetime64[ns]&#x27;)</pre></div></li><li class='xr-var-item'><div class='xr-var-name'><span>start_time</span></div><div class='xr-var-dims'>(obs)</div><div class='xr-var-dtype'>datetime64[ns]</div><div class='xr-var-preview xr-preview'>...</div><input id='attrs-89d83283-f787-44ef-b078-f936fdd34886' class='xr-var-attrs-in' type='checkbox' ><label for='attrs-89d83283-f787-44ef-b078-f936fdd34886' title='Show/Hide attributes'><svg class='icon xr-icon-file-text2'><use xlink:href='#icon-file-text2'></use></svg></label><input id='data-1379fdd0-4832-4d41-8368-aefe15271f71' class='xr-var-data-in' type='checkbox'><label for='data-1379fdd0-4832-4d41-8368-aefe15271f71' title='Show/Hide data repr'><svg class='icon xr-icon-database'><use xlink:href='#icon-database'></use></svg></label><div class='xr-var-attrs'><dl class='xr-attrs'><dt><span>long_name :</span></dt><dd>sample_start_time_in_seconds_since_january_1_1970</dd><dt><span>comment :</span></dt><dd>POSIX start time.  Number of seconds since January 1, 1970 in UTC.</dd></dl></div><div class='xr-var-data'><pre>array([&#x27;1960-03-30T12:00:00.000000000&#x27;, &#x27;1960-03-31T16:00:00.000000000&#x27;,\n",
       "       &#x27;1960-04-24T08:00:00.000000000&#x27;, ..., &#x27;2019-12-10T19:34:00.000000000&#x27;,\n",
       "       &#x27;2019-12-20T19:53:00.000000000&#x27;, &#x27;2019-12-26T19:50:00.000000000&#x27;],\n",
       "      dtype=&#x27;datetime64[ns]&#x27;)</pre></div></li><li class='xr-var-item'><div class='xr-var-name'><span>midpoint_time</span></div><div class='xr-var-dims'>(obs)</div><div class='xr-var-dtype'>datetime64[ns]</div><div class='xr-var-preview xr-preview'>...</div><input id='attrs-96204189-1007-4e73-83ab-831293481bb0' class='xr-var-attrs-in' type='checkbox' ><label for='attrs-96204189-1007-4e73-83ab-831293481bb0' title='Show/Hide attributes'><svg class='icon xr-icon-file-text2'><use xlink:href='#icon-file-text2'></use></svg></label><input id='data-d2cf6df8-6642-4b07-9bc3-bba5db8506b2' class='xr-var-data-in' type='checkbox'><label for='data-d2cf6df8-6642-4b07-9bc3-bba5db8506b2' title='Show/Hide data repr'><svg class='icon xr-icon-database'><use xlink:href='#icon-database'></use></svg></label><div class='xr-var-attrs'><dl class='xr-attrs'><dt><span>long_name :</span></dt><dd>sample_midpoint_time_in_seconds_since_january_1_1970</dd><dt><span>comment :</span></dt><dd>POSIX midpoint time.  Number of seconds since January 1, 1970 in UTC.</dd></dl></div><div class='xr-var-data'><pre>array([&#x27;1960-03-30T12:00:00.000000000&#x27;, &#x27;1960-03-31T16:00:00.000000000&#x27;,\n",
       "       &#x27;1960-04-24T08:00:00.000000000&#x27;, ..., &#x27;2019-12-10T19:34:00.000000000&#x27;,\n",
       "       &#x27;2019-12-20T19:53:00.000000000&#x27;, &#x27;2019-12-26T19:50:00.000000000&#x27;],\n",
       "      dtype=&#x27;datetime64[ns]&#x27;)</pre></div></li><li class='xr-var-item'><div class='xr-var-name'><span>datetime</span></div><div class='xr-var-dims'>(obs)</div><div class='xr-var-dtype'>|S100</div><div class='xr-var-preview xr-preview'>...</div><input id='attrs-c0d9b28f-7eda-4eaa-9e45-c6ce01fa40cd' class='xr-var-attrs-in' type='checkbox' ><label for='attrs-c0d9b28f-7eda-4eaa-9e45-c6ce01fa40cd' title='Show/Hide attributes'><svg class='icon xr-icon-file-text2'><use xlink:href='#icon-file-text2'></use></svg></label><input id='data-c18113ef-092a-4e69-b539-f37b8f17a53a' class='xr-var-data-in' type='checkbox'><label for='data-c18113ef-092a-4e69-b539-f37b8f17a53a' title='Show/Hide data repr'><svg class='icon xr-icon-database'><use xlink:href='#icon-database'></use></svg></label><div class='xr-var-attrs'><dl class='xr-attrs'><dt><span>long_name :</span></dt><dd>air_sample_date_and_time_in_UTC</dd><dt><span>comment :</span></dt><dd>Air sample date and time in UTC ISO 8601 format. Time-averaged values are reported at the beginning of the averaging interval.</dd></dl></div><div class='xr-var-data'><pre>array([b&#x27;1960-03-30T12:00:00&#x27;, b&#x27;1960-03-31T16:00:00&#x27;, b&#x27;1960-04-24T08:00:00&#x27;,\n",
       "       ..., b&#x27;2019-12-10T19:34:00&#x27;, b&#x27;2019-12-20T19:53:00&#x27;,\n",
       "       b&#x27;2019-12-26T19:50:00&#x27;], dtype=&#x27;|S100&#x27;)</pre></div></li><li class='xr-var-item'><div class='xr-var-name'><span>time_decimal</span></div><div class='xr-var-dims'>(obs)</div><div class='xr-var-dtype'>float64</div><div class='xr-var-preview xr-preview'>...</div><input id='attrs-3c9c0e48-d874-4912-ac02-7f2ae85f06ac' class='xr-var-attrs-in' type='checkbox' ><label for='attrs-3c9c0e48-d874-4912-ac02-7f2ae85f06ac' title='Show/Hide attributes'><svg class='icon xr-icon-file-text2'><use xlink:href='#icon-file-text2'></use></svg></label><input id='data-4002c2e4-31fe-4b4b-a4fb-94718b297caa' class='xr-var-data-in' type='checkbox'><label for='data-4002c2e4-31fe-4b4b-a4fb-94718b297caa' title='Show/Hide data repr'><svg class='icon xr-icon-database'><use xlink:href='#icon-database'></use></svg></label><div class='xr-var-attrs'><dl class='xr-attrs'><dt><span>long_name :</span></dt><dd>sample_decimal_year_in_UTC</dd><dt><span>comment :</span></dt><dd>decimal year in UTC. Time-averaged values are reported at the beginning of the averaging interval.</dd></dl></div><div class='xr-var-data'><pre>array([1960.244536, 1960.247723, 1960.312386, ..., 2019.94196 , 2019.969393,\n",
       "       2019.985826])</pre></div></li><li class='xr-var-item'><div class='xr-var-name'><span>time_components</span></div><div class='xr-var-dims'>(obs, calendar_components)</div><div class='xr-var-dtype'>float64</div><div class='xr-var-preview xr-preview'>...</div><input id='attrs-21fd716a-0b63-4104-a0aa-a034385b13a8' class='xr-var-attrs-in' type='checkbox' ><label for='attrs-21fd716a-0b63-4104-a0aa-a034385b13a8' title='Show/Hide attributes'><svg class='icon xr-icon-file-text2'><use xlink:href='#icon-file-text2'></use></svg></label><input id='data-3a32d400-5333-42ec-820a-6dbe8a2348d2' class='xr-var-data-in' type='checkbox'><label for='data-3a32d400-5333-42ec-820a-6dbe8a2348d2' title='Show/Hide data repr'><svg class='icon xr-icon-database'><use xlink:href='#icon-database'></use></svg></label><div class='xr-var-attrs'><dl class='xr-attrs'><dt><span>long_name :</span></dt><dd>integer_components_of_UTC_date/time</dd><dt><span>order :</span></dt><dd>year, month, day, hour, minute, second</dd><dt><span>comment :</span></dt><dd>Calendar time components as integers.  Times and dates are UTC. Time-averaged values are reported at the beginning of the averaging interval.</dd></dl></div><div class='xr-var-data'><pre>array([[1960.,    3.,   30.,   12.,    0.,    0.],\n",
       "       [1960.,    3.,   31.,   16.,    0.,    0.],\n",
       "       [1960.,    4.,   24.,    8.,    0.,    0.],\n",
       "       ...,\n",
       "       [2019.,   12.,   10.,   19.,   34.,    0.],\n",
       "       [2019.,   12.,   20.,   19.,   53.,    0.],\n",
       "       [2019.,   12.,   26.,   19.,   50.,    0.]])</pre></div></li><li class='xr-var-item'><div class='xr-var-name'><span>solartime_components</span></div><div class='xr-var-dims'>(obs, calendar_components)</div><div class='xr-var-dtype'>float64</div><div class='xr-var-preview xr-preview'>...</div><input id='attrs-9a407edf-c1c0-405c-aa7c-3a0191b29819' class='xr-var-attrs-in' type='checkbox' ><label for='attrs-9a407edf-c1c0-405c-aa7c-3a0191b29819' title='Show/Hide attributes'><svg class='icon xr-icon-file-text2'><use xlink:href='#icon-file-text2'></use></svg></label><input id='data-e1e9005e-d24e-49a0-970d-4a2db1070444' class='xr-var-data-in' type='checkbox'><label for='data-e1e9005e-d24e-49a0-970d-4a2db1070444' title='Show/Hide data repr'><svg class='icon xr-icon-database'><use xlink:href='#icon-database'></use></svg></label><div class='xr-var-attrs'><dl class='xr-attrs'><dt><span>long_name :</span></dt><dd>integer_components_of_local_solar_date/time</dd><dt><span>order :</span></dt><dd>year, month, day, hour, minute, second</dd><dt><span>comment :</span></dt><dd>Calendar local solar time components as integers. UTC time is converted to local solar time based on longitude and day-of-year. Time-averaged values are reported at the beginning of the averaging interval.</dd></dl></div><div class='xr-var-data'><pre>array([[1.960e+03, 3.000e+00, 3.000e+01, 1.000e+00, 3.300e+01, 1.400e+01],\n",
       "       [1.960e+03, 3.000e+00, 3.100e+01, 5.000e+00, 3.300e+01, 3.300e+01],\n",
       "       [1.960e+03, 4.000e+00, 2.300e+01, 2.100e+01, 3.900e+01, 5.200e+01],\n",
       "       ...,\n",
       "       [2.019e+03, 1.200e+01, 1.000e+01, 9.000e+00, 1.800e+01, 2.400e+01],\n",
       "       [2.019e+03, 1.200e+01, 2.000e+01, 9.000e+00, 3.200e+01, 5.200e+01],\n",
       "       [2.019e+03, 1.200e+01, 2.600e+01, 9.000e+00, 2.700e+01, 4.000e+00]])</pre></div></li><li class='xr-var-item'><div class='xr-var-name'><span>value</span></div><div class='xr-var-dims'>(obs)</div><div class='xr-var-dtype'>float32</div><div class='xr-var-preview xr-preview'>...</div><input id='attrs-ddb097a1-eacc-4ee6-95f9-437a856607c3' class='xr-var-attrs-in' type='checkbox' ><label for='attrs-ddb097a1-eacc-4ee6-95f9-437a856607c3' title='Show/Hide attributes'><svg class='icon xr-icon-file-text2'><use xlink:href='#icon-file-text2'></use></svg></label><input id='data-7917bf23-801f-4e2e-bcf8-44adf39e9887' class='xr-var-data-in' type='checkbox'><label for='data-7917bf23-801f-4e2e-bcf8-44adf39e9887' title='Show/Hide data repr'><svg class='icon xr-icon-database'><use xlink:href='#icon-database'></use></svg></label><div class='xr-var-attrs'><dl class='xr-attrs'><dt><span>long_name :</span></dt><dd>measured_mole_fraction_of_trace_gas_in_dry_air</dd><dt><span>units :</span></dt><dd>mol mol-1</dd><dt><span>comment :</span></dt><dd>mole per mole of dry air</dd></dl></div><div class='xr-var-data'><pre>array([0.000318, 0.000318, 0.000319, ..., 0.000411, 0.000412, 0.000413],\n",
       "      dtype=float32)</pre></div></li><li class='xr-var-item'><div class='xr-var-name'><span>nvalue</span></div><div class='xr-var-dims'>(obs)</div><div class='xr-var-dtype'>float64</div><div class='xr-var-preview xr-preview'>...</div><input id='attrs-9894ac15-f8cd-4466-b686-5429d6c637a4' class='xr-var-attrs-in' type='checkbox' ><label for='attrs-9894ac15-f8cd-4466-b686-5429d6c637a4' title='Show/Hide attributes'><svg class='icon xr-icon-file-text2'><use xlink:href='#icon-file-text2'></use></svg></label><input id='data-b8145519-2b0f-457b-98b2-741f8c00c85a' class='xr-var-data-in' type='checkbox'><label for='data-b8145519-2b0f-457b-98b2-741f8c00c85a' title='Show/Hide data repr'><svg class='icon xr-icon-database'><use xlink:href='#icon-database'></use></svg></label><div class='xr-var-attrs'><dl class='xr-attrs'><dt><span>long_name :</span></dt><dd>number_of_measurements_contributing_to_reported_value</dd><dt><span>comment :</span></dt><dd>Number of individual measurements used to compute reported value. See provider_comment if available.</dd></dl></div><div class='xr-var-data'><pre>array([2., 2., 3., ..., 2., 2., 2.])</pre></div></li><li class='xr-var-item'><div class='xr-var-name'><span>latitude</span></div><div class='xr-var-dims'>(obs)</div><div class='xr-var-dtype'>float32</div><div class='xr-var-preview xr-preview'>...</div><input id='attrs-2448dc96-cd9d-41a7-b384-f2859d8441c3' class='xr-var-attrs-in' type='checkbox' ><label for='attrs-2448dc96-cd9d-41a7-b384-f2859d8441c3' title='Show/Hide attributes'><svg class='icon xr-icon-file-text2'><use xlink:href='#icon-file-text2'></use></svg></label><input id='data-41f51ae1-62ae-46e7-bf26-905c679f2e21' class='xr-var-data-in' type='checkbox'><label for='data-41f51ae1-62ae-46e7-bf26-905c679f2e21' title='Show/Hide data repr'><svg class='icon xr-icon-database'><use xlink:href='#icon-database'></use></svg></label><div class='xr-var-attrs'><dl class='xr-attrs'><dt><span>standard_name :</span></dt><dd>latitude</dd><dt><span>long_name :</span></dt><dd>sample_latitude_in_decimal_degrees</dd><dt><span>units :</span></dt><dd>degrees_north</dd><dt><span>comment :</span></dt><dd>Latitude at which air sample was collected.</dd></dl></div><div class='xr-var-data'><pre>array([19.5362, 19.5362, 19.5362, ..., 19.5362, 19.5362, 19.5362],\n",
       "      dtype=float32)</pre></div></li><li class='xr-var-item'><div class='xr-var-name'><span>longitude</span></div><div class='xr-var-dims'>(obs)</div><div class='xr-var-dtype'>float32</div><div class='xr-var-preview xr-preview'>...</div><input id='attrs-5c60c402-6aac-45a9-b47a-d413effdfa7b' class='xr-var-attrs-in' type='checkbox' ><label for='attrs-5c60c402-6aac-45a9-b47a-d413effdfa7b' title='Show/Hide attributes'><svg class='icon xr-icon-file-text2'><use xlink:href='#icon-file-text2'></use></svg></label><input id='data-aac0db25-61f3-4308-a636-ab842746cc28' class='xr-var-data-in' type='checkbox'><label for='data-aac0db25-61f3-4308-a636-ab842746cc28' title='Show/Hide data repr'><svg class='icon xr-icon-database'><use xlink:href='#icon-database'></use></svg></label><div class='xr-var-attrs'><dl class='xr-attrs'><dt><span>standard_name :</span></dt><dd>longitude</dd><dt><span>long_name :</span></dt><dd>sample_longitude_in_decimal_degrees</dd><dt><span>units :</span></dt><dd>degrees_east</dd><dt><span>comment :</span></dt><dd>Longitude at which air sample was collected using a range of -180 degrees to +180 degrees.</dd></dl></div><div class='xr-var-data'><pre>array([-155.5763, -155.5763, -155.5763, ..., -155.5763, -155.5763, -155.5763],\n",
       "      dtype=float32)</pre></div></li><li class='xr-var-item'><div class='xr-var-name'><span>altitude</span></div><div class='xr-var-dims'>(obs)</div><div class='xr-var-dtype'>float32</div><div class='xr-var-preview xr-preview'>...</div><input id='attrs-3d64208e-3034-4215-940e-2cb0be3cf213' class='xr-var-attrs-in' type='checkbox' ><label for='attrs-3d64208e-3034-4215-940e-2cb0be3cf213' title='Show/Hide attributes'><svg class='icon xr-icon-file-text2'><use xlink:href='#icon-file-text2'></use></svg></label><input id='data-197a3841-0653-42b8-9bb2-426baf6537fb' class='xr-var-data-in' type='checkbox'><label for='data-197a3841-0653-42b8-9bb2-426baf6537fb' title='Show/Hide data repr'><svg class='icon xr-icon-database'><use xlink:href='#icon-database'></use></svg></label><div class='xr-var-attrs'><dl class='xr-attrs'><dt><span>standard_name :</span></dt><dd>altitude</dd><dt><span>long_name :</span></dt><dd>sample_altitude_in_meters_above_sea_level</dd><dt><span>units :</span></dt><dd>m</dd><dt><span>comment :</span></dt><dd>Altitude (in meters above sea level). See provider_comment if available.</dd><dt><span>provider_comment :</span></dt><dd>Altitude for this dataset is the sum of surface elevation (masl) and sample intake height (magl).</dd></dl></div><div class='xr-var-data'><pre>array([3407., 3407., 3407., ..., 3407., 3407., 3407.], dtype=float32)</pre></div></li><li class='xr-var-item'><div class='xr-var-name'><span>elevation</span></div><div class='xr-var-dims'>(obs)</div><div class='xr-var-dtype'>float32</div><div class='xr-var-preview xr-preview'>...</div><input id='attrs-dcf78286-34b3-42eb-896f-19bf7795b238' class='xr-var-attrs-in' type='checkbox' ><label for='attrs-dcf78286-34b3-42eb-896f-19bf7795b238' title='Show/Hide attributes'><svg class='icon xr-icon-file-text2'><use xlink:href='#icon-file-text2'></use></svg></label><input id='data-e985c0bc-c24a-4f42-88ed-4e8125f457ed' class='xr-var-data-in' type='checkbox'><label for='data-e985c0bc-c24a-4f42-88ed-4e8125f457ed' title='Show/Hide data repr'><svg class='icon xr-icon-database'><use xlink:href='#icon-database'></use></svg></label><div class='xr-var-attrs'><dl class='xr-attrs'><dt><span>standard_name :</span></dt><dd>elevation</dd><dt><span>long_name :</span></dt><dd>surface_elevation_in_meters_above_sea_level</dd><dt><span>units :</span></dt><dd>m</dd><dt><span>comment :</span></dt><dd>Surface elevation in meters above sea level. See provider_comment if available.</dd></dl></div><div class='xr-var-data'><pre>array([3397., 3397., 3397., ..., 3397., 3397., 3397.], dtype=float32)</pre></div></li><li class='xr-var-item'><div class='xr-var-name'><span>intake_height</span></div><div class='xr-var-dims'>(obs)</div><div class='xr-var-dtype'>float32</div><div class='xr-var-preview xr-preview'>...</div><input id='attrs-5ee0e844-ca6c-4189-947f-179b199caa41' class='xr-var-attrs-in' type='checkbox' ><label for='attrs-5ee0e844-ca6c-4189-947f-179b199caa41' title='Show/Hide attributes'><svg class='icon xr-icon-file-text2'><use xlink:href='#icon-file-text2'></use></svg></label><input id='data-09334c16-37cb-4a6c-a962-81f3f442e153' class='xr-var-data-in' type='checkbox'><label for='data-09334c16-37cb-4a6c-a962-81f3f442e153' title='Show/Hide data repr'><svg class='icon xr-icon-database'><use xlink:href='#icon-database'></use></svg></label><div class='xr-var-attrs'><dl class='xr-attrs'><dt><span>long_name :</span></dt><dd>sample_intake_height_in_meters_above_ground_level</dd><dt><span>units :</span></dt><dd>m</dd><dt><span>comment :</span></dt><dd>Sample intake height in meters above ground level (magl). See provider_comment if available.</dd></dl></div><div class='xr-var-data'><pre>array([10., 10., 10., ..., 10., 10., 10.], dtype=float32)</pre></div></li><li class='xr-var-item'><div class='xr-var-name'><span>obs_flag</span></div><div class='xr-var-dims'>(obs)</div><div class='xr-var-dtype'>float64</div><div class='xr-var-preview xr-preview'>...</div><input id='attrs-a4897c0f-7673-4ade-a268-0e30319e849a' class='xr-var-attrs-in' type='checkbox' ><label for='attrs-a4897c0f-7673-4ade-a268-0e30319e849a' title='Show/Hide attributes'><svg class='icon xr-icon-file-text2'><use xlink:href='#icon-file-text2'></use></svg></label><input id='data-6a61d07d-f191-4553-aa4d-58bedcba04bf' class='xr-var-data-in' type='checkbox'><label for='data-6a61d07d-f191-4553-aa4d-58bedcba04bf' title='Show/Hide data repr'><svg class='icon xr-icon-database'><use xlink:href='#icon-database'></use></svg></label><div class='xr-var-attrs'><dl class='xr-attrs'><dt><span>long_name :</span></dt><dd>obs_flag</dd><dt><span>units :</span></dt><dd>binary</dd><dt><span>comment :</span></dt><dd>Determined by data provider (1: large spatial scale representation; 0: local/regional influence).  The implementation of this flag is still being developed.</dd></dl></div><div class='xr-var-data'><pre>array([1., 1., 1., ..., 1., 1., 1.])</pre></div></li><li class='xr-var-item'><div class='xr-var-name'><span>assimilation_concerns</span></div><div class='xr-var-dims'>(obs, dim_concerns)</div><div class='xr-var-dtype'>int32</div><div class='xr-var-preview xr-preview'>...</div><input id='attrs-73dbcbb9-d8be-4f86-8e31-edcb458194bb' class='xr-var-attrs-in' type='checkbox' ><label for='attrs-73dbcbb9-d8be-4f86-8e31-edcb458194bb' title='Show/Hide attributes'><svg class='icon xr-icon-file-text2'><use xlink:href='#icon-file-text2'></use></svg></label><input id='data-a993446d-4690-40ee-b552-9624fb72b35a' class='xr-var-data-in' type='checkbox'><label for='data-a993446d-4690-40ee-b552-9624fb72b35a' title='Show/Hide data repr'><svg class='icon xr-icon-database'><use xlink:href='#icon-database'></use></svg></label><div class='xr-var-attrs'><dl class='xr-attrs'><dt><span>long_name :</span></dt><dd>assimilation_concerns</dd><dt><span>units :</span></dt><dd>NA</dd><dt><span>order :</span></dt><dd>time window, representivity, variability, under review, wdcgg-background</dd><dt><span>comment :</span></dt><dd>Values in this array indicate if the given observation has the assimilation concern defined by each column. A value of 0 means that there is no concern or it is not known to exist, and a non-zero value means that this concern does exist. Data suitable for a global scale model in general will have a 0 in the time window, representivity, and variability columns of this variable. The implementation of this variable is still being developed.</dd></dl></div><div class='xr-var-data'><pre>array([[0, 0, 0, 0, 0],\n",
       "       [0, 0, 0, 0, 0],\n",
       "       [0, 0, 0, 0, 0],\n",
       "       ...,\n",
       "       [0, 0, 0, 0, 0],\n",
       "       [0, 0, 0, 0, 0],\n",
       "       [0, 0, 0, 0, 0]], dtype=int32)</pre></div></li><li class='xr-var-item'><div class='xr-var-name'><span>obs_num</span></div><div class='xr-var-dims'>(obs)</div><div class='xr-var-dtype'>int32</div><div class='xr-var-preview xr-preview'>...</div><input id='attrs-652b964e-31d4-4c79-8864-9fe732f1a4be' class='xr-var-attrs-in' type='checkbox' ><label for='attrs-652b964e-31d4-4c79-8864-9fe732f1a4be' title='Show/Hide attributes'><svg class='icon xr-icon-file-text2'><use xlink:href='#icon-file-text2'></use></svg></label><input id='data-7b888161-9ad6-4a2c-ab84-e757cd65def4' class='xr-var-data-in' type='checkbox'><label for='data-7b888161-9ad6-4a2c-ab84-e757cd65def4' title='Show/Hide data repr'><svg class='icon xr-icon-database'><use xlink:href='#icon-database'></use></svg></label><div class='xr-var-attrs'><dl class='xr-attrs'><dt><span>long_name :</span></dt><dd>unique_dataset_observation_number</dd><dt><span>comment :</span></dt><dd>Unique observation number in this data set.  Range is from 1 to UNLIMITED.</dd></dl></div><div class='xr-var-data'><pre>array([   1,    2,    3, ..., 2157, 2158, 2159], dtype=int32)</pre></div></li><li class='xr-var-item'><div class='xr-var-name'><span>obspack_num</span></div><div class='xr-var-dims'>(obs)</div><div class='xr-var-dtype'>int32</div><div class='xr-var-preview xr-preview'>...</div><input id='attrs-19fc58bf-9cde-4f69-9815-8d159d7682d0' class='xr-var-attrs-in' type='checkbox' ><label for='attrs-19fc58bf-9cde-4f69-9815-8d159d7682d0' title='Show/Hide attributes'><svg class='icon xr-icon-file-text2'><use xlink:href='#icon-file-text2'></use></svg></label><input id='data-e8c7f579-c86c-44d7-a46a-cf8963a14ac1' class='xr-var-data-in' type='checkbox'><label for='data-e8c7f579-c86c-44d7-a46a-cf8963a14ac1' title='Show/Hide data repr'><svg class='icon xr-icon-database'><use xlink:href='#icon-database'></use></svg></label><div class='xr-var-attrs'><dl class='xr-attrs'><dt><span>long_name :</span></dt><dd>unique_ObsPack_observation_number</dd><dt><span>comment :</span></dt><dd>Unique observation index number across all data sets in the ObsPack data product. Range is from 1 to max_obspack_num</dd></dl></div><div class='xr-var-data'><pre>array([10717938, 10717939, 10717940, ..., 10720094, 10720095, 10720096],\n",
       "      dtype=int32)</pre></div></li><li class='xr-var-item'><div class='xr-var-name'><span>obspack_id</span></div><div class='xr-var-dims'>(obs)</div><div class='xr-var-dtype'>|S200</div><div class='xr-var-preview xr-preview'>...</div><input id='attrs-5c91779e-54b9-4181-b280-24b65a6fc65e' class='xr-var-attrs-in' type='checkbox' ><label for='attrs-5c91779e-54b9-4181-b280-24b65a6fc65e' title='Show/Hide attributes'><svg class='icon xr-icon-file-text2'><use xlink:href='#icon-file-text2'></use></svg></label><input id='data-c970a74a-6b76-4b48-a8c5-f7529fbebb1c' class='xr-var-data-in' type='checkbox'><label for='data-c970a74a-6b76-4b48-a8c5-f7529fbebb1c' title='Show/Hide data repr'><svg class='icon xr-icon-database'><use xlink:href='#icon-database'></use></svg></label><div class='xr-var-attrs'><dl class='xr-attrs'><dt><span>long_name :</span></dt><dd>unique_ObsPack_identification_string</dd><dt><span>comment :</span></dt><dd>ObsPack observation identification string.  Unique across ALL ObsPack data products.  Includes Obspack name, data set name, and ObsPack observation number delimited by a tilde (~).</dd></dl></div><div class='xr-var-data'><pre>array([b&#x27;obspack_co2_1_GLOBALVIEWplus_v6.0_2020-09-11~co2_mlo_surface-flask_426_representative~10717938&#x27;,\n",
       "       b&#x27;obspack_co2_1_GLOBALVIEWplus_v6.0_2020-09-11~co2_mlo_surface-flask_426_representative~10717939&#x27;,\n",
       "       b&#x27;obspack_co2_1_GLOBALVIEWplus_v6.0_2020-09-11~co2_mlo_surface-flask_426_representative~10717940&#x27;,\n",
       "       ...,\n",
       "       b&#x27;obspack_co2_1_GLOBALVIEWplus_v6.0_2020-09-11~co2_mlo_surface-flask_426_representative~10720094&#x27;,\n",
       "       b&#x27;obspack_co2_1_GLOBALVIEWplus_v6.0_2020-09-11~co2_mlo_surface-flask_426_representative~10720095&#x27;,\n",
       "       b&#x27;obspack_co2_1_GLOBALVIEWplus_v6.0_2020-09-11~co2_mlo_surface-flask_426_representative~10720096&#x27;],\n",
       "      dtype=&#x27;|S200&#x27;)</pre></div></li><li class='xr-var-item'><div class='xr-var-name'><span>unique_sample_location_num</span></div><div class='xr-var-dims'>(obs)</div><div class='xr-var-dtype'>int32</div><div class='xr-var-preview xr-preview'>...</div><input id='attrs-f9e5425a-ef9e-46f9-99b9-102f19483ef4' class='xr-var-attrs-in' type='checkbox' ><label for='attrs-f9e5425a-ef9e-46f9-99b9-102f19483ef4' title='Show/Hide attributes'><svg class='icon xr-icon-file-text2'><use xlink:href='#icon-file-text2'></use></svg></label><input id='data-c7e564d6-70ed-45c8-b4ad-0879e0a05b32' class='xr-var-data-in' type='checkbox'><label for='data-c7e564d6-70ed-45c8-b4ad-0879e0a05b32' title='Show/Hide data repr'><svg class='icon xr-icon-database'><use xlink:href='#icon-database'></use></svg></label><div class='xr-var-attrs'><dl class='xr-attrs'><dt><span>long_name :</span></dt><dd>unique_sample_location_num</dd><dt><span>comment :</span></dt><dd>This variable uniquely identifies a sample location and datetime. The number assigned to each observation in this variable will be the same in all future ObsPack products including ones for other species measured in that sample.</dd></dl></div><div class='xr-var-data'><pre>array([11463666, 11463667, 11463668, ..., 11465822, 11465823, 11465824],\n",
       "      dtype=int32)</pre></div></li><li class='xr-var-item'><div class='xr-var-name'><span>CT_RMSE</span></div><div class='xr-var-dims'>(obs)</div><div class='xr-var-dtype'>float32</div><div class='xr-var-preview xr-preview'>...</div><input id='attrs-32dc2099-954f-4f24-a56b-efb08bc5a802' class='xr-var-attrs-in' type='checkbox' ><label for='attrs-32dc2099-954f-4f24-a56b-efb08bc5a802' title='Show/Hide attributes'><svg class='icon xr-icon-file-text2'><use xlink:href='#icon-file-text2'></use></svg></label><input id='data-f1d0c213-5a95-4a1c-b7a1-b19bf02916bf' class='xr-var-data-in' type='checkbox'><label for='data-f1d0c213-5a95-4a1c-b7a1-b19bf02916bf' title='Show/Hide data repr'><svg class='icon xr-icon-database'><use xlink:href='#icon-database'></use></svg></label><div class='xr-var-attrs'><dl class='xr-attrs'><dt><span>units :</span></dt><dd>mol mol-1</dd><dt><span>source :</span></dt><dd>RMSE from which CT2019 model-data-mismatch is generated.</dd></dl></div><div class='xr-var-data'><pre>array([1.082269e-06, 5.383301e-07, 4.608960e-07, ..., 5.495766e-07,\n",
       "       5.495766e-07, 5.495766e-07], dtype=float32)</pre></div></li><li class='xr-var-item'><div class='xr-var-name'><span>CT_assim</span></div><div class='xr-var-dims'>(obs)</div><div class='xr-var-dtype'>int32</div><div class='xr-var-preview xr-preview'>...</div><input id='attrs-64897444-6f79-4460-9999-b64abea3b417' class='xr-var-attrs-in' type='checkbox' ><label for='attrs-64897444-6f79-4460-9999-b64abea3b417' title='Show/Hide attributes'><svg class='icon xr-icon-file-text2'><use xlink:href='#icon-file-text2'></use></svg></label><input id='data-0fa6a682-0dbb-4df2-9e32-79c571619c78' class='xr-var-data-in' type='checkbox'><label for='data-0fa6a682-0dbb-4df2-9e32-79c571619c78' title='Show/Hide data repr'><svg class='icon xr-icon-database'><use xlink:href='#icon-database'></use></svg></label><div class='xr-var-attrs'><dl class='xr-attrs'><dt><span>units :</span></dt><dd>NA</dd><dt><span>values :</span></dt><dd>1=assimilate; 0=do-not-assimilate; 2=assimilable but withheld for cross-validation</dd></dl></div><div class='xr-var-data'><pre>array([1, 1, 1, ..., 1, 1, 1], dtype=int32)</pre></div></li><li class='xr-var-item'><div class='xr-var-name'><span>CT_MDM</span></div><div class='xr-var-dims'>(obs)</div><div class='xr-var-dtype'>float32</div><div class='xr-var-preview xr-preview'>...</div><input id='attrs-45f66483-c900-4e9f-b796-eb98909460cd' class='xr-var-attrs-in' type='checkbox' ><label for='attrs-45f66483-c900-4e9f-b796-eb98909460cd' title='Show/Hide attributes'><svg class='icon xr-icon-file-text2'><use xlink:href='#icon-file-text2'></use></svg></label><input id='data-9ee8c7b1-f06f-4547-8acb-bf9241285921' class='xr-var-data-in' type='checkbox'><label for='data-9ee8c7b1-f06f-4547-8acb-bf9241285921' title='Show/Hide data repr'><svg class='icon xr-icon-database'><use xlink:href='#icon-database'></use></svg></label><div class='xr-var-attrs'><dl class='xr-attrs'><dt><span>units :</span></dt><dd>mol mol-1</dd><dt><span>warning :</span></dt><dd>Provisional CT2019 model-data-mismatch, subject to revision</dd></dl></div><div class='xr-var-data'><pre>array([1.028156e-06, 5.114136e-07, 4.378512e-07, ..., 5.220977e-07,\n",
       "       5.220977e-07, 5.220977e-07], dtype=float32)</pre></div></li><li class='xr-var-item'><div class='xr-var-name'><span>CT_sampling_strategy</span></div><div class='xr-var-dims'>(obs)</div><div class='xr-var-dtype'>int32</div><div class='xr-var-preview xr-preview'>...</div><input id='attrs-078a1fcf-ce48-4f10-a66a-6a6eed13d651' class='xr-var-attrs-in' type='checkbox' ><label for='attrs-078a1fcf-ce48-4f10-a66a-6a6eed13d651' title='Show/Hide attributes'><svg class='icon xr-icon-file-text2'><use xlink:href='#icon-file-text2'></use></svg></label><input id='data-10c54226-7954-45e7-b0b0-ff51b0ef8bf6' class='xr-var-data-in' type='checkbox'><label for='data-10c54226-7954-45e7-b0b0-ff51b0ef8bf6' title='Show/Hide data repr'><svg class='icon xr-icon-database'><use xlink:href='#icon-database'></use></svg></label><div class='xr-var-attrs'><dl class='xr-attrs'><dt><span>units :</span></dt><dd>NA</dd><dt><span>values :</span></dt><dd>How to sample model. 1=4-hour avg; 2=1-hour avg; 3=90-min avg; 4=instantaneous</dd></dl></div><div class='xr-var-data'><pre>array([2, 2, 2, ..., 2, 2, 2], dtype=int32)</pre></div></li><li class='xr-var-item'><div class='xr-var-name'><span>CT_may_localize</span></div><div class='xr-var-dims'>(obs)</div><div class='xr-var-dtype'>int32</div><div class='xr-var-preview xr-preview'>...</div><input id='attrs-55e2dc45-1fb4-4ca1-a3c2-edba2c671637' class='xr-var-attrs-in' type='checkbox' ><label for='attrs-55e2dc45-1fb4-4ca1-a3c2-edba2c671637' title='Show/Hide attributes'><svg class='icon xr-icon-file-text2'><use xlink:href='#icon-file-text2'></use></svg></label><input id='data-93f88022-04b6-46ce-ac3e-6f447356bfaa' class='xr-var-data-in' type='checkbox'><label for='data-93f88022-04b6-46ce-ac3e-6f447356bfaa' title='Show/Hide data repr'><svg class='icon xr-icon-database'><use xlink:href='#icon-database'></use></svg></label><div class='xr-var-attrs'><dl class='xr-attrs'><dt><span>units :</span></dt><dd>NA</dd><dt><span>values :</span></dt><dd>CT internal EnKF flag, logical: 0 (FALSE)=may not localize; 1 (TRUE)=may localize</dd></dl></div><div class='xr-var-data'><pre>array([1, 1, 1, ..., 1, 1, 1], dtype=int32)</pre></div></li><li class='xr-var-item'><div class='xr-var-name'><span>CT_may_reject</span></div><div class='xr-var-dims'>(obs)</div><div class='xr-var-dtype'>int32</div><div class='xr-var-preview xr-preview'>...</div><input id='attrs-8d18f2d4-fa52-4a02-b482-7a59743d1ffb' class='xr-var-attrs-in' type='checkbox' ><label for='attrs-8d18f2d4-fa52-4a02-b482-7a59743d1ffb' title='Show/Hide attributes'><svg class='icon xr-icon-file-text2'><use xlink:href='#icon-file-text2'></use></svg></label><input id='data-73886a80-7f13-4365-9082-1b53421e8b85' class='xr-var-data-in' type='checkbox'><label for='data-73886a80-7f13-4365-9082-1b53421e8b85' title='Show/Hide data repr'><svg class='icon xr-icon-database'><use xlink:href='#icon-database'></use></svg></label><div class='xr-var-attrs'><dl class='xr-attrs'><dt><span>units :</span></dt><dd>NA</dd><dt><span>values :</span></dt><dd>CT internal EnKF flag, logical: 0 (FALSE)=may not reject; 1 (TRUE)=may reject</dd></dl></div><div class='xr-var-data'><pre>array([1, 1, 1, ..., 1, 1, 1], dtype=int32)</pre></div></li></ul></div></li><li class='xr-section-item'><input id='section-f71565ab-3c98-436d-84dc-4ee297f1bd9d' class='xr-section-summary-in' type='checkbox'  ><label for='section-f71565ab-3c98-436d-84dc-4ee297f1bd9d' class='xr-section-summary' >Attributes: <span>(120)</span></label><div class='xr-section-inline-details'></div><div class='xr-section-details'><dl class='xr-attrs'><dt><span>site_code :</span></dt><dd>MLO</dd><dt><span>site_name :</span></dt><dd>Mauna Loa, Hawaii</dd><dt><span>site_country :</span></dt><dd>United States</dd><dt><span>site_country_flag :</span></dt><dd>UNST0001.GIF</dd><dt><span>site_latitude :</span></dt><dd>19.5362</dd><dt><span>site_longitude :</span></dt><dd>-155.5763</dd><dt><span>site_elevation :</span></dt><dd>3397.0</dd><dt><span>site_elevation_unit :</span></dt><dd>masl</dd><dt><span>site_position_comment :</span></dt><dd>This is the nominal location of the site. The sampling location at many sites has changed over time, and we report here the most recent nominal location. The actual sampling location for each observation is not necessarily the site location. The sampling locations for each observation are reported in the latitude, longitude, and altitude variables.</dd><dt><span>site_utc2lst :</span></dt><dd>-10.0</dd><dt><span>site_utc2lst_comment :</span></dt><dd>Add &#x27;site_utc2lst&#x27; hours to convert a time stamp in UTC (Coordinated Universal Time) to LST (Local Standard Time).</dd><dt><span>site_url :</span></dt><dd>http://www.esrl.noaa.gov/gmd/obop/mlo/</dd><dt><span>dataset_creation_date :</span></dt><dd>2020-09-11T18:02:08.200384</dd><dt><span>dataset_num :</span></dt><dd>319</dd><dt><span>dataset_name :</span></dt><dd>co2_mlo_surface-flask_426_representative</dd><dt><span>dataset_globalview_prefix :</span></dt><dd>mlo_426D0</dd><dt><span>dataset_process :</span></dt><dd>PassThru</dd><dt><span>dataset_parameter :</span></dt><dd>co2</dd><dt><span>dataset_project :</span></dt><dd>surface-flask</dd><dt><span>dataset_platform :</span></dt><dd>fixed</dd><dt><span>dataset_map :</span></dt><dd>map_mlo_surface-flask_426.png</dd><dt><span>dataset_selection :</span></dt><dd>representative with outliers flagged</dd><dt><span>dataset_selection_tag :</span></dt><dd>representative</dd><dt><span>dataset_comment :</span></dt><dd>These atmospheric CO2 records are associated with the Scripps CO2 Program.</dd><dt><span>dataset_calibration_scale :</span></dt><dd>2008A SIO manometric mole fraction scale</dd><dt><span>dataset_start_date :</span></dt><dd>1960-03-30T12:00:00Z</dd><dt><span>dataset_stop_date :</span></dt><dd>2019-12-26T19:50:00Z</dd><dt><span>dataset_intake_ht :</span></dt><dd>10.0</dd><dt><span>dataset_intake_ht_unit :</span></dt><dd>magl</dd><dt><span>dataset_description :</span></dt><dd>This data package is intended for use in carbon cycle inverse modeling, model evaluation, and satellite validation studies.  Please report errors and send comments regarding this product to the ObsPack originators.  Please read carefully the ObsPack Fair Use statement and cite appropriately. This is the sixth release of the GLOBALVIEWplus (GV+) cooperative data product. Please review the release notes for this product www.esrl.noaa.gov/gmd/ccgg/obspack/release_notes.html. DOI metadata for this product are available at https://search.datacite.org/works/10.25925/20200903.</dd><dt><span>dataset_usage_url :</span></dt><dd>https://www.esrl.noaa.gov/gmd/ccgg/obspack/citation.php?product=obspack_co2_1_GLOBALVIEWplus_v6.0_2020-09-11</dd><dt><span>dataset_usage_description :</span></dt><dd>In addition to this product&#x27;s citation we ask that you please cite the following provider citations when using data from this dataset.</dd><dt><span>dataset_provider_citation_1 :</span></dt><dd>C. D. Keeling, S. C. Piper, R. B. Bacastow, M. Wahlen, T. P. Whorf, M. Heimann, and H. A. Meijer, Exchanges of atmospheric CO2 and 13CO2 with the terrestrial biosphere and oceans from 1978 to 2000.  I. Global aspects, SIO Reference Series, No. 01-06, Scripps Institution of Oceanography, San Diego, 88 pages, 2001.</dd><dt><span>dataset_identifier_1 :</span></dt><dd>[]</dd><dt><span>dataset_provider_citation_total :</span></dt><dd>1</dd><dt><span>dataset_reference_total_listed :</span></dt><dd>0</dd><dt><span>dataset_contribution :</span></dt><dd>These data are provided by SIO_CO2. Principal investigators include Ralph Keeling (SIO) AND Steve Piper () AND Adam Cox () AND Stephen Walker () AND Lynne Merchant (SIO).</dd><dt><span>lab_total_listed :</span></dt><dd>1</dd><dt><span>lab_1_number :</span></dt><dd>426</dd><dt><span>lab_1_abbr :</span></dt><dd>SIO_CO2</dd><dt><span>lab_1_name :</span></dt><dd>Scripps Institution of Oceanography CO2 Program</dd><dt><span>lab_1_address1 :</span></dt><dd>University of California</dd><dt><span>lab_1_address2 :</span></dt><dd>La Jolla, California 92093-0244</dd><dt><span>lab_1_country :</span></dt><dd>United  States</dd><dt><span>lab_1_url :</span></dt><dd>http://scrippsco2.ucsd.edu/</dd><dt><span>lab_1_parameter :</span></dt><dd>Lab has contributed measurements for: co2</dd><dt><span>lab_1_country_flag :</span></dt><dd>UNST0001.GIF</dd><dt><span>lab_1_logo :</span></dt><dd>sio_medium.png</dd><dt><span>lab_1_ongoing_atmospheric_air_comparison :</span></dt><dd>T</dd><dt><span>provider_total_listed :</span></dt><dd>5</dd><dt><span>provider_1_name :</span></dt><dd>Ralph Keeling</dd><dt><span>provider_1_address1 :</span></dt><dd>Scripps Institution of Oceanography</dd><dt><span>provider_1_address2 :</span></dt><dd>University of California</dd><dt><span>provider_1_address3 :</span></dt><dd>La Jolla, California 92093-0244</dd><dt><span>provider_1_country :</span></dt><dd>United States</dd><dt><span>provider_1_affiliation :</span></dt><dd>Scripps Institution of Oceanography</dd><dt><span>provider_1_email :</span></dt><dd>rkeeling@ucsd.edu</dd><dt><span>provider_1_tel :</span></dt><dd>858-534-7582</dd><dt><span>provider_1_parameter :</span></dt><dd>Provider has contributed measurements for: co2</dd><dt><span>provider_2_name :</span></dt><dd>Steve Piper</dd><dt><span>provider_2_address1 :</span></dt><dd>Scripps Institution of Oceanography</dd><dt><span>provider_2_address2 :</span></dt><dd>University of California</dd><dt><span>provider_2_address3 :</span></dt><dd>La Jolla, California 92093-0244</dd><dt><span>provider_2_country :</span></dt><dd>United  States</dd><dt><span>provider_2_affiliation :</span></dt><dd>Scripps Institution of Oceanography</dd><dt><span>provider_2_email :</span></dt><dd>scpiper@ucsd.edu</dd><dt><span>provider_2_tel :</span></dt><dd>858-534-3991</dd><dt><span>provider_2_parameter :</span></dt><dd>Provider has contributed measurements for: co2</dd><dt><span>provider_3_name :</span></dt><dd>Adam Cox</dd><dt><span>provider_3_address1 :</span></dt><dd>Scripps Institution of Oceanography</dd><dt><span>provider_3_address2 :</span></dt><dd>University of California</dd><dt><span>provider_3_address3 :</span></dt><dd>La Jolla, California 92093-0244</dd><dt><span>provider_3_country :</span></dt><dd>United  States</dd><dt><span>provider_3_affiliation :</span></dt><dd>Scripps Institution of Oceanography</dd><dt><span>provider_3_email :</span></dt><dd>accox@ucsd.edu</dd><dt><span>provider_3_tel :</span></dt><dd>858-534-8024</dd><dt><span>provider_3_parameter :</span></dt><dd>Provider has contributed measurements for: co2</dd><dt><span>provider_4_name :</span></dt><dd>Stephen Walker</dd><dt><span>provider_4_address1 :</span></dt><dd>Scripps Institution of Oceanography</dd><dt><span>provider_4_address2 :</span></dt><dd>University of California</dd><dt><span>provider_4_address3 :</span></dt><dd>La Jolla, California 92093-0244</dd><dt><span>provider_4_country :</span></dt><dd>United  States</dd><dt><span>provider_4_affiliation :</span></dt><dd>Scripps Institution of Oceanography</dd><dt><span>provider_4_email :</span></dt><dd>sjwalker@ucsd.edu</dd><dt><span>provider_4_tel :</span></dt><dd>858-534-5041</dd><dt><span>provider_4_parameter :</span></dt><dd>Provider has contributed measurements for: co2</dd><dt><span>provider_5_name :</span></dt><dd>Lynne Merchant</dd><dt><span>provider_5_address1 :</span></dt><dd>Scripps Institution of Oceanography</dd><dt><span>provider_5_address2 :</span></dt><dd>University of California</dd><dt><span>provider_5_address3 :</span></dt><dd>La Jolla, California 92093-0244</dd><dt><span>provider_5_country :</span></dt><dd>United States</dd><dt><span>provider_5_affiliation :</span></dt><dd>Scripps Institution of Oceanography</dd><dt><span>provider_5_email :</span></dt><dd>lmerchant@ucsd.edu</dd><dt><span>provider_5_parameter :</span></dt><dd>Provider has contributed measurements for: co2</dd><dt><span>obspack_originator_lab_total_listed :</span></dt><dd>2</dd><dt><span>obspack_originator_lab_1_abbr :</span></dt><dd>NOAA</dd><dt><span>obspack_originator_lab_1_name :</span></dt><dd>NOAA Global Monitoring Laboratory</dd><dt><span>obspack_originator_lab_1_number :</span></dt><dd>1</dd><dt><span>obspack_originator_lab_2_abbr :</span></dt><dd>WU</dd><dt><span>obspack_originator_lab_2_name :</span></dt><dd>Wageningen University</dd><dt><span>obspack_originator_lab_2_number :</span></dt><dd>111</dd><dt><span>obspack_originator_individual_total_listed :</span></dt><dd>3</dd><dt><span>obspack_originator_individual_1_name :</span></dt><dd>Kenneth N. Schuldt</dd><dt><span>obspack_originator_individual_1_email :</span></dt><dd>kenneth.schuldt@noaa.gov</dd><dt><span>obspack_originator_individual_1_affiliation :</span></dt><dd>NOAA</dd><dt><span>obspack_originator_individual_2_name :</span></dt><dd>John Mund</dd><dt><span>obspack_originator_individual_2_email :</span></dt><dd>john.mund@noaa.gov</dd><dt><span>obspack_originator_individual_2_affiliation :</span></dt><dd>NOAA</dd><dt><span>obspack_originator_individual_3_name :</span></dt><dd>Ingrid T. Luijkx</dd><dt><span>obspack_originator_individual_3_email :</span></dt><dd>ingrid.luijkx@wur.nl</dd><dt><span>obspack_originator_individual_3_affiliation :</span></dt><dd>WU AND ICOS-CP</dd><dt><span>obspack_variables_and_attributes :</span></dt><dd>ObsPack variables and attributes are described at www.esrl.noaa.gov/gmd/ccgg/obspack/documentation.html#MetaData</dd><dt><span>obspack_name :</span></dt><dd>obspack_co2_1_GLOBALVIEWplus_v6.0_2020-09-11</dd><dt><span>obspack_description :</span></dt><dd>This data package is intended for use in carbon cycle inverse modeling, model evaluation, and satellite validation studies.  Please report errors and send comments regarding this product to the ObsPack originators.  Please read carefully the ObsPack Fair Use statement and cite appropriately. This is the sixth release of the GLOBALVIEWplus (GV+) cooperative data product. Please review the release notes for this product www.esrl.noaa.gov/gmd/ccgg/obspack/release_notes.html. DOI metadata for this product are available at https://search.datacite.org/works/10.25925/20200903. Please visit http://www.esrl.noaa.gov/gmd/ccgg/obspack/ for more information.</dd><dt><span>obspack_creation_date :</span></dt><dd>2020-09-11T18:02:08.200384</dd><dt><span>obspack_warning :</span></dt><dd>Every effort is made to create the most accurate and precise data product possible. Contributors reserve the right to make corrections to this product and data based on recalibration of standard gases or for other reasons deemed scientifically justified. Contributors to this product are not responsible for results and conclusions based on use of this product without regard to this warning.</dd><dt><span>obspack_fair_use :</span></dt><dd>This cooperative data product is made freely available to the scientific community and is intended to stimulate and support carbon cycle modeling studies.  We rely on the ethics and integrity of the user to assure that each contributing national and university laboratory receives fair credit for their work. Fair credit will depend on the nature of the work and the requirements of the institutions involved.Your use of this data product implies an agreement to contact each contributing laboratory for data sets used to discuss the nature of the work and the appropriate level of acknowledgement. If this product is essential to the work, or if an important result or conclusion depends on this product, co-authorship may be appropriate. This should be discussed with the appropriate data providers at an early stage in the work.  Contacting the data providers is not optional; if you use this data product, you must contact the applicable data providers.  To help you meet your obligation, the data product includes an e-mail distribution list of all data providers.This data product must be obtained directly from the ObsPack Data Portal at www.esrl.noaa.gov/gmd/ccgg/obspack/ and may not be re-distributed.  In addition to the conditions of fair use as stated above, users must also include the ObsPack product citation in any publication or presentation using the product.  The required citation is included in every data product and in the automated e-mail sent to the user during product download.</dd><dt><span>obspack_usage_policy :</span></dt><dd>www.esrl.noaa.gov/gmd/ccgg/obspack/citation.php?product=obspack_co2_1_GLOBALVIEWplus_v6.0_2020-09-11</dd><dt><span>obspack_identifier_link :</span></dt><dd>http://doi.org/10.25925/20200903</dd><dt><span>obspack_citation :</span></dt><dd>Kenneth Schuldt, John Mund, Ingrid T. Luijkx, Andrew R. Jacobson, Tuula Aalto, James B. Abshire, Ken Aikin, Arlyn Andrews, Shuji Aoki, Francesco Apadula, Bianca Baier, Peter Bakwin, Jakub Bartyzel, Gilles Bentz, Peter Bergamaschi, Andreas Beyersdorf, Tobias Biermann, Sebastien C. Biraud, David Bowling, Gordon Brailsford, Gao Chen, Huilin Chen, Lukasz Chmura, Shane Clark, Sites Climadat, Aurelie Colomb, Roisin Commane, Sébastien Conil, Adam Cox, Paolo Cristofanelli, Emilio Cuevas, Roger Curcoll, Bruce Daube, Kenneth Davis, Martine De Mazière, Stephan De Wekker, Julian Della Coletta, Marc Delmotte, Joshua P. DiGangi, Ed Dlugokencky, James W. Elkins, Lukas Emmenegger, Marc L. Fischer, Grant Forster, Arnoud Frumau, Michal Galkowski, Luciana V. Gatti, Francois Gheusi, Emanuel Gloor, Vanessa Gomez-Trueba, Daisuke Goto, Tim Griffis, Samuel Hammer, Chad Hanson, László Haszpra, Juha Hatakka, Michal Heliasz, Arjan Hensen, Ove Hermanssen, Eric Hintsa, Jutta Holst, Dan Jaffe, Warren Joubert, Anna Karion, Stephan R. Kawa, Ralph Keeling, Petri Keronen, Pasi Kolari, Katerina Kominkova, Eric Kort, Paul Krummel, Dagmar Kubistin, Casper Labuschagne, Ray Langenfelds, Olivier Laurent, Tuomas Laurila, Thomas Lauvaux, Bev Law, John Lee, Irene Lehner, Markus Leuenberger, Ingeborg Levin, Janne Levula, John Lin, Matthias Lindauer, Zoe Loh, Morgan Lopez, Toshinobu Machida, Ivan Mammarella, Giovanni Manca, Andrew Manning, Alistair Manning, Michal V. Marek, Melissa Y. Martin, Hidekazu Matsueda, Kathryn McKain, Harro Meijer, Frank Meinhardt, Lynne Merchant, N. Mihalopoulos, Natasha Miles, John B. Miller, Charles E. Miller, Logan Mitchell, Stephen Montzka, Fred Moore, Eric Morgan, Josep-Anton Morgui, Shinji Morimoto, Bill Munger, Cathrine L. Myhre, Meelis Mölder, Jennifer Müller-Williams, Jaroslaw Necki, Sally Newman, Sylvia Nichol, Yosuke Niwa, Simon O&#x27;Doherty, Bill Paplawsky, Jeff Peischl, Olli Peltola, Jean M. Pichon, Steve Piper, Christian Plass-Duelmer, Michel Ramonet, Ramon Ramos, Enrique Reyes-Sanchez, Scott Richardson, Haris Riris, Pedro P. Rivas, Thomas Ryerson, Kazuyuki Saito, Maryann Sargent, Yousuke Sawa, Daniel Say, Bert Scheeren, Martina Schmidt, Marcus Schumacher, Mahesh K. Sha, Paul Shepson, Michael Shook, Christopher D. Sloop, Paul Smith, Martin Steinbacher, Britton Stephens, Colm Sweeney, Pieter Tans, Kirk Thoning, Margaret Torn, Pamela Trisolino, Jocelyn Turnbull, Kjetil Tørseth, Alex Vermeulen, Brian Viner, Gabriela Vitkova, Stephen Walker, Dietmar Weyrauch, Steve Wofsy, Doug Worthy, Dickon Young, Miroslaw Zimnoch, Danielle van Dinther, Pim van den Bulk; (2020): Multi-laboratory compilation of atmospheric carbon dioxide data for the period 1957-2019; obspack_co2_1_GLOBALVIEWplus_v6.0_2020-09-11; NOAA Earth System Research Laboratory, Global Monitoring Laboratory. http://doi.org/10.25925/20200903.</dd></dl></div></li></ul></div></div>"
      ],
      "text/plain": [
       "<xarray.Dataset>\n",
       "Dimensions:                     (calendar_components: 6, dim_concerns: 5, obs: 2159)\n",
       "Dimensions without coordinates: calendar_components, dim_concerns, obs\n",
       "Data variables:\n",
       "    time                        (obs) datetime64[ns] ...\n",
       "    start_time                  (obs) datetime64[ns] ...\n",
       "    midpoint_time               (obs) datetime64[ns] ...\n",
       "    datetime                    (obs) |S100 ...\n",
       "    time_decimal                (obs) float64 ...\n",
       "    time_components             (obs, calendar_components) float64 ...\n",
       "    solartime_components        (obs, calendar_components) float64 ...\n",
       "    value                       (obs) float32 ...\n",
       "    nvalue                      (obs) float64 ...\n",
       "    latitude                    (obs) float32 ...\n",
       "    longitude                   (obs) float32 ...\n",
       "    altitude                    (obs) float32 ...\n",
       "    elevation                   (obs) float32 ...\n",
       "    intake_height               (obs) float32 ...\n",
       "    obs_flag                    (obs) float64 ...\n",
       "    assimilation_concerns       (obs, dim_concerns) int32 ...\n",
       "    obs_num                     (obs) int32 ...\n",
       "    obspack_num                 (obs) int32 ...\n",
       "    obspack_id                  (obs) |S200 ...\n",
       "    unique_sample_location_num  (obs) int32 ...\n",
       "    CT_RMSE                     (obs) float32 ...\n",
       "    CT_assim                    (obs) int32 ...\n",
       "    CT_MDM                      (obs) float32 ...\n",
       "    CT_sampling_strategy        (obs) int32 ...\n",
       "    CT_may_localize             (obs) int32 ...\n",
       "    CT_may_reject               (obs) int32 ...\n",
       "Attributes:\n",
       "    site_code:                                    MLO\n",
       "    site_name:                                    Mauna Loa, Hawaii\n",
       "    site_country:                                 United States\n",
       "    site_country_flag:                            UNST0001.GIF\n",
       "    site_latitude:                                19.5362\n",
       "    site_longitude:                               -155.5763\n",
       "    site_elevation:                               3397.0\n",
       "    site_elevation_unit:                          masl\n",
       "    site_position_comment:                        This is the nominal locatio...\n",
       "    site_utc2lst:                                 -10.0\n",
       "    site_utc2lst_comment:                         Add 'site_utc2lst' hours to...\n",
       "    site_url:                                     http://www.esrl.noaa.gov/gm...\n",
       "    dataset_creation_date:                        2020-09-11T18:02:08.200384\n",
       "    dataset_num:                                  319\n",
       "    dataset_name:                                 co2_mlo_surface-flask_426_r...\n",
       "    dataset_globalview_prefix:                    mlo_426D0\n",
       "    dataset_process:                              PassThru\n",
       "    dataset_parameter:                            co2\n",
       "    dataset_project:                              surface-flask\n",
       "    dataset_platform:                             fixed\n",
       "    dataset_map:                                  map_mlo_surface-flask_426.png\n",
       "    dataset_selection:                            representative with outlier...\n",
       "    dataset_selection_tag:                        representative\n",
       "    dataset_comment:                              These atmospheric CO2 recor...\n",
       "    dataset_calibration_scale:                    2008A SIO manometric mole f...\n",
       "    dataset_start_date:                           1960-03-30T12:00:00Z\n",
       "    dataset_stop_date:                            2019-12-26T19:50:00Z\n",
       "    dataset_intake_ht:                            10.0\n",
       "    dataset_intake_ht_unit:                       magl\n",
       "    dataset_description:                          This data package is intend...\n",
       "    dataset_usage_url:                            https://www.esrl.noaa.gov/g...\n",
       "    dataset_usage_description:                    In addition to this product...\n",
       "    dataset_provider_citation_1:                  C. D. Keeling, S. C. Piper,...\n",
       "    dataset_identifier_1:                         []\n",
       "    dataset_provider_citation_total:              1\n",
       "    dataset_reference_total_listed:               0\n",
       "    dataset_contribution:                         These data are provided by ...\n",
       "    lab_total_listed:                             1\n",
       "    lab_1_number:                                 426\n",
       "    lab_1_abbr:                                   SIO_CO2\n",
       "    lab_1_name:                                   Scripps Institution of Ocea...\n",
       "    lab_1_address1:                               University of California\n",
       "    lab_1_address2:                               La Jolla, California 92093-...\n",
       "    lab_1_country:                                United  States\n",
       "    lab_1_url:                                    http://scrippsco2.ucsd.edu/\n",
       "    lab_1_parameter:                              Lab has contributed measure...\n",
       "    lab_1_country_flag:                           UNST0001.GIF\n",
       "    lab_1_logo:                                   sio_medium.png\n",
       "    lab_1_ongoing_atmospheric_air_comparison:     T\n",
       "    provider_total_listed:                        5\n",
       "    provider_1_name:                              Ralph Keeling\n",
       "    provider_1_address1:                          Scripps Institution of Ocea...\n",
       "    provider_1_address2:                          University of California\n",
       "    provider_1_address3:                          La Jolla, California 92093-...\n",
       "    provider_1_country:                           United States\n",
       "    provider_1_affiliation:                       Scripps Institution of Ocea...\n",
       "    provider_1_email:                             rkeeling@ucsd.edu\n",
       "    provider_1_tel:                               858-534-7582\n",
       "    provider_1_parameter:                         Provider has contributed me...\n",
       "    provider_2_name:                              Steve Piper\n",
       "    provider_2_address1:                          Scripps Institution of Ocea...\n",
       "    provider_2_address2:                          University of California\n",
       "    provider_2_address3:                          La Jolla, California 92093-...\n",
       "    provider_2_country:                           United  States\n",
       "    provider_2_affiliation:                       Scripps Institution of Ocea...\n",
       "    provider_2_email:                             scpiper@ucsd.edu\n",
       "    provider_2_tel:                               858-534-3991\n",
       "    provider_2_parameter:                         Provider has contributed me...\n",
       "    provider_3_name:                              Adam Cox\n",
       "    provider_3_address1:                          Scripps Institution of Ocea...\n",
       "    provider_3_address2:                          University of California\n",
       "    provider_3_address3:                          La Jolla, California 92093-...\n",
       "    provider_3_country:                           United  States\n",
       "    provider_3_affiliation:                       Scripps Institution of Ocea...\n",
       "    provider_3_email:                             accox@ucsd.edu\n",
       "    provider_3_tel:                               858-534-8024\n",
       "    provider_3_parameter:                         Provider has contributed me...\n",
       "    provider_4_name:                              Stephen Walker\n",
       "    provider_4_address1:                          Scripps Institution of Ocea...\n",
       "    provider_4_address2:                          University of California\n",
       "    provider_4_address3:                          La Jolla, California 92093-...\n",
       "    provider_4_country:                           United  States\n",
       "    provider_4_affiliation:                       Scripps Institution of Ocea...\n",
       "    provider_4_email:                             sjwalker@ucsd.edu\n",
       "    provider_4_tel:                               858-534-5041\n",
       "    provider_4_parameter:                         Provider has contributed me...\n",
       "    provider_5_name:                              Lynne Merchant\n",
       "    provider_5_address1:                          Scripps Institution of Ocea...\n",
       "    provider_5_address2:                          University of California\n",
       "    provider_5_address3:                          La Jolla, California 92093-...\n",
       "    provider_5_country:                           United States\n",
       "    provider_5_affiliation:                       Scripps Institution of Ocea...\n",
       "    provider_5_email:                             lmerchant@ucsd.edu\n",
       "    provider_5_parameter:                         Provider has contributed me...\n",
       "    obspack_originator_lab_total_listed:          2\n",
       "    obspack_originator_lab_1_abbr:                NOAA\n",
       "    obspack_originator_lab_1_name:                NOAA Global Monitoring Labo...\n",
       "    obspack_originator_lab_1_number:              1\n",
       "    obspack_originator_lab_2_abbr:                WU\n",
       "    obspack_originator_lab_2_name:                Wageningen University\n",
       "    obspack_originator_lab_2_number:              111\n",
       "    obspack_originator_individual_total_listed:   3\n",
       "    obspack_originator_individual_1_name:         Kenneth N. Schuldt\n",
       "    obspack_originator_individual_1_email:        kenneth.schuldt@noaa.gov\n",
       "    obspack_originator_individual_1_affiliation:  NOAA\n",
       "    obspack_originator_individual_2_name:         John Mund\n",
       "    obspack_originator_individual_2_email:        john.mund@noaa.gov\n",
       "    obspack_originator_individual_2_affiliation:  NOAA\n",
       "    obspack_originator_individual_3_name:         Ingrid T. Luijkx\n",
       "    obspack_originator_individual_3_email:        ingrid.luijkx@wur.nl\n",
       "    obspack_originator_individual_3_affiliation:  WU AND ICOS-CP\n",
       "    obspack_variables_and_attributes:             ObsPack variables and attri...\n",
       "    obspack_name:                                 obspack_co2_1_GLOBALVIEWplu...\n",
       "    obspack_description:                          This data package is intend...\n",
       "    obspack_creation_date:                        2020-09-11T18:02:08.200384\n",
       "    obspack_warning:                              Every effort is made to cre...\n",
       "    obspack_fair_use:                             This cooperative data produ...\n",
       "    obspack_usage_policy:                         www.esrl.noaa.gov/gmd/ccgg/...\n",
       "    obspack_identifier_link:                      http://doi.org/10.25925/202...\n",
       "    obspack_citation:                             Kenneth Schuldt, John Mund,..."
      ]
     },
     "execution_count": 14,
     "metadata": {},
     "output_type": "execute_result"
    }
   ],
   "source": [
    "ds = xr.open_dataset(datadir + native_file)\n",
    "ds"
   ]
  },
  {
   "cell_type": "code",
   "execution_count": 15,
   "metadata": {},
   "outputs": [],
   "source": [
    "# # native_file = 'co2_mlo_surface-flask_2_representative.nc'\n",
    "# # native_file = 'co2_mlo_surface-insitu_1_allvalid.nc'\n",
    "# # native_file = 'co2_mlo_surface-flask_4_representative.nc'\n",
    "# # native_file = 'co2_mlo_surface-flask_1_representative.nc'\n",
    "# native_file = 'co2_mlo_surface-flask_426_representative.nc'\n",
    "# ds = xr.open_dataset(datadir + native_file)\n",
    "\n",
    "# # To convert to datetime64 data\n",
    "# ds = xr.decode_cf(ds)\n",
    "# ds = ds.set_coords(['time', 'time_decimal', 'latitude', 'longitude', 'altitude'])\n",
    "# ds = ds.sortby(['time'])\n",
    "# ds = ds.swap_dims({\"obs\": \"time\"})\n",
    "# ppmfac = 1e6\n",
    "# ds['value'] = ds['value']*ppmfac\n",
    "# #\n",
    "# min_time = ds['time_decimal'].min().values.item()\n",
    "\n",
    "# fig, axs = plt.subplots(ncols=2, sharey=True, figsize=(12, 6))\n",
    "# varlist = ['time', 'time_decimal', 'value']\n",
    "# #\n",
    "# if bool(min_time <= 1974):\n",
    "#     ds_sub = ds[varlist].where(ds['time_decimal'] <= 1974, drop=True)\n",
    "#     axs[0].plot(ds_sub['time'], ds_sub['value'], 'o')\n",
    "# else:\n",
    "#     axs[0].text(0.2, 375, s=f\"No data before 1974. Earliest is <{str(round(min_time))}>.\")\n",
    "# #\n",
    "# ds_sub = ds[varlist].where(ds['time_decimal'] > 1974, drop=True)\n",
    "# axs[1].plot(ds_sub['time'], ds_sub['value'], 'o')"
   ]
  },
  {
   "cell_type": "code",
   "execution_count": 154,
   "metadata": {},
   "outputs": [
    {
     "name": "stdout",
     "output_type": "stream",
     "text": [
      "files: \n",
      "co2_mlo_surface-flask_2_representative.nc\n",
      "co2_mlo_surface-insitu_1_allvalid.nc\n",
      "co2_mlo_surface-flask_4_representative.nc\n",
      "co2_mlo_surface-flask_1_representative.nc\n",
      "co2_mlo_surface-flask_426_representative.nc\n"
     ]
    }
   ],
   "source": [
    "file_list = glob.glob(datadir + 'co2_mlo*.nc')\n",
    "print(\"files: \")\n",
    "print(*[os.path.basename(x) for x in file_list], sep = \"\\n\")"
   ]
  },
  {
   "cell_type": "code",
   "execution_count": 168,
   "metadata": {},
   "outputs": [],
   "source": [
    "ds_list = []\n",
    "vars_to_keep = ['value', 'nvalue''value_std_dev',\n",
    "                'time', 'start_time', 'datetime', 'time_decimal', \n",
    "                'latitude', 'longitude', 'altitude', \n",
    "                'qcflag', 'dataset_platform', 'dataset_project']\n",
    "\n",
    "for i, f in enumerate(file_list):\n",
    "    \n",
    "    thisds = xr.open_dataset(f, decode_times=False)\n",
    "    \n",
    "    if not ('qcflag' in thisds.keys()):\n",
    "        blankarray = xr.DataArray(data=[np.nan], dims=('obs'), name='qcflag').squeeze()\n",
    "        thisds = thisds.assign({'qcflag': blankarray})\n",
    "    if not ('value_std_dev' in thisds.keys()):\n",
    "        blankarray = xr.DataArray(data=[np.nan], dims=('obs'), name='value_std_dev').squeeze()\n",
    "        thisds = thisds.assign({'value_std_dev': blankarray})\n",
    "        \n",
    "    # Retain only the chosen variables\n",
    "    to_drop = []\n",
    "    for vname in thisds.keys():\n",
    "        if not (vname in vars_to_keep):\n",
    "            to_drop.append(vname)\n",
    "    newds = thisds.drop_vars(to_drop)\n",
    "    \n",
    "    n_obs = len(thisds['obs'])\n",
    "    newds = newds.assign(dataset_platform=xr.DataArray([thisds.attrs['dataset_platform']] * n_obs, dims='obs'))\n",
    "    newds = newds.assign(dataset_project=xr.DataArray([thisds.attrs['dataset_project']] * n_obs, dims='obs'))\n",
    "    \n",
    "    ds_list.append(newds)\n",
    "    \n",
    "#     if i > 100:\n",
    "#         break\n",
    "ds = xr.concat(ds_list, dim=('obs'))\n",
    "\n",
    "# display(ds)\n"
   ]
  },
  {
   "cell_type": "markdown",
   "metadata": {},
   "source": [
    "### Wrangling"
   ]
  },
  {
   "cell_type": "markdown",
   "metadata": {},
   "source": [
    "Let's sort the observations by datetime, and set the `time` variable to be the dimension of the data."
   ]
  },
  {
   "cell_type": "code",
   "execution_count": 169,
   "metadata": {},
   "outputs": [],
   "source": [
    "def time_to_datetime64(dataset):\n",
    "    # It is more convenient to work with the `time` variable as type `datetime64`.\n",
    "    return xr.decode_cf(dataset)\n",
    "\n",
    "\n",
    "ppmfac = 1e6\n",
    "def co2_molfrac_to_ppm(dataset, co2var='value'):\n",
    "    temp_ln = dataset[co2var].attrs[\"long_name\"]\n",
    "\n",
    "    # do the conversion\n",
    "    dataset[co2var] = dataset[co2var]*ppmfac\n",
    "    dataset[co2var].attrs.update({'units': 'ppm',\n",
    "                                  'long_name': temp_ln})\n",
    "    return dataset\n",
    "    \n",
    "# Do the things to the dataset.\n",
    "ds = (ds\n",
    "      .pipe(time_to_datetime64)\n",
    "      .set_coords(['time', 'time_decimal', 'latitude', 'longitude', 'altitude'])\n",
    "      .sortby(['time'])\n",
    "      .swap_dims({\"obs\": \"time\"})\n",
    "      .pipe(co2_molfrac_to_ppm, co2var='value')\n",
    "     )"
   ]
  },
  {
   "cell_type": "markdown",
   "metadata": {},
   "source": [
    "Where $CO_2$ is converted from units of $mol/mol$ to $ppm$\n",
    "\n",
    "\\begin{array}{lllll}\n",
    "    ppmfac = & \\times \\frac{1e6\\,mol_{air}}{1\\,mol_{CO_2}}\n",
    "\\end{array}\n",
    "\n",
    "\\begin{align}\n",
    "    CO_2\\,dry\\,air\\,mole\\,fraction\\,(i.e. \\frac{mol_{CO_2}}{mol_{air}}) \\times ppmfac & = ppm \\\\\n",
    "\\end{align}"
   ]
  },
  {
   "cell_type": "code",
   "execution_count": 170,
   "metadata": {},
   "outputs": [],
   "source": [
    "# temp_ln = ds['value'].attrs[\"long_name\"]\n",
    "\n",
    "# # do the conversion\n",
    "# ppmfac = 1e6\n",
    "# ds['value'] = ds['value']*ppmfac\n",
    "# ds['value'].attrs[\"units\"] = 'ppm'\n",
    "# ds['value'].attrs[\"long_name\"] = temp_ln"
   ]
  },
  {
   "cell_type": "markdown",
   "metadata": {},
   "source": [
    "### A brief look at the dataset"
   ]
  },
  {
   "cell_type": "code",
   "execution_count": 171,
   "metadata": {},
   "outputs": [
    {
     "name": "stdout",
     "output_type": "stream",
     "text": [
      "-Values-\n",
      "min: 312.6199951171875\n",
      "mean: 366.68682861328125\n",
      "max: 478.95001220703125\n"
     ]
    }
   ],
   "source": [
    "print(f\"-Values-\")\n",
    "print(f\"min: {ds['value'].min().values.item()}\")\n",
    "print(f\"mean: {ds['value'].mean().values.item()}\")\n",
    "print(f\"max: {ds['value'].max().values.item()}\")"
   ]
  },
  {
   "cell_type": "code",
   "execution_count": 172,
   "metadata": {},
   "outputs": [
    {
     "name": "stdout",
     "output_type": "stream",
     "text": [
      "Earliest date: 1960-03-30 12:00:00 (or 1960.24)\n",
      "Latest date:   2019-12-31 23:30:00 (or 2020.0)\n"
     ]
    }
   ],
   "source": [
    "print(f\"Earliest date: {pd.to_datetime(str(ds['time'].min().values))} (or {round(ds['time_decimal'].min().values.item(), 2)})\\n\"\n",
    "      f\"Latest date:   {pd.to_datetime(str(ds['time'].max().values))} (or {round(ds['time_decimal'].max().values.item(), 2)})\")"
   ]
  },
  {
   "cell_type": "markdown",
   "metadata": {},
   "source": [
    "The data span quite a long timeseries.  \n",
    "However, notice how the data are very sparse before 1974"
   ]
  },
  {
   "cell_type": "code",
   "execution_count": 173,
   "metadata": {},
   "outputs": [],
   "source": [
    "sns.set_style(\"whitegrid\", {'grid.linestyle': '--'})"
   ]
  },
  {
   "cell_type": "code",
   "execution_count": 174,
   "metadata": {
    "jupyter": {
     "source_hidden": true
    }
   },
   "outputs": [
    {
     "data": {
      "image/png": "[encoded data removed]",
      "text/plain": [
       "<Figure size 1008x288 with 3 Axes>"
      ]
     },
     "metadata": {},
     "output_type": "display_data"
    }
   ],
   "source": [
    "fig, axs = plt.subplots(ncols=3, sharey=False, figsize=(14, 4))\n",
    "\n",
    "# Plot\n",
    "ph = axs[0].hist(ds['time_decimal'].values, bins=list(range(1960, 2020+1, 1))) \n",
    "axs[0].set_ylim((0, 500))\n",
    "axs[0].set_ylabel('$count$')\n",
    "\n",
    "xs = list(range(0, 1100, 100))\n",
    "nticks = len(axs[0].get_yticks())\n",
    "axs[0].set_yticks(xs)\n",
    "# labels = [item.get_text() for item in axs[0].get_yticklabels()]\n",
    "labels = [str(item) for item in xs]\n",
    "labels[-1] = r'$\\geq$1000'\n",
    "axs[0].set_yticklabels(labels)\n",
    "fig.canvas.draw()\n",
    "\n",
    "#\n",
    "tempmask = ds['time_decimal'] >= 1960\n",
    "tempmask = tempmask & (ds['time_decimal'] < 1974)\n",
    "ds_sub = ds[['time', 'time_decimal', 'value']].where(tempmask, drop=True)\n",
    "ph = axs[1].plot(ds_sub['time'], ds_sub['value'], 'o')\n",
    "axs[1].set_ylabel('$ppm$')\n",
    "#\n",
    "tempmask = ds['time_decimal'] >= 1974\n",
    "tempmask = tempmask & (ds['time_decimal'] < 1988)\n",
    "ds_sub = ds[['time', 'time_decimal', 'value']].where(tempmask, drop=True)\n",
    "ph = axs[2].plot(ds_sub['time'], ds_sub['value'], 'o')\n",
    "axs[2].set_ylabel('$ppm$')\n",
    "\n",
    "plt.tight_layout()"
   ]
  },
  {
   "cell_type": "markdown",
   "metadata": {},
   "source": [
    "### More looks"
   ]
  },
  {
   "cell_type": "code",
   "execution_count": 183,
   "metadata": {},
   "outputs": [
    {
     "data": {
      "image/png": "[encoded data removed]",
      "text/plain": [
       "<Figure size 576x432 with 1 Axes>"
      ]
     },
     "metadata": {},
     "output_type": "display_data"
    }
   ],
   "source": [
    "\n",
    "#\n",
    "ds_sub = ds[['time', 'time_decimal', 'value']].copy()\n",
    "\n",
    "# Drop duplicate times\n",
    "_, index = np.unique(ds_sub['time'], return_index=True)\n",
    "ds_sub = ds_sub.isel(time=index)\n",
    "\n",
    "# varlist = ['time', 'time_decimal', 'value']\n",
    "# ds_sub = ds[varlist]\n",
    "\n",
    "# Select a time period\n",
    "tempmask = ds_sub['time_decimal'] >= 1960 # 1960\n",
    "tempmask = tempmask & (ds_sub['time_decimal'] < 1980)\n",
    "\n",
    "# Get original temporal resolution\n",
    "ds_prepd_orig = ds_sub.where(tempmask, drop=True).copy()\n",
    "xv_orig = ds_prepd_orig['time']\n",
    "yv_orig = ds_prepd_orig['value']\n",
    "\n",
    "# Resample the time\n",
    "ds_prepd_rs = ds_sub.where(tempmask, drop=True).copy()\n",
    "ds_prepd_rs = ds_prepd_rs.resample(time=\"1W\").interpolate(\"linear\")  # weekly average\n",
    "# ds_prepd = ds_sub.resample(time=\"1MS\").mean()  # monthly average\n",
    "# ds_prepd = ds_sub.resample(time=\"1AS\").mean()  # yearly average\n",
    "# ds_prepd = ds_sub.resample(time=\"Q\").mean()  # quarterly average (consecutive three-month periods)\n",
    "# ds_prepd = ds_sub.resample(time=\"QS-DEC\").mean()  # quarterly average (consecutive three-month periods), anchored at December 1st.\n",
    "#\n",
    "ds_prepd_rs = ds_prepd_rs.dropna(dim=('time'))\n",
    "xv = ds_prepd_rs['time']\n",
    "yv = ds_prepd_rs['value']\n",
    "\n",
    "# --- Plot ---\n",
    "fig, ax = plt.subplots(nrows=1, figsize=(8, 6))\n",
    "#\n",
    "# ax.plot(xv, yv, 'o', color='r', label='weekly')\n",
    "ax.plot(xv_orig, yv_orig, '.', color='k', label='original points')\n",
    "ax.plot(xv, yv, '-', color='r', label='weekly')\n",
    "ax.set_ylabel('$ppm$')\n",
    "ax.legend()\n",
    "\n",
    "plt.tight_layout()"
   ]
  },
  {
   "cell_type": "markdown",
   "metadata": {},
   "source": [
    "### Temporal Anomalies"
   ]
  },
  {
   "cell_type": "code",
   "execution_count": 164,
   "metadata": {
    "jupyter": {
     "source_hidden": true
    }
   },
   "outputs": [],
   "source": [
    "# Helper function for plotting datetimes with the Altair package\n",
    "def to_altair_datetime(dt):\n",
    "    dt = pd.to_datetime(dt)\n",
    "    return alt.DateTime(year=dt.year, month=dt.month, date=dt.day,\n",
    "                        hours=dt.hour, minutes=dt.minute, seconds=dt.second,\n",
    "                        milliseconds=0.001 * dt.microsecond)"
   ]
  },
  {
   "cell_type": "markdown",
   "metadata": {},
   "source": [
    "**Daily** Anomalies\n",
    "\n",
    "Get daily values, and add additional temporal label coordinates"
   ]
  },
  {
   "cell_type": "code",
   "execution_count": 26,
   "metadata": {
    "collapsed": true,
    "jupyter": {
     "outputs_hidden": true,
     "source_hidden": true
    }
   },
   "outputs": [
    {
     "data": {
      "text/html": [
       "<div>\n",
       "<style scoped>\n",
       "    .dataframe tbody tr th:only-of-type {\n",
       "        vertical-align: middle;\n",
       "    }\n",
       "\n",
       "    .dataframe tbody tr th {\n",
       "        vertical-align: top;\n",
       "    }\n",
       "\n",
       "    .dataframe thead th {\n",
       "        text-align: right;\n",
       "    }\n",
       "</style>\n",
       "<table border=\"1\" class=\"dataframe\">\n",
       "  <thead>\n",
       "    <tr style=\"text-align: right;\">\n",
       "      <th></th>\n",
       "      <th>time</th>\n",
       "      <th>value</th>\n",
       "      <th>doy</th>\n",
       "      <th>year</th>\n",
       "      <th>year_month</th>\n",
       "      <th>daily_anomaly_from_month</th>\n",
       "      <th>daily_anomaly_from_year</th>\n",
       "      <th>daily_anomaly_from_allmean</th>\n",
       "    </tr>\n",
       "  </thead>\n",
       "  <tbody>\n",
       "    <tr>\n",
       "      <th>0</th>\n",
       "      <td>1960-03-30</td>\n",
       "      <td>318.269989</td>\n",
       "      <td>90</td>\n",
       "      <td>1960</td>\n",
       "      <td>1960-03</td>\n",
       "      <td>-0.01001</td>\n",
       "      <td>1.543335</td>\n",
       "      <td>-47.771118</td>\n",
       "    </tr>\n",
       "    <tr>\n",
       "      <th>1</th>\n",
       "      <td>1960-03-31</td>\n",
       "      <td>318.290009</td>\n",
       "      <td>91</td>\n",
       "      <td>1960</td>\n",
       "      <td>1960-03</td>\n",
       "      <td>0.01001</td>\n",
       "      <td>1.563354</td>\n",
       "      <td>-47.751099</td>\n",
       "    </tr>\n",
       "    <tr>\n",
       "      <th>2</th>\n",
       "      <td>1960-04-01</td>\n",
       "      <td>NaN</td>\n",
       "      <td>92</td>\n",
       "      <td>1960</td>\n",
       "      <td>1960-04</td>\n",
       "      <td>NaN</td>\n",
       "      <td>NaN</td>\n",
       "      <td>NaN</td>\n",
       "    </tr>\n",
       "    <tr>\n",
       "      <th>3</th>\n",
       "      <td>1960-04-02</td>\n",
       "      <td>NaN</td>\n",
       "      <td>93</td>\n",
       "      <td>1960</td>\n",
       "      <td>1960-04</td>\n",
       "      <td>NaN</td>\n",
       "      <td>NaN</td>\n",
       "      <td>NaN</td>\n",
       "    </tr>\n",
       "    <tr>\n",
       "      <th>4</th>\n",
       "      <td>1960-04-03</td>\n",
       "      <td>NaN</td>\n",
       "      <td>94</td>\n",
       "      <td>1960</td>\n",
       "      <td>1960-04</td>\n",
       "      <td>NaN</td>\n",
       "      <td>NaN</td>\n",
       "      <td>NaN</td>\n",
       "    </tr>\n",
       "  </tbody>\n",
       "</table>\n",
       "</div>"
      ],
      "text/plain": [
       "        time       value  doy  year year_month  daily_anomaly_from_month  \\\n",
       "0 1960-03-30  318.269989   90  1960    1960-03                  -0.01001   \n",
       "1 1960-03-31  318.290009   91  1960    1960-03                   0.01001   \n",
       "2 1960-04-01         NaN   92  1960    1960-04                       NaN   \n",
       "3 1960-04-02         NaN   93  1960    1960-04                       NaN   \n",
       "4 1960-04-03         NaN   94  1960    1960-04                       NaN   \n",
       "\n",
       "   daily_anomaly_from_year  daily_anomaly_from_allmean  \n",
       "0                 1.543335                  -47.771118  \n",
       "1                 1.563354                  -47.751099  \n",
       "2                      NaN                         NaN  \n",
       "3                      NaN                         NaN  \n",
       "4                      NaN                         NaN  "
      ]
     },
     "execution_count": 26,
     "metadata": {},
     "output_type": "execute_result"
    }
   ],
   "source": [
    "df_daily = opa.daily_anomalies(ds)\n",
    "df_daily.head()"
   ]
  },
  {
   "cell_type": "code",
   "execution_count": 27,
   "metadata": {
    "jupyter": {
     "source_hidden": true
    }
   },
   "outputs": [
    {
     "name": "stdout",
     "output_type": "stream",
     "text": [
      "Using selector: KqueueSelector\n",
      "Using selector: KqueueSelector\n"
     ]
    },
    {
     "data": {
      "text/html": [
       "\n",
       "<div id=\"altair-viz-0bea7738ee754e1482c15db57184eb42\"></div>\n",
       "<script type=\"text/javascript\">\n",
       "  (function(spec, embedOpt){\n",
       "    let outputDiv = document.currentScript.previousElementSibling;\n",
       "    if (outputDiv.id !== \"altair-viz-0bea7738ee754e1482c15db57184eb42\") {\n",
       "      outputDiv = document.getElementById(\"altair-viz-0bea7738ee754e1482c15db57184eb42\");\n",
       "    }\n",
       "    const paths = {\n",
       "      \"vega\": \"https://cdn.jsdelivr.net/npm//vega@5?noext\",\n",
       "      \"vega-lib\": \"https://cdn.jsdelivr.net/npm//vega-lib?noext\",\n",
       "      \"vega-lite\": \"https://cdn.jsdelivr.net/npm//vega-lite@4.8.1?noext\",\n",
       "      \"vega-embed\": \"https://cdn.jsdelivr.net/npm//vega-embed@6?noext\",\n",
       "    };\n",
       "\n",
       "    function loadScript(lib) {\n",
       "      return new Promise(function(resolve, reject) {\n",
       "        var s = document.createElement('script');\n",
       "        s.src = paths[lib];\n",
       "        s.async = true;\n",
       "        s.onload = () => resolve(paths[lib]);\n",
       "        s.onerror = () => reject(`Error loading script: ${paths[lib]}`);\n",
       "        document.getElementsByTagName(\"head\")[0].appendChild(s);\n",
       "      });\n",
       "    }\n",
       "\n",
       "    function showError(err) {\n",
       "      outputDiv.innerHTML = `<div class=\"error\" style=\"color:red;\">${err}</div>`;\n",
       "      throw err;\n",
       "    }\n",
       "\n",
       "    function displayChart(vegaEmbed) {\n",
       "      vegaEmbed(outputDiv, spec, embedOpt)\n",
       "        .catch(err => showError(`Javascript Error: ${err.message}<br>This usually means there's a typo in your chart specification. See the javascript console for the full traceback.`));\n",
       "    }\n",
       "\n",
       "    if(typeof define === \"function\" && define.amd) {\n",
       "      requirejs.config({paths});\n",
       "      require([\"vega-embed\"], displayChart, err => showError(`Error loading script: ${err.message}`));\n",
       "    } else if (typeof vegaEmbed === \"function\") {\n",
       "      displayChart(vegaEmbed);\n",
       "    } else {\n",
       "      loadScript(\"vega\")\n",
       "        .then(() => loadScript(\"vega-lite\"))\n",
       "        .then(() => loadScript(\"vega-embed\"))\n",
       "        .catch(showError)\n",
       "        .then(() => displayChart(vegaEmbed));\n",
       "    }\n",
       "  })({\"config\": {\"view\": {\"continuousWidth\": 400, \"continuousHeight\": 300}}, \"data\": {\"url\": \"http://localhost:20882/5bd018a00d33042b59a63fecbd2412da.json\"}, \"mark\": {\"type\": \"line\", \"point\": false}, \"encoding\": {\"color\": {\"type\": \"temporal\", \"field\": \"time\", \"legend\": {\"tickCount\": 10, \"title\": \"Year\"}, \"scale\": {\"domain\": [{\"date\": 30, \"hours\": 0, \"milliseconds\": 0.0, \"minutes\": 0, \"month\": 3, \"seconds\": 0, \"year\": 1960}, {\"date\": 31, \"hours\": 0, \"milliseconds\": 0.0, \"minutes\": 0, \"month\": 12, \"seconds\": 0, \"year\": 2019}], \"range\": [\"lightblue\", \"darkred\"]}, \"timeUnit\": \"year\"}, \"x\": {\"type\": \"quantitative\", \"field\": \"doy\", \"title\": \"day of year\"}, \"y\": {\"type\": \"quantitative\", \"field\": \"daily_anomaly_from_allmean\"}}, \"resolve\": {\"scale\": {\"x\": \"independent\"}}, \"width\": 300, \"$schema\": \"https://vega.github.io/schema/vega-lite/v4.8.1.json\"}, {\"mode\": \"vega-lite\"});\n",
       "</script>"
      ],
      "text/plain": [
       "alt.Chart(...)"
      ]
     },
     "execution_count": 27,
     "metadata": {},
     "output_type": "execute_result"
    }
   ],
   "source": [
    "domain=[to_altair_datetime(df_daily['time'].min()), \n",
    "        to_altair_datetime(df_daily['time'].max())]\n",
    "range_ = ['lightblue', 'darkred']\n",
    "\n",
    "chart = alt.Chart(df_daily, width=300).mark_line(point=False).encode(\n",
    "    x=alt.X('doy:Q', \n",
    "            title='day of year'),\n",
    "    y=alt.Y('daily_anomaly_from_allmean:Q'),\n",
    "    color=alt.Color('year(time):T', # year(year):T\n",
    "                    legend=alt.Legend(title=\"Year\", tickCount=10),\n",
    "                    scale=alt.Scale(domain=domain, range=range_))\n",
    ").resolve_scale(\n",
    "    x='independent'\n",
    ")\n",
    "\n",
    "chart"
   ]
  },
  {
   "cell_type": "markdown",
   "metadata": {},
   "source": [
    "**Monthly** Anomalies"
   ]
  },
  {
   "cell_type": "code",
   "execution_count": 28,
   "metadata": {
    "collapsed": true,
    "jupyter": {
     "outputs_hidden": true,
     "source_hidden": true
    }
   },
   "outputs": [
    {
     "data": {
      "text/html": [
       "<div>\n",
       "<style scoped>\n",
       "    .dataframe tbody tr th:only-of-type {\n",
       "        vertical-align: middle;\n",
       "    }\n",
       "\n",
       "    .dataframe tbody tr th {\n",
       "        vertical-align: top;\n",
       "    }\n",
       "\n",
       "    .dataframe thead th {\n",
       "        text-align: right;\n",
       "    }\n",
       "</style>\n",
       "<table border=\"1\" class=\"dataframe\">\n",
       "  <thead>\n",
       "    <tr style=\"text-align: right;\">\n",
       "      <th></th>\n",
       "      <th>time</th>\n",
       "      <th>value</th>\n",
       "      <th>moy</th>\n",
       "      <th>year</th>\n",
       "      <th>year_month</th>\n",
       "      <th>monthly_anomaly_from_year</th>\n",
       "      <th>monthly_anomaly_from_allmean</th>\n",
       "    </tr>\n",
       "  </thead>\n",
       "  <tbody>\n",
       "    <tr>\n",
       "      <th>0</th>\n",
       "      <td>1960-03-31</td>\n",
       "      <td>318.279999</td>\n",
       "      <td>03</td>\n",
       "      <td>1960</td>\n",
       "      <td>1960-03</td>\n",
       "      <td>1.863983</td>\n",
       "      <td>-41.342804</td>\n",
       "    </tr>\n",
       "    <tr>\n",
       "      <th>1</th>\n",
       "      <td>1960-04-30</td>\n",
       "      <td>319.329987</td>\n",
       "      <td>04</td>\n",
       "      <td>1960</td>\n",
       "      <td>1960-04</td>\n",
       "      <td>2.913971</td>\n",
       "      <td>-40.292816</td>\n",
       "    </tr>\n",
       "    <tr>\n",
       "      <th>2</th>\n",
       "      <td>1960-05-31</td>\n",
       "      <td>NaN</td>\n",
       "      <td>05</td>\n",
       "      <td>1960</td>\n",
       "      <td>1960-05</td>\n",
       "      <td>NaN</td>\n",
       "      <td>NaN</td>\n",
       "    </tr>\n",
       "    <tr>\n",
       "      <th>3</th>\n",
       "      <td>1960-06-30</td>\n",
       "      <td>NaN</td>\n",
       "      <td>06</td>\n",
       "      <td>1960</td>\n",
       "      <td>1960-06</td>\n",
       "      <td>NaN</td>\n",
       "      <td>NaN</td>\n",
       "    </tr>\n",
       "    <tr>\n",
       "      <th>4</th>\n",
       "      <td>1960-07-31</td>\n",
       "      <td>NaN</td>\n",
       "      <td>07</td>\n",
       "      <td>1960</td>\n",
       "      <td>1960-07</td>\n",
       "      <td>NaN</td>\n",
       "      <td>NaN</td>\n",
       "    </tr>\n",
       "  </tbody>\n",
       "</table>\n",
       "</div>"
      ],
      "text/plain": [
       "        time       value moy  year year_month  monthly_anomaly_from_year  \\\n",
       "0 1960-03-31  318.279999  03  1960    1960-03                   1.863983   \n",
       "1 1960-04-30  319.329987  04  1960    1960-04                   2.913971   \n",
       "2 1960-05-31         NaN  05  1960    1960-05                        NaN   \n",
       "3 1960-06-30         NaN  06  1960    1960-06                        NaN   \n",
       "4 1960-07-31         NaN  07  1960    1960-07                        NaN   \n",
       "\n",
       "   monthly_anomaly_from_allmean  \n",
       "0                    -41.342804  \n",
       "1                    -40.292816  \n",
       "2                           NaN  \n",
       "3                           NaN  \n",
       "4                           NaN  "
      ]
     },
     "execution_count": 28,
     "metadata": {},
     "output_type": "execute_result"
    }
   ],
   "source": [
    "df_monthly = opa.monthly_anomalies(ds)\n",
    "df_monthly.head()"
   ]
  },
  {
   "cell_type": "code",
   "execution_count": 29,
   "metadata": {
    "jupyter": {
     "source_hidden": true
    }
   },
   "outputs": [
    {
     "data": {
      "text/html": [
       "\n",
       "<div id=\"altair-viz-875a49101fc04d68977dede6ab245e64\"></div>\n",
       "<script type=\"text/javascript\">\n",
       "  (function(spec, embedOpt){\n",
       "    let outputDiv = document.currentScript.previousElementSibling;\n",
       "    if (outputDiv.id !== \"altair-viz-875a49101fc04d68977dede6ab245e64\") {\n",
       "      outputDiv = document.getElementById(\"altair-viz-875a49101fc04d68977dede6ab245e64\");\n",
       "    }\n",
       "    const paths = {\n",
       "      \"vega\": \"https://cdn.jsdelivr.net/npm//vega@5?noext\",\n",
       "      \"vega-lib\": \"https://cdn.jsdelivr.net/npm//vega-lib?noext\",\n",
       "      \"vega-lite\": \"https://cdn.jsdelivr.net/npm//vega-lite@4.8.1?noext\",\n",
       "      \"vega-embed\": \"https://cdn.jsdelivr.net/npm//vega-embed@6?noext\",\n",
       "    };\n",
       "\n",
       "    function loadScript(lib) {\n",
       "      return new Promise(function(resolve, reject) {\n",
       "        var s = document.createElement('script');\n",
       "        s.src = paths[lib];\n",
       "        s.async = true;\n",
       "        s.onload = () => resolve(paths[lib]);\n",
       "        s.onerror = () => reject(`Error loading script: ${paths[lib]}`);\n",
       "        document.getElementsByTagName(\"head\")[0].appendChild(s);\n",
       "      });\n",
       "    }\n",
       "\n",
       "    function showError(err) {\n",
       "      outputDiv.innerHTML = `<div class=\"error\" style=\"color:red;\">${err}</div>`;\n",
       "      throw err;\n",
       "    }\n",
       "\n",
       "    function displayChart(vegaEmbed) {\n",
       "      vegaEmbed(outputDiv, spec, embedOpt)\n",
       "        .catch(err => showError(`Javascript Error: ${err.message}<br>This usually means there's a typo in your chart specification. See the javascript console for the full traceback.`));\n",
       "    }\n",
       "\n",
       "    if(typeof define === \"function\" && define.amd) {\n",
       "      requirejs.config({paths});\n",
       "      require([\"vega-embed\"], displayChart, err => showError(`Error loading script: ${err.message}`));\n",
       "    } else if (typeof vegaEmbed === \"function\") {\n",
       "      displayChart(vegaEmbed);\n",
       "    } else {\n",
       "      loadScript(\"vega\")\n",
       "        .then(() => loadScript(\"vega-lite\"))\n",
       "        .then(() => loadScript(\"vega-embed\"))\n",
       "        .catch(showError)\n",
       "        .then(() => displayChart(vegaEmbed));\n",
       "    }\n",
       "  })({\"config\": {\"view\": {\"continuousWidth\": 400, \"continuousHeight\": 300}}, \"data\": {\"url\": \"http://localhost:20882/0b8008c0e3b3d44ea33057b650fa57d4.json\"}, \"mark\": {\"type\": \"line\", \"point\": false}, \"encoding\": {\"color\": {\"type\": \"temporal\", \"field\": \"time\", \"legend\": {\"format\": \"%Y\", \"tickCount\": 10, \"title\": \"Year\"}, \"scale\": {\"domain\": [{\"date\": 31, \"hours\": 0, \"milliseconds\": 0.0, \"minutes\": 0, \"month\": 3, \"seconds\": 0, \"year\": 1960}, {\"date\": 31, \"hours\": 0, \"milliseconds\": 0.0, \"minutes\": 0, \"month\": 12, \"seconds\": 0, \"year\": 2019}], \"range\": [\"lightblue\", \"darkred\"]}, \"timeUnit\": \"year\"}, \"x\": {\"type\": \"quantitative\", \"field\": \"moy\", \"title\": \"month of year\"}, \"y\": {\"type\": \"quantitative\", \"field\": \"monthly_anomaly_from_allmean\"}}, \"width\": 300, \"$schema\": \"https://vega.github.io/schema/vega-lite/v4.8.1.json\"}, {\"mode\": \"vega-lite\"});\n",
       "</script>"
      ],
      "text/plain": [
       "alt.Chart(...)"
      ]
     },
     "execution_count": 29,
     "metadata": {},
     "output_type": "execute_result"
    }
   ],
   "source": [
    "domain=[to_altair_datetime(df_monthly['time'].min()), \n",
    "        to_altair_datetime(df_monthly['time'].max())]\n",
    "range_ = ['lightblue', 'darkred']\n",
    "\n",
    "chart = alt.Chart(df_monthly, width=300).mark_line(point=False).encode(\n",
    "    x=alt.X('moy:Q', \n",
    "            title='month of year'),\n",
    "    y=alt.Y('monthly_anomaly_from_allmean:Q'),\n",
    "    color=alt.Color('year(time):T',\n",
    "                    legend=alt.Legend(title=\"Year\", tickCount=10, format='%Y'),\n",
    "                    scale=alt.Scale(domain=domain, range=range_))\n",
    ")\n",
    "\n",
    "chart"
   ]
  },
  {
   "cell_type": "markdown",
   "metadata": {},
   "source": [
    "**Seasonal** Anomalies"
   ]
  },
  {
   "cell_type": "code",
   "execution_count": 30,
   "metadata": {
    "collapsed": true,
    "jupyter": {
     "outputs_hidden": true,
     "source_hidden": true
    }
   },
   "outputs": [
    {
     "data": {
      "text/html": [
       "<div>\n",
       "<style scoped>\n",
       "    .dataframe tbody tr th:only-of-type {\n",
       "        vertical-align: middle;\n",
       "    }\n",
       "\n",
       "    .dataframe tbody tr th {\n",
       "        vertical-align: top;\n",
       "    }\n",
       "\n",
       "    .dataframe thead th {\n",
       "        text-align: right;\n",
       "    }\n",
       "</style>\n",
       "<table border=\"1\" class=\"dataframe\">\n",
       "  <thead>\n",
       "    <tr style=\"text-align: right;\">\n",
       "      <th></th>\n",
       "      <th>time</th>\n",
       "      <th>value</th>\n",
       "      <th>year</th>\n",
       "      <th>moy</th>\n",
       "      <th>season</th>\n",
       "      <th>year_month</th>\n",
       "      <th>seasonal_anomaly_from_allmean</th>\n",
       "    </tr>\n",
       "  </thead>\n",
       "  <tbody>\n",
       "    <tr>\n",
       "      <th>0</th>\n",
       "      <td>1960-03-01</td>\n",
       "      <td>318.630005</td>\n",
       "      <td>1960</td>\n",
       "      <td>3</td>\n",
       "      <td>MAM</td>\n",
       "      <td>1960-03</td>\n",
       "      <td>-39.373901</td>\n",
       "    </tr>\n",
       "    <tr>\n",
       "      <th>1</th>\n",
       "      <td>1960-06-01</td>\n",
       "      <td>315.559998</td>\n",
       "      <td>1960</td>\n",
       "      <td>6</td>\n",
       "      <td>JJA</td>\n",
       "      <td>1960-06</td>\n",
       "      <td>-42.443909</td>\n",
       "    </tr>\n",
       "    <tr>\n",
       "      <th>2</th>\n",
       "      <td>1960-09-01</td>\n",
       "      <td>312.619995</td>\n",
       "      <td>1960</td>\n",
       "      <td>9</td>\n",
       "      <td>SON</td>\n",
       "      <td>1960-09</td>\n",
       "      <td>-45.383911</td>\n",
       "    </tr>\n",
       "    <tr>\n",
       "      <th>3</th>\n",
       "      <td>1960-12-01</td>\n",
       "      <td>316.959991</td>\n",
       "      <td>1960</td>\n",
       "      <td>12</td>\n",
       "      <td>DJF</td>\n",
       "      <td>1960-12</td>\n",
       "      <td>-41.043915</td>\n",
       "    </tr>\n",
       "    <tr>\n",
       "      <th>4</th>\n",
       "      <td>1961-03-01</td>\n",
       "      <td>317.690002</td>\n",
       "      <td>1961</td>\n",
       "      <td>3</td>\n",
       "      <td>MAM</td>\n",
       "      <td>1961-03</td>\n",
       "      <td>-40.313904</td>\n",
       "    </tr>\n",
       "  </tbody>\n",
       "</table>\n",
       "</div>"
      ],
      "text/plain": [
       "        time       value  year  moy season year_month  \\\n",
       "0 1960-03-01  318.630005  1960    3    MAM    1960-03   \n",
       "1 1960-06-01  315.559998  1960    6    JJA    1960-06   \n",
       "2 1960-09-01  312.619995  1960    9    SON    1960-09   \n",
       "3 1960-12-01  316.959991  1960   12    DJF    1960-12   \n",
       "4 1961-03-01  317.690002  1961    3    MAM    1961-03   \n",
       "\n",
       "   seasonal_anomaly_from_allmean  \n",
       "0                     -39.373901  \n",
       "1                     -42.443909  \n",
       "2                     -45.383911  \n",
       "3                     -41.043915  \n",
       "4                     -40.313904  "
      ]
     },
     "execution_count": 30,
     "metadata": {},
     "output_type": "execute_result"
    }
   ],
   "source": [
    "df_seasonal = opa.seasonal_anomalies(ds)\n",
    "df_seasonal.head()"
   ]
  },
  {
   "cell_type": "code",
   "execution_count": 31,
   "metadata": {
    "jupyter": {
     "source_hidden": true
    }
   },
   "outputs": [
    {
     "data": {
      "text/html": [
       "\n",
       "<div id=\"altair-viz-5c73fc26a85d41e581303e6034e05f12\"></div>\n",
       "<script type=\"text/javascript\">\n",
       "  (function(spec, embedOpt){\n",
       "    let outputDiv = document.currentScript.previousElementSibling;\n",
       "    if (outputDiv.id !== \"altair-viz-5c73fc26a85d41e581303e6034e05f12\") {\n",
       "      outputDiv = document.getElementById(\"altair-viz-5c73fc26a85d41e581303e6034e05f12\");\n",
       "    }\n",
       "    const paths = {\n",
       "      \"vega\": \"https://cdn.jsdelivr.net/npm//vega@5?noext\",\n",
       "      \"vega-lib\": \"https://cdn.jsdelivr.net/npm//vega-lib?noext\",\n",
       "      \"vega-lite\": \"https://cdn.jsdelivr.net/npm//vega-lite@4.8.1?noext\",\n",
       "      \"vega-embed\": \"https://cdn.jsdelivr.net/npm//vega-embed@6?noext\",\n",
       "    };\n",
       "\n",
       "    function loadScript(lib) {\n",
       "      return new Promise(function(resolve, reject) {\n",
       "        var s = document.createElement('script');\n",
       "        s.src = paths[lib];\n",
       "        s.async = true;\n",
       "        s.onload = () => resolve(paths[lib]);\n",
       "        s.onerror = () => reject(`Error loading script: ${paths[lib]}`);\n",
       "        document.getElementsByTagName(\"head\")[0].appendChild(s);\n",
       "      });\n",
       "    }\n",
       "\n",
       "    function showError(err) {\n",
       "      outputDiv.innerHTML = `<div class=\"error\" style=\"color:red;\">${err}</div>`;\n",
       "      throw err;\n",
       "    }\n",
       "\n",
       "    function displayChart(vegaEmbed) {\n",
       "      vegaEmbed(outputDiv, spec, embedOpt)\n",
       "        .catch(err => showError(`Javascript Error: ${err.message}<br>This usually means there's a typo in your chart specification. See the javascript console for the full traceback.`));\n",
       "    }\n",
       "\n",
       "    if(typeof define === \"function\" && define.amd) {\n",
       "      requirejs.config({paths});\n",
       "      require([\"vega-embed\"], displayChart, err => showError(`Error loading script: ${err.message}`));\n",
       "    } else if (typeof vegaEmbed === \"function\") {\n",
       "      displayChart(vegaEmbed);\n",
       "    } else {\n",
       "      loadScript(\"vega\")\n",
       "        .then(() => loadScript(\"vega-lite\"))\n",
       "        .then(() => loadScript(\"vega-embed\"))\n",
       "        .catch(showError)\n",
       "        .then(() => displayChart(vegaEmbed));\n",
       "    }\n",
       "  })({\"config\": {\"view\": {\"continuousWidth\": 400, \"continuousHeight\": 300}}, \"data\": {\"url\": \"http://localhost:20882/2342fbd99f753143b28ccc402a93da5f.json\"}, \"mark\": {\"type\": \"line\", \"point\": false}, \"encoding\": {\"color\": {\"type\": \"temporal\", \"field\": \"time\", \"legend\": {\"format\": \"%Y\", \"tickCount\": 10, \"title\": \"Year\"}, \"scale\": {\"domain\": [{\"date\": 1, \"hours\": 0, \"milliseconds\": 0.0, \"minutes\": 0, \"month\": 3, \"seconds\": 0, \"year\": 1960}, {\"date\": 1, \"hours\": 0, \"milliseconds\": 0.0, \"minutes\": 0, \"month\": 12, \"seconds\": 0, \"year\": 2019}], \"range\": [\"lightblue\", \"darkred\"]}, \"timeUnit\": \"year\"}, \"x\": {\"type\": \"nominal\", \"field\": \"season\", \"sort\": [\"DJF\", \"MAM\", \"JJA\", \"SON\"], \"title\": \"season\"}, \"y\": {\"type\": \"quantitative\", \"field\": \"seasonal_anomaly_from_allmean\"}}, \"width\": 300, \"$schema\": \"https://vega.github.io/schema/vega-lite/v4.8.1.json\"}, {\"mode\": \"vega-lite\"});\n",
       "</script>"
      ],
      "text/plain": [
       "alt.Chart(...)"
      ]
     },
     "execution_count": 31,
     "metadata": {},
     "output_type": "execute_result"
    }
   ],
   "source": [
    "domain=[to_altair_datetime(df_seasonal['time'].min()), \n",
    "        to_altair_datetime(df_seasonal['time'].max())]\n",
    "range_ = ['lightblue', 'darkred']\n",
    "\n",
    "chart = alt.Chart(df_seasonal, width=300).mark_line(point=False).encode(\n",
    "    x=alt.X('season:N', \n",
    "            title='season', \n",
    "            sort=['DJF', 'MAM', 'JJA', 'SON']),\n",
    "    y=alt.Y('seasonal_anomaly_from_allmean:Q'),\n",
    "    color=alt.Color('year(time):T',\n",
    "                    legend=alt.Legend(title=\"Year\", tickCount=10, format='%Y'),\n",
    "                    scale=alt.Scale(domain=domain, range=range_))\n",
    ")\n",
    "\n",
    "chart"
   ]
  },
  {
   "cell_type": "markdown",
   "metadata": {},
   "source": [
    "####"
   ]
  },
  {
   "cell_type": "code",
   "execution_count": 60,
   "metadata": {},
   "outputs": [
    {
     "ename": "NameError",
     "evalue": "name 'ds_daily' is not defined",
     "output_type": "error",
     "traceback": [
      "\u001b[0;31m---------------------------------------------------------------------------\u001b[0m",
      "\u001b[0;31mNameError\u001b[0m                                 Traceback (most recent call last)",
      "\u001b[0;32m<ipython-input-60-091748e3902d>\u001b[0m in \u001b[0;36m<module>\u001b[0;34m\u001b[0m\n\u001b[1;32m      1\u001b[0m \u001b[0;31m# ds_prepd = ds_daily.resample(time=\"1MS\").mean()  # monthly average\u001b[0m\u001b[0;34m\u001b[0m\u001b[0;34m\u001b[0m\u001b[0;34m\u001b[0m\u001b[0m\n\u001b[1;32m      2\u001b[0m \u001b[0;31m# ds_prepd = ds_sub.resample(time=\"1AS\").mean()  # yearly average\u001b[0m\u001b[0;34m\u001b[0m\u001b[0;34m\u001b[0m\u001b[0;34m\u001b[0m\u001b[0m\n\u001b[0;32m----> 3\u001b[0;31m \u001b[0mds_prepd\u001b[0m \u001b[0;34m=\u001b[0m \u001b[0mds_daily\u001b[0m\u001b[0;34m.\u001b[0m\u001b[0mresample\u001b[0m\u001b[0;34m(\u001b[0m\u001b[0mtime\u001b[0m\u001b[0;34m=\u001b[0m\u001b[0;34m\"Q\"\u001b[0m\u001b[0;34m)\u001b[0m\u001b[0;34m.\u001b[0m\u001b[0mmean\u001b[0m\u001b[0;34m(\u001b[0m\u001b[0;34m)\u001b[0m  \u001b[0;31m# quarterly average (consecutive three-month periods)\u001b[0m\u001b[0;34m\u001b[0m\u001b[0;34m\u001b[0m\u001b[0m\n\u001b[0m\u001b[1;32m      4\u001b[0m \u001b[0;31m# ds_prepd = result.resample(time=\"QS-DEC\").mean()  # quarterly average (consecutive three-month periods), anchored at December 1st.\u001b[0m\u001b[0;34m\u001b[0m\u001b[0;34m\u001b[0m\u001b[0;34m\u001b[0m\u001b[0m\n\u001b[1;32m      5\u001b[0m \u001b[0;31m#\u001b[0m\u001b[0;34m\u001b[0m\u001b[0;34m\u001b[0m\u001b[0;34m\u001b[0m\u001b[0m\n",
      "\u001b[0;31mNameError\u001b[0m: name 'ds_daily' is not defined"
     ]
    }
   ],
   "source": [
    "# ds_prepd = ds_daily.resample(time=\"1MS\").mean()  # monthly average\n",
    "# ds_prepd = ds_sub.resample(time=\"1AS\").mean()  # yearly average\n",
    "ds_prepd = ds_daily.resample(time=\"Q\").mean()  # quarterly average (consecutive three-month periods)\n",
    "# ds_prepd = result.resample(time=\"QS-DEC\").mean()  # quarterly average (consecutive three-month periods), anchored at December 1st.\n",
    "#\n",
    "xv = ds_prepd['time']\n",
    "yv = ds_prepd['value']\n",
    "\n",
    "# --- Plot ---\n",
    "fig, ax = plt.subplots(nrows=1, figsize=(6, 4))\n",
    "#\n",
    "ax.plot(xv, yv, '-o', label='value')\n",
    "ax.set_ylabel('$ppm$')\n",
    "ax.legend()\n",
    "\n",
    "plt.tight_layout()"
   ]
  },
  {
   "cell_type": "code",
   "execution_count": null,
   "metadata": {},
   "outputs": [],
   "source": [
    "xv = result['time']\n",
    "yv = result['value']\n",
    "\n",
    "# --- Plot ---\n",
    "fig, ax = plt.subplots(nrows=1, figsize=(6, 4))\n",
    "#\n",
    "ax.plot(xv, yv, '-.', label='value')\n",
    "ax.set_ylabel('$ppm$')\n",
    "ax.legend()\n",
    "\n",
    "plt.tight_layout()"
   ]
  },
  {
   "cell_type": "markdown",
   "metadata": {},
   "source": [
    "Try the mean for each week of the year"
   ]
  },
  {
   "cell_type": "code",
   "execution_count": null,
   "metadata": {},
   "outputs": [],
   "source": [
    "varlist = ['time', 'value']\n",
    "grp_time = 'week'\n",
    "grp_time = 'quarter'\n",
    "grp_time = 'month'\n",
    "# grp_time = 'dayofyear'\n",
    "ds_prepd = ds[varlist].groupby('time.' + grp_time).mean()\n",
    "#\n",
    "xv = ds_prepd[grp_time]\n",
    "yv = ds_prepd['value']\n",
    "\n",
    "# --- Plot ---\n",
    "fig, ax = plt.subplots(nrows=1, figsize=(6, 4))\n",
    "#\n",
    "ax.plot(xv, yv, '-.', label='value')\n",
    "ax.set_ylabel('$ppm$')\n",
    "ax.legend()\n",
    "\n",
    "plt.tight_layout()"
   ]
  },
  {
   "cell_type": "markdown",
   "metadata": {},
   "source": [
    "Try resampling to weekly means"
   ]
  },
  {
   "cell_type": "code",
   "execution_count": null,
   "metadata": {},
   "outputs": [],
   "source": [
    "varlist = ['time', 'time_decimal', 'value']\n",
    "ds_prepd = ds[varlist].where(ds['time_decimal'] < 1970, drop=True).resample(time=\"W\").mean()\n",
    "#\n",
    "xv = ds_prepd['time']\n",
    "yv = ds_prepd['value']\n",
    "\n",
    "# --- Plot ---\n",
    "fig, ax = plt.subplots(nrows=1, figsize=(6, 4))\n",
    "#\n",
    "ax.plot(xv, yv, '-o', label='value')\n",
    "ax.set_ylabel('$ppm$')\n",
    "ax.legend()\n",
    "\n",
    "plt.tight_layout()"
   ]
  },
  {
   "cell_type": "code",
   "execution_count": null,
   "metadata": {},
   "outputs": [],
   "source": [
    "varlist = ['time', 'time_decimal', 'value']\n",
    "ds_prepd = ds[varlist].resample(time=\"Q\").mean()\n",
    "#\n",
    "xv = ds_prepd['time']\n",
    "yv = ds_prepd['value']\n",
    "\n",
    "# --- Plot ---\n",
    "fig, ax = plt.subplots(nrows=1, figsize=(6, 4))\n",
    "#\n",
    "ax.plot(xv, yv, '-o', label='value')\n",
    "ax.set_ylabel('$ppm$')\n",
    "ax.legend()\n",
    "\n",
    "plt.tight_layout()"
   ]
  },
  {
   "cell_type": "code",
   "execution_count": null,
   "metadata": {},
   "outputs": [],
   "source": [
    "varlist = ['time', 'time_decimal', 'value']\n",
    "ds_prepd = ds[varlist].resample(time=\"QS-DEC\").mean()\n",
    "#\n",
    "xv = ds_prepd['time']\n",
    "yv = ds_prepd['value']\n",
    "\n",
    "# --- Plot ---\n",
    "fig, ax = plt.subplots(nrows=1, figsize=(6, 4))\n",
    "#\n",
    "ax.plot(xv, yv, '-o', label='value')\n",
    "ax.set_ylabel('$ppm$')\n",
    "ax.legend()\n",
    "\n",
    "plt.tight_layout()"
   ]
  },
  {
   "cell_type": "code",
   "execution_count": null,
   "metadata": {},
   "outputs": [],
   "source": [
    "varlist = ['time', 'time_decimal', 'value']\n",
    "ds_seasoned = season_mean(ds[varlist])\n",
    "ds_seasoned"
   ]
  },
  {
   "cell_type": "code",
   "execution_count": null,
   "metadata": {},
   "outputs": [],
   "source": [
    "plt.plot(ds_seasoned['season'], ds_seasoned['value'])"
   ]
  },
  {
   "cell_type": "code",
   "execution_count": null,
   "metadata": {},
   "outputs": [],
   "source": [
    "# --- Plot ---\n",
    "fig, ax = plt.subplots(nrows=1, figsize=(10, 7))\n",
    "#\n",
    "ax.plot(ds['time'], ds['value'], '-.', label='value')\n",
    "ax.set_ylabel('$ppm$')\n",
    "ax.legend()\n",
    "\n",
    "plt.tight_layout()"
   ]
  },
  {
   "cell_type": "code",
   "execution_count": null,
   "metadata": {},
   "outputs": [],
   "source": []
  },
  {
   "cell_type": "markdown",
   "metadata": {},
   "source": [
    "## Subsetting the data"
   ]
  },
  {
   "cell_type": "markdown",
   "metadata": {},
   "source": [
    "##### Using my externally defined functions\n",
    "\n",
    "To create n-vertical layers of 2d-binned data (using Numpy histogram)\n",
    "\n",
    "e.g. from this StackOverflow answer:  \n",
    "https://stackoverflow.com/questions/30764955/python-numpy-create-2d-array-of-values-based-on-coordinates/30765484#30765484"
   ]
  },
  {
   "cell_type": "code",
   "execution_count": null,
   "metadata": {},
   "outputs": [],
   "source": [
    "# # Reload my custom modules\n",
    "# import importlib\n",
    "\n",
    "# importlib.reload(ops)\n",
    "# importlib.reload(nums)"
   ]
  },
  {
   "cell_type": "code",
   "execution_count": null,
   "metadata": {},
   "outputs": [],
   "source": [
    "# # Years are defined.\n",
    "# year_list = [2017, 2018]\n",
    "\n",
    "# # Vertical bins are defined.\n",
    "# n_vertical = 21\n",
    "# edges = np.linspace(0, 2000, n_vertical)\n",
    "\n",
    "# def bin_multiyear():\n",
    "    \n",
    "#     for yr in year_list:\n",
    "        \n",
    "#         # Data are subset by time.\n",
    "#         ds_year = ops.by_decimalyear(ds, verbose=True, start=yr, end=yr+1)\n",
    "        \n",
    "#         # Data are binned (using numpy histogram2d function)\n",
    "#         ds_binned = ops.bin3d(ds_year, verbose=True,\n",
    "#                               vertical_bin_edges=edges, n_latitude=30, n_longitude=45)"
   ]
  },
  {
   "cell_type": "code",
   "execution_count": null,
   "metadata": {},
   "outputs": [],
   "source": [
    "def bin_by_year_and_vertical(x_ds_, my_year, my_vertical_edges, n_latitude, n_longitude, my_verbose=True):\n",
    "    # Data are subset by time.\n",
    "    temp_ds = ops.by_decimalyear(x_ds_, verbose=my_verbose, start=my_year, end=my_year+1)\n",
    "    \n",
    "    # Data are binned (using numpy histogram2d function)\n",
    "    temp_ds = ops.bin3d(temp_ds, verbose=my_verbose,\n",
    "                        vertical_bin_edges=edges, n_latitude=n_latitude, n_longitude=n_longitude)\n",
    "    \n",
    "    return temp_ds"
   ]
  },
  {
   "cell_type": "code",
   "execution_count": null,
   "metadata": {},
   "outputs": [],
   "source": [
    "# Vertical bins are defined.\n",
    "n_vertical = 21\n",
    "edges = np.linspace(0, 2000, n_vertical)\n",
    "\n",
    "ds_tempa = bin_by_year_and_vertical(ds, my_year=2017, my_vertical_edges=edges, n_latitude=30, n_longitude=45, my_verbose=True)\n",
    "ds_tempb = bin_by_year_and_vertical(ds, my_year=2018, my_vertical_edges=edges, n_latitude=30, n_longitude=45, my_verbose=True)"
   ]
  },
  {
   "cell_type": "code",
   "execution_count": null,
   "metadata": {},
   "outputs": [],
   "source": [
    "# # Data are subset by time.\n",
    "# year_choice = 2017\n",
    "# ds_year = ops.by_decimalyear(ds, verbose=True, start=year_choice, end=year_choice+1)"
   ]
  },
  {
   "cell_type": "code",
   "execution_count": null,
   "metadata": {},
   "outputs": [],
   "source": [
    "# # Vertical bins are defined.\n",
    "# n_vertical = 21\n",
    "# edges = np.linspace(0, 2000, n_vertical)\n",
    "\n",
    "# # Data are binned (using numpy histogram2d function)\n",
    "# ds_binned = ops.bin3d(ds_year, verbose=True,\n",
    "#                       vertical_bin_edges=edges, n_latitude=30, n_longitude=45)\n",
    "\n",
    "# ds_binned"
   ]
  },
  {
   "cell_type": "code",
   "execution_count": null,
   "metadata": {},
   "outputs": [],
   "source": [
    "fp = 'test_nc_obspack_' + str(year_choice) + '_binned.nc'\n",
    "ds_binned.to_netcdf(path=fp)"
   ]
  },
  {
   "cell_type": "markdown",
   "metadata": {},
   "source": [
    "## Plotting"
   ]
  },
  {
   "cell_type": "markdown",
   "metadata": {},
   "source": [
    "#### Base map plotting functions are defined."
   ]
  },
  {
   "cell_type": "code",
   "execution_count": null,
   "metadata": {},
   "outputs": [],
   "source": [
    "# Set up a color scheme\n",
    "levels = list(range(390, 450, 5))\n",
    "cmap = plt.get_cmap('magma')\n",
    "cnorm = BoundaryNorm(levels, ncolors=cmap.N, clip=True)"
   ]
  },
  {
   "cell_type": "code",
   "execution_count": null,
   "metadata": {},
   "outputs": [],
   "source": [
    "def make_my_map(projection=ccrs.PlateCarree()):\n",
    "    figure, ax = plt.subplots(\n",
    "        1, 1, figsize=(10,12),\n",
    "        #subplot_kw=dict(projection=crs.Orthographic(central_longitude=-100))\n",
    "        subplot_kw=dict(projection=projection)\n",
    "    )\n",
    "\n",
    "    ax.set_global()\n",
    "    ax.coastlines(color='black', linewidth=0.5)\n",
    "    \n",
    "    # ax.coastlines(color='tab:green', resolution='10m')\n",
    "    # ax.add_feature(cfeature.LAKES.with_scale('10m'), facecolor='none', edgecolor='tab:blue')\n",
    "    # ax.add_feature(cfeature.RIVERS.with_scale('10m'), edgecolor='tab:blue')\n",
    "    \n",
    "    ax.add_feature(cfeature.OCEAN, facecolor='whitesmoke')\n",
    "    ax.add_feature(cfeature.COASTLINE)\n",
    "    ax.add_feature(cfeature.BORDERS, linestyle=':')\n",
    "    ax.gridlines(draw_labels=True, xlocs=np.arange(-180,180,90), \n",
    "                 linestyle='--', color='lightgray', zorder=0)\n",
    "    \n",
    "    return figure, ax"
   ]
  },
  {
   "cell_type": "code",
   "execution_count": null,
   "metadata": {},
   "outputs": [],
   "source": [
    "to_proj = ccrs.AlbersEqualArea(central_longitude=-97.0000, central_latitude=38.0000)"
   ]
  },
  {
   "cell_type": "markdown",
   "metadata": {},
   "source": [
    "**Horizontal**"
   ]
  },
  {
   "cell_type": "code",
   "execution_count": null,
   "metadata": {},
   "outputs": [],
   "source": [
    "# # Data are prepped.\n",
    "# keep_mask = np.full(ds['value'].shape, True)\n",
    "# keep_mask = keep_mask & (ds['value'] > 0)\n",
    "# keep_mask = keep_mask & (ds['altitude'] < 1000)\n",
    "# keep_mask = keep_mask & (ds['time_decimal'] > 2017)\n",
    "# keep_mask = keep_mask & (ds['time_decimal'] <= 2018)\n",
    "# #\n",
    "# temp_lon = ds['longitude'].where(keep_mask)\n",
    "# temp_lat = ds['latitude'].where(keep_mask)\n",
    "# temp_data = ds['value'].where(keep_mask)\n",
    "\n",
    "# # Figure is created.\n",
    "# fig, ax = make_my_map(projection=ccrs.PlateCarree())\n",
    "\n",
    "# sc = ax.scatter(temp_lon, temp_lat, \n",
    "#                 c=temp_data, cmap=cmap, norm=cnorm, edgecolors=None,\n",
    "#                 s=100, alpha=0.4, transform=ccrs.PlateCarree())\n",
    "\n",
    "# cb = fig.colorbar(pc, shrink=.8, pad=0.05, orientation='horizontal')\n",
    "# cb.solids.set(alpha=1)\n",
    "# cb.set_label('ppm')\n",
    "\n",
    "# plt.show()"
   ]
  },
  {
   "cell_type": "code",
   "execution_count": null,
   "metadata": {},
   "outputs": [],
   "source": [
    "# Data are prepped.\n",
    "keep_mask = np.full(ds_binned['value'].shape, True)\n",
    "keep_mask = keep_mask & (ds_binned['value'] > 0)\n",
    "keep_mask = keep_mask & (ds_binned['vertical_edges'][:,1] < 1000)\n",
    "#\n",
    "temp_data = ds_binned['value'].where(keep_mask).mean(dim=('vertical'))\n",
    "temp_data = np.ma.masked_equal(temp_data, 0)\n",
    "\n",
    "# Figure is created.\n",
    "fig, ax = make_my_map(projection=ccrs.PlateCarree())\n",
    "\n",
    "pc = ax.pcolormesh(ds_binned['lon'], ds_binned['lat'], temp_data, \n",
    "                   transform=ccrs.PlateCarree(),\n",
    "                   cmap=cmap, norm=cnorm,\n",
    "                   edgecolors=None, linestyle=':', linewidth=0.2)\n",
    "\n",
    "cb = fig.colorbar(pc, shrink=.8, pad=0.05, orientation='horizontal')\n",
    "cb.solids.set(alpha=1)\n",
    "cb.set_label('ppm')\n",
    "\n",
    "plt.show()\n",
    "\n",
    "# plt.savefig('binned_obspack_2018_45lon-30lat-21alt.png', \n",
    "#             bbox_inches='tight', dpi=300)"
   ]
  },
  {
   "cell_type": "markdown",
   "metadata": {},
   "source": [
    "**Vertical**"
   ]
  },
  {
   "cell_type": "code",
   "execution_count": null,
   "metadata": {},
   "outputs": [],
   "source": [
    "# Figure is created.\n",
    "kw = {'height_ratios':[2,1]}\n",
    "fig, axs = plt.subplots(nrows=2, figsize=(10,6), sharex='col', gridspec_kw=kw)\n",
    "\n",
    "# Data are prepped and plotted.\n",
    "temp_data = ds_binned['value'].where(ds_binned['value'] > 0).mean(dim=('lon'))\n",
    "temp_data = np.ma.masked_equal(temp_data, 0)\n",
    "pc = axs[0].pcolormesh(ds_binned['lat'], ds_binned['vertical'], temp_data,\n",
    "                       cmap=cmap, norm=cnorm, shading='auto',\n",
    "                       edgecolors=None, linestyle=':', linewidth=0.2)\n",
    "axs[0].set_ylabel('altitude (m)')\n",
    "\n",
    "# Data are prepped and plotted.\n",
    "temp_data = ds_binned['value'].where(ds_binned['value'] > 0).mean(dim=('lon', 'vertical'))\n",
    "temp_data = np.ma.masked_equal(temp_data, 0)\n",
    "axs[1].plot(ds_binned['lat'], temp_data)\n",
    "axs[1].set_xlabel('latitude')\n",
    "axs[1].set_ylabel('ppm')\n",
    "axs[1].grid(linestyle='--', color='lightgray')\n",
    "\n",
    "# The colorbar is added as an additional axis.\n",
    "plt.subplots_adjust(right=1)\n",
    "cbar_ax = fig.add_axes([0.2, 0.15, 1, 0.7])\n",
    "cb = plt.colorbar(pc, ax=cbar_ax)\n",
    "cb.set_label('ppm')\n",
    "cbar_ax.remove()\n",
    "\n",
    "# plt.tight_layout()\n",
    "# plt.show()\n",
    "plt.savefig('binned_obspack_2018_zonal_mean.png', \n",
    "            bbox_inches='tight', dpi=300)"
   ]
  },
  {
   "cell_type": "code",
   "execution_count": null,
   "metadata": {},
   "outputs": [],
   "source": [
    "# Data are prepped.\n",
    "temp_data = ds_binned['value'].where(ds_binned['value'] > 0).mean(dim=('lon', 'vertical'))\n",
    "# temp_data = ds_sub['value'].where(ds_sub['upperzbnd'] < 101).mean(dim=('upperzbnd'))\n",
    "temp_data = np.ma.masked_equal(temp_data, 0)\n",
    "\n",
    "# Figure is created.\n",
    "figure, ax = plt.subplots(figsize=(10,6))\n",
    "\n",
    "pc = ax.plot(ds_binned['lat'], temp_data,\n",
    "             linestyle='-')\n",
    "\n",
    "plt.show()"
   ]
  },
  {
   "cell_type": "code",
   "execution_count": null,
   "metadata": {},
   "outputs": [],
   "source": []
  },
  {
   "cell_type": "code",
   "execution_count": null,
   "metadata": {},
   "outputs": [],
   "source": [
    "asdkjhgasd"
   ]
  },
  {
   "cell_type": "markdown",
   "metadata": {},
   "source": [
    "## Interpolations to a grid"
   ]
  },
  {
   "cell_type": "code",
   "execution_count": null,
   "metadata": {},
   "outputs": [],
   "source": [
    "bbox = [np.floor(lon.min().values.item()), \n",
    "        np.ceil(lon.max().values.item()),\n",
    "        np.floor(lat.min().values.item()),\n",
    "        np.ceil(lat.max().values.item())]\n",
    "bbox"
   ]
  },
  {
   "cell_type": "markdown",
   "metadata": {},
   "source": [
    "#### Using MetPy's `interpolate_to_grid()`"
   ]
  },
  {
   "cell_type": "code",
   "execution_count": null,
   "metadata": {},
   "outputs": [],
   "source": [
    "data_var = ds.metpy.parse_cf('value')\n",
    "\n",
    "gx, gy, img = interpolate_to_grid(lon, lat, dat, interp_type='natural_neighbor', hres=10)"
   ]
  },
  {
   "cell_type": "code",
   "execution_count": null,
   "metadata": {},
   "outputs": [],
   "source": [
    "img = np.ma.masked_where(np.isnan(img), img)"
   ]
  },
  {
   "cell_type": "code",
   "execution_count": null,
   "metadata": {},
   "outputs": [],
   "source": [
    "def basic_map(proj, title):\n",
    "    \"\"\"Make our basic default map for plotting\"\"\"\n",
    "    fig = plt.figure(figsize=(15, 10))\n",
    "    # add_metpy_logo(fig, 0, 80, size='large')\n",
    "    view = fig.add_axes([0, 0, 1, 1], projection=proj)\n",
    "    view.set_title(title)\n",
    "    view.set_extent([-120, -70, 20, 50])\n",
    "    view.add_feature(cfeature.STATES.with_scale('50m'))\n",
    "    view.add_feature(cfeature.OCEAN)\n",
    "    view.add_feature(cfeature.COASTLINE)\n",
    "    view.add_feature(cfeature.BORDERS, linestyle=':')\n",
    "    return fig, view"
   ]
  },
  {
   "cell_type": "code",
   "execution_count": null,
   "metadata": {},
   "outputs": [],
   "source": [
    "LAND = cfeature.NaturalEarthFeature('physical', 'land', '50m',\n",
    "                                    edgecolor='face',\n",
    "                                    facecolor=cfeature.COLORS['land'])\n",
    "\n",
    "def make_map(bbox, projection=ccrs.PlateCarree()):\n",
    "    fig, ax = plt.subplots(figsize=(8, 6),\n",
    "                           subplot_kw=dict(projection=projection))\n",
    "    ax.set_extent(bbox)\n",
    "    ax.add_feature(LAND, facecolor='0.75')\n",
    "    ax.coastlines(resolution='50m')\n",
    "    gl = ax.gridlines(draw_labels=True)\n",
    "    gl.xlabels_top = gl.ylabels_right = False\n",
    "    gl.xformatter = LONGITUDE_FORMATTER\n",
    "    gl.yformatter = LATITUDE_FORMATTER\n",
    "    return fig, ax"
   ]
  },
  {
   "cell_type": "code",
   "execution_count": null,
   "metadata": {},
   "outputs": [],
   "source": [
    "img = np.ma.masked_where(np.isnan(img), img)"
   ]
  },
  {
   "cell_type": "code",
   "execution_count": null,
   "metadata": {},
   "outputs": [],
   "source": [
    "# fig, view = basic_map(to_proj, 'Linear')\n",
    "# fig, view = make_map(bbox=[-180, 180, -90, 90], projection=ccrs.PlateCarree())\n",
    "fig, view = make_my_map()\n",
    "\n",
    "mmb = view.pcolormesh(gx, gy, img, cmap=cmap, norm=cnorm)\n",
    "sc = view.scatter(lon.values, lat.values, c=dat.values, alpha=0.4, \n",
    "                   cmap=cmap, norm=cnorm, edgecolors='gray',\n",
    "                   transform=ccrs.PlateCarree())\n",
    "fig.colorbar(mmb, shrink=.4, pad=0.05, boundaries=levels, orientation='horizontal')"
   ]
  },
  {
   "cell_type": "markdown",
   "metadata": {},
   "source": [
    "### Trying to use pyinterp"
   ]
  },
  {
   "cell_type": "code",
   "execution_count": null,
   "metadata": {},
   "outputs": [],
   "source": [
    "import pyinterp\n",
    "\n",
    "x_axis = pyinterp.Axis(ds_sub.variables[\"longitude\"][:], is_circle=True)\n",
    "y_axis = pyinterp.Axis(ds_sub.variables[\"latitude\"][:])"
   ]
  },
  {
   "cell_type": "markdown",
   "metadata": {},
   "source": [
    "### Trying to use scipy"
   ]
  },
  {
   "cell_type": "code",
   "execution_count": null,
   "metadata": {},
   "outputs": [],
   "source": [
    "from scipy.interpolate import griddata\n",
    "import numpy.ma as ma"
   ]
  },
  {
   "cell_type": "code",
   "execution_count": null,
   "metadata": {},
   "outputs": [],
   "source": [
    "# define grid.\n",
    "print(f\"boundary box: {bbox}\")\n",
    "lonspacing = 10\n",
    "xi = np.arange(bbox[0], \n",
    "               my_round(bbox[1], nearest=lonspacing, dir='up')+1, \n",
    "               lonspacing)\n",
    "latspacing = 10\n",
    "yi = np.arange(bbox[2],\n",
    "               my_round(bbox[3], nearest=latspacing, dir='up')+1,  \n",
    "               latspacing)\n",
    "print(f\"shape of interpolation grid: {(xi.shape, yi.shape)}\")"
   ]
  },
  {
   "cell_type": "code",
   "execution_count": null,
   "metadata": {},
   "outputs": [],
   "source": [
    "# grid the data.\n",
    "zi = griddata((lon, lat), dat, (xi[None,:], yi[:,None]), method='nearest')\n",
    "npts = len(dat)\n",
    "\n",
    "zi = np.ma.masked_invalid(zi)"
   ]
  },
  {
   "cell_type": "code",
   "execution_count": null,
   "metadata": {},
   "outputs": [],
   "source": [
    "fig, ax = make_my_map(projection=ccrs.PlateCarree())\n",
    "\n",
    "# contour the gridded data, plotting dots at the randomly spaced data points.\n",
    "CS = ax.contour(xi, yi, zi, 15, linewidths=0.5, colors='k')\n",
    "CS = ax.contourf(xi, yi, zi, 15, cmap=cmap, norm=cnorm)\n",
    "\n",
    "# plot data points.\n",
    "# plt.scatter(lon, lat, marker='o',c='b',s=5)\n",
    "# sc = ax.scatter(lon.values, lat.values, c=dat.values, alpha=0.4, \n",
    "#                 cmap=cmap, norm=cnorm, edgecolors='gray')\n",
    "sc = ax.scatter(lon.values, lat.values, c=dat.values, alpha=0.4, \n",
    "                   cmap=cmap, norm=cnorm, edgecolors='gray',\n",
    "                   transform=ccrs.PlateCarree())\n",
    "\n",
    "\n",
    "fig.colorbar(CS, shrink=.8, pad=0.05, orientation='horizontal')\n",
    "\n",
    "plt.title('griddata test (%d points)' % npts)\n",
    "plt.show()"
   ]
  },
  {
   "cell_type": "markdown",
   "metadata": {},
   "source": [
    "## Try a cross-section"
   ]
  },
  {
   "cell_type": "code",
   "execution_count": null,
   "metadata": {},
   "outputs": [],
   "source": [
    "from metpy.interpolate import cross_section"
   ]
  },
  {
   "cell_type": "code",
   "execution_count": null,
   "metadata": {},
   "outputs": [],
   "source": [
    "ds_sub = ds_sub.metpy.parse_cf().squeeze()"
   ]
  },
  {
   "cell_type": "code",
   "execution_count": null,
   "metadata": {},
   "outputs": [],
   "source": [
    "start = (37.0, 65.0)\n",
    "end = (35.5, 105.0)"
   ]
  },
  {
   "cell_type": "code",
   "execution_count": null,
   "metadata": {},
   "outputs": [],
   "source": [
    "cross = cross_section(ds_sub, start, end)  #.set_coords(('latitude', 'longitude'))\n",
    "print(cross)"
   ]
  },
  {
   "cell_type": "markdown",
   "metadata": {},
   "source": [
    "## Plot"
   ]
  },
  {
   "cell_type": "code",
   "execution_count": null,
   "metadata": {},
   "outputs": [],
   "source": [
    "# Turn interactive plotting off\n",
    "plt.ioff()"
   ]
  },
  {
   "cell_type": "code",
   "execution_count": null,
   "metadata": {},
   "outputs": [],
   "source": [
    "sns.set_style(\"whitegrid\", {'grid.linestyle': '--'})"
   ]
  },
  {
   "cell_type": "markdown",
   "metadata": {},
   "source": [
    "Are the observations all from the same elevation and location?"
   ]
  },
  {
   "cell_type": "code",
   "execution_count": null,
   "metadata": {},
   "outputs": [],
   "source": [
    "fig, axs = plt.subplots(ncols=3, figsize=(14, 4))\n",
    "\n",
    "axs[0].plot(ds['elevation'], label='elevation')\n",
    "axs[1].plot(ds['latitude'], label='lat')\n",
    "axs[2].plot(ds['longitude'], label='lon')\n",
    "for ax in axs:\n",
    "    ax.legend()"
   ]
  },
  {
   "cell_type": "markdown",
   "metadata": {},
   "source": [
    "What do the CO2 values look like?"
   ]
  },
  {
   "cell_type": "code",
   "execution_count": null,
   "metadata": {},
   "outputs": [],
   "source": [
    "# ---- Set up Figure ----\n",
    "sns.set_style(\"whitegrid\", {'grid.linestyle': '--'})\n",
    "fig, ax = plt.subplots(figsize=(12, 12))\n",
    "\n",
    "# ---- Plot ----\n",
    "ax.scatter(ds['time'], ds['value'], marker='o')  #, label='$value$')\n",
    "\n",
    "# ---- Set up figure properties ----\n",
    "ax.set_ylabel(f\"{ds['value'].attrs['units']}\")\n",
    "ax.set_title(f\"{ds['value'].attrs['long_name']}\")"
   ]
  },
  {
   "cell_type": "code",
   "execution_count": null,
   "metadata": {},
   "outputs": [],
   "source": []
  }
 ],
 "metadata": {
  "kernelspec": {
   "display_name": "co2eval_py3.8",
   "language": "python",
   "name": "co2eval_py3.8"
  },
  "language_info": {
   "codemirror_mode": {
    "name": "ipython",
    "version": 3
   },
   "file_extension": ".py",
   "mimetype": "text/x-python",
   "name": "python",
   "nbconvert_exporter": "python",
   "pygments_lexer": "ipython3",
   "version": "3.8.5"
  },
  "toc": {
   "base_numbering": 1,
   "nav_menu": {},
   "number_sections": true,
   "sideBar": true,
   "skip_h1_title": false,
   "title_cell": "Table of Contents",
   "title_sidebar": "Contents",
   "toc_cell": false,
   "toc_position": {},
   "toc_section_display": true,
   "toc_window_display": false
  },
  "varInspector": {
   "cols": {
    "lenName": 16,
    "lenType": 16,
    "lenVar": 40
   },
   "kernels_config": {
    "python": {
     "delete_cmd_postfix": "",
     "delete_cmd_prefix": "del ",
     "library": "var_list.py",
     "varRefreshCmd": "print(var_dic_list())"
    },
    "r": {
     "delete_cmd_postfix": ") ",
     "delete_cmd_prefix": "rm(",
     "library": "var_list.r",
     "varRefreshCmd": "cat(var_dic_list()) "
    }
   },
   "types_to_exclude": [
    "module",
    "function",
    "builtin_function_or_method",
    "instance",
    "_Feature"
   ],
   "window_display": false
  }
 },
 "nbformat": 4,
 "nbformat_minor": 4
}
